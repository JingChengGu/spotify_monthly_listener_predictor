{
 "cells": [
  {
   "cell_type": "code",
   "execution_count": 80,
   "id": "02ee05af",
   "metadata": {},
   "outputs": [],
   "source": [
    "import pandas as pd\n",
    "import numpy as np\n",
    "from sklearn.linear_model import LinearRegression\n",
    "from sklearn.model_selection import train_test_split\n",
    "from sklearn.metrics import mean_squared_error, r2_score\n",
    "import matplotlib.pyplot as plt"
   ]
  },
  {
   "cell_type": "code",
   "execution_count": 81,
   "id": "e8608c2c",
   "metadata": {},
   "outputs": [],
   "source": [
    "df = pd.read_csv('assets/cleaned_spotify_data.csv')"
   ]
  },
  {
   "cell_type": "code",
   "execution_count": 82,
   "id": "f653f704",
   "metadata": {},
   "outputs": [
    {
     "data": {
      "text/html": [
       "<div>\n",
       "<style scoped>\n",
       "    .dataframe tbody tr th:only-of-type {\n",
       "        vertical-align: middle;\n",
       "    }\n",
       "\n",
       "    .dataframe tbody tr th {\n",
       "        vertical-align: top;\n",
       "    }\n",
       "\n",
       "    .dataframe thead th {\n",
       "        text-align: right;\n",
       "    }\n",
       "</style>\n",
       "<table border=\"1\" class=\"dataframe\">\n",
       "  <thead>\n",
       "    <tr style=\"text-align: right;\">\n",
       "      <th></th>\n",
       "      <th>dates</th>\n",
       "      <th>names</th>\n",
       "      <th>monthly_listeners</th>\n",
       "      <th>popularity</th>\n",
       "      <th>followers</th>\n",
       "      <th>genres</th>\n",
       "      <th>first_release_year</th>\n",
       "      <th>last_release_year</th>\n",
       "      <th>playlists_found</th>\n",
       "    </tr>\n",
       "  </thead>\n",
       "  <tbody>\n",
       "    <tr>\n",
       "      <th>0</th>\n",
       "      <td>2024-04-01</td>\n",
       "      <td>stayc</td>\n",
       "      <td>3049521.0</td>\n",
       "      <td>63</td>\n",
       "      <td>1782552</td>\n",
       "      <td>k-pop, k-pop girl group</td>\n",
       "      <td>2020</td>\n",
       "      <td>2024</td>\n",
       "      <td>K-Pop ON! (온)</td>\n",
       "    </tr>\n",
       "    <tr>\n",
       "      <th>1</th>\n",
       "      <td>2024-04-01</td>\n",
       "      <td>langhorne slim</td>\n",
       "      <td>1060777.0</td>\n",
       "      <td>51</td>\n",
       "      <td>163686</td>\n",
       "      <td>anti-folk, indie folk, modern folk rock, new a...</td>\n",
       "      <td>2008</td>\n",
       "      <td>2023</td>\n",
       "      <td>Sunrise Run</td>\n",
       "    </tr>\n",
       "    <tr>\n",
       "      <th>2</th>\n",
       "      <td>2024-04-01</td>\n",
       "      <td>hontoni</td>\n",
       "      <td>119199.0</td>\n",
       "      <td>35</td>\n",
       "      <td>60</td>\n",
       "      <td>NaN</td>\n",
       "      <td>2021</td>\n",
       "      <td>2024</td>\n",
       "      <td>Meditate to the Sounds of Nature</td>\n",
       "    </tr>\n",
       "    <tr>\n",
       "      <th>3</th>\n",
       "      <td>2024-04-01</td>\n",
       "      <td>d'verti</td>\n",
       "      <td>46999.0</td>\n",
       "      <td>29</td>\n",
       "      <td>42</td>\n",
       "      <td>NaN</td>\n",
       "      <td>2022</td>\n",
       "      <td>2024</td>\n",
       "      <td>Meditate to the Sounds of Nature</td>\n",
       "    </tr>\n",
       "    <tr>\n",
       "      <th>4</th>\n",
       "      <td>2024-04-01</td>\n",
       "      <td>luke bryan</td>\n",
       "      <td>10460890.0</td>\n",
       "      <td>76</td>\n",
       "      <td>8487512</td>\n",
       "      <td>contemporary country, country, country road, m...</td>\n",
       "      <td>2007</td>\n",
       "      <td>2023</td>\n",
       "      <td>Sunrise Run</td>\n",
       "    </tr>\n",
       "  </tbody>\n",
       "</table>\n",
       "</div>"
      ],
      "text/plain": [
       "        dates           names  monthly_listeners  popularity  followers  \\\n",
       "0  2024-04-01           stayc          3049521.0          63    1782552   \n",
       "1  2024-04-01  langhorne slim          1060777.0          51     163686   \n",
       "2  2024-04-01         hontoni           119199.0          35         60   \n",
       "3  2024-04-01         d'verti            46999.0          29         42   \n",
       "4  2024-04-01      luke bryan         10460890.0          76    8487512   \n",
       "\n",
       "                                              genres  first_release_year  \\\n",
       "0                            k-pop, k-pop girl group                2020   \n",
       "1  anti-folk, indie folk, modern folk rock, new a...                2008   \n",
       "2                                                NaN                2021   \n",
       "3                                                NaN                2022   \n",
       "4  contemporary country, country, country road, m...                2007   \n",
       "\n",
       "   last_release_year                   playlists_found  \n",
       "0               2024                     K-Pop ON! (온)  \n",
       "1               2023                       Sunrise Run  \n",
       "2               2024  Meditate to the Sounds of Nature  \n",
       "3               2024  Meditate to the Sounds of Nature  \n",
       "4               2023                       Sunrise Run  "
      ]
     },
     "execution_count": 82,
     "metadata": {},
     "output_type": "execute_result"
    }
   ],
   "source": [
    "df.head()"
   ]
  },
  {
   "cell_type": "markdown",
   "id": "b152d926",
   "metadata": {},
   "source": [
    "### Feature Engineering"
   ]
  },
  {
   "cell_type": "code",
   "execution_count": 83,
   "id": "3d7979f9",
   "metadata": {},
   "outputs": [],
   "source": [
    "# Creating a new feature called 'active_years' using 'last_release_year' - 'first_release_year'\n",
    "#df['active_years'] = df['last_release_year'] - df['first_release_year']\n",
    "#df.head()"
   ]
  },
  {
   "cell_type": "code",
   "execution_count": 84,
   "id": "335f6c32",
   "metadata": {},
   "outputs": [
    {
     "data": {
      "text/html": [
       "<div>\n",
       "<style scoped>\n",
       "    .dataframe tbody tr th:only-of-type {\n",
       "        vertical-align: middle;\n",
       "    }\n",
       "\n",
       "    .dataframe tbody tr th {\n",
       "        vertical-align: top;\n",
       "    }\n",
       "\n",
       "    .dataframe thead th {\n",
       "        text-align: right;\n",
       "    }\n",
       "</style>\n",
       "<table border=\"1\" class=\"dataframe\">\n",
       "  <thead>\n",
       "    <tr style=\"text-align: right;\">\n",
       "      <th></th>\n",
       "      <th>dates</th>\n",
       "      <th>names</th>\n",
       "      <th>monthly_listeners</th>\n",
       "      <th>popularity</th>\n",
       "      <th>followers</th>\n",
       "      <th>genres</th>\n",
       "      <th>first_release_year</th>\n",
       "      <th>last_release_year</th>\n",
       "      <th>playlists_found</th>\n",
       "      <th>log_followers</th>\n",
       "    </tr>\n",
       "  </thead>\n",
       "  <tbody>\n",
       "    <tr>\n",
       "      <th>0</th>\n",
       "      <td>2024-04-01</td>\n",
       "      <td>stayc</td>\n",
       "      <td>3049521.0</td>\n",
       "      <td>63</td>\n",
       "      <td>1782552</td>\n",
       "      <td>k-pop, k-pop girl group</td>\n",
       "      <td>2020</td>\n",
       "      <td>2024</td>\n",
       "      <td>K-Pop ON! (온)</td>\n",
       "      <td>14.39</td>\n",
       "    </tr>\n",
       "    <tr>\n",
       "      <th>1</th>\n",
       "      <td>2024-04-01</td>\n",
       "      <td>langhorne slim</td>\n",
       "      <td>1060777.0</td>\n",
       "      <td>51</td>\n",
       "      <td>163686</td>\n",
       "      <td>anti-folk, indie folk, modern folk rock, new a...</td>\n",
       "      <td>2008</td>\n",
       "      <td>2023</td>\n",
       "      <td>Sunrise Run</td>\n",
       "      <td>12.01</td>\n",
       "    </tr>\n",
       "    <tr>\n",
       "      <th>2</th>\n",
       "      <td>2024-04-01</td>\n",
       "      <td>hontoni</td>\n",
       "      <td>119199.0</td>\n",
       "      <td>35</td>\n",
       "      <td>60</td>\n",
       "      <td>NaN</td>\n",
       "      <td>2021</td>\n",
       "      <td>2024</td>\n",
       "      <td>Meditate to the Sounds of Nature</td>\n",
       "      <td>4.11</td>\n",
       "    </tr>\n",
       "    <tr>\n",
       "      <th>3</th>\n",
       "      <td>2024-04-01</td>\n",
       "      <td>d'verti</td>\n",
       "      <td>46999.0</td>\n",
       "      <td>29</td>\n",
       "      <td>42</td>\n",
       "      <td>NaN</td>\n",
       "      <td>2022</td>\n",
       "      <td>2024</td>\n",
       "      <td>Meditate to the Sounds of Nature</td>\n",
       "      <td>3.76</td>\n",
       "    </tr>\n",
       "    <tr>\n",
       "      <th>4</th>\n",
       "      <td>2024-04-01</td>\n",
       "      <td>luke bryan</td>\n",
       "      <td>10460890.0</td>\n",
       "      <td>76</td>\n",
       "      <td>8487512</td>\n",
       "      <td>contemporary country, country, country road, m...</td>\n",
       "      <td>2007</td>\n",
       "      <td>2023</td>\n",
       "      <td>Sunrise Run</td>\n",
       "      <td>15.95</td>\n",
       "    </tr>\n",
       "  </tbody>\n",
       "</table>\n",
       "</div>"
      ],
      "text/plain": [
       "        dates           names  monthly_listeners  popularity  followers  \\\n",
       "0  2024-04-01           stayc          3049521.0          63    1782552   \n",
       "1  2024-04-01  langhorne slim          1060777.0          51     163686   \n",
       "2  2024-04-01         hontoni           119199.0          35         60   \n",
       "3  2024-04-01         d'verti            46999.0          29         42   \n",
       "4  2024-04-01      luke bryan         10460890.0          76    8487512   \n",
       "\n",
       "                                              genres  first_release_year  \\\n",
       "0                            k-pop, k-pop girl group                2020   \n",
       "1  anti-folk, indie folk, modern folk rock, new a...                2008   \n",
       "2                                                NaN                2021   \n",
       "3                                                NaN                2022   \n",
       "4  contemporary country, country, country road, m...                2007   \n",
       "\n",
       "   last_release_year                   playlists_found  log_followers  \n",
       "0               2024                     K-Pop ON! (온)          14.39  \n",
       "1               2023                       Sunrise Run          12.01  \n",
       "2               2024  Meditate to the Sounds of Nature           4.11  \n",
       "3               2024  Meditate to the Sounds of Nature           3.76  \n",
       "4               2023                       Sunrise Run          15.95  "
      ]
     },
     "execution_count": 84,
     "metadata": {},
     "output_type": "execute_result"
    }
   ],
   "source": [
    "# creating new log_followers feature\n",
    "df['log_followers'] = round(np.log1p(df['followers']), 2)\n",
    "df.head()"
   ]
  },
  {
   "cell_type": "markdown",
   "id": "1cff84a5",
   "metadata": {},
   "source": [
    "### Data Splitting"
   ]
  },
  {
   "cell_type": "code",
   "execution_count": 85,
   "id": "75e80c9e",
   "metadata": {},
   "outputs": [],
   "source": [
    "y = df['monthly_listeners']\n",
    "X = df.drop(['monthly_listeners', 'dates', 'names', 'genres', 'playlists_found'], axis = 1)"
   ]
  },
  {
   "cell_type": "code",
   "execution_count": 86,
   "id": "b1fe479c",
   "metadata": {},
   "outputs": [],
   "source": [
    "X_train, X_test, y_train, y_test = train_test_split(X, y, test_size = 0.2, random_state = 100)"
   ]
  },
  {
   "cell_type": "code",
   "execution_count": 87,
   "id": "75364ae0",
   "metadata": {},
   "outputs": [
    {
     "data": {
      "text/html": [
       "<div>\n",
       "<style scoped>\n",
       "    .dataframe tbody tr th:only-of-type {\n",
       "        vertical-align: middle;\n",
       "    }\n",
       "\n",
       "    .dataframe tbody tr th {\n",
       "        vertical-align: top;\n",
       "    }\n",
       "\n",
       "    .dataframe thead th {\n",
       "        text-align: right;\n",
       "    }\n",
       "</style>\n",
       "<table border=\"1\" class=\"dataframe\">\n",
       "  <thead>\n",
       "    <tr style=\"text-align: right;\">\n",
       "      <th></th>\n",
       "      <th>popularity</th>\n",
       "      <th>followers</th>\n",
       "      <th>first_release_year</th>\n",
       "      <th>last_release_year</th>\n",
       "      <th>log_followers</th>\n",
       "    </tr>\n",
       "  </thead>\n",
       "  <tbody>\n",
       "    <tr>\n",
       "      <th>18694</th>\n",
       "      <td>29</td>\n",
       "      <td>24186</td>\n",
       "      <td>2009</td>\n",
       "      <td>2024</td>\n",
       "      <td>10.09</td>\n",
       "    </tr>\n",
       "    <tr>\n",
       "      <th>16449</th>\n",
       "      <td>35</td>\n",
       "      <td>5</td>\n",
       "      <td>2024</td>\n",
       "      <td>2024</td>\n",
       "      <td>1.79</td>\n",
       "    </tr>\n",
       "    <tr>\n",
       "      <th>3594</th>\n",
       "      <td>39</td>\n",
       "      <td>1322</td>\n",
       "      <td>2022</td>\n",
       "      <td>2024</td>\n",
       "      <td>7.19</td>\n",
       "    </tr>\n",
       "    <tr>\n",
       "      <th>22792</th>\n",
       "      <td>56</td>\n",
       "      <td>1114548</td>\n",
       "      <td>1994</td>\n",
       "      <td>2023</td>\n",
       "      <td>13.92</td>\n",
       "    </tr>\n",
       "    <tr>\n",
       "      <th>5365</th>\n",
       "      <td>73</td>\n",
       "      <td>6396889</td>\n",
       "      <td>2004</td>\n",
       "      <td>2024</td>\n",
       "      <td>15.67</td>\n",
       "    </tr>\n",
       "    <tr>\n",
       "      <th>...</th>\n",
       "      <td>...</td>\n",
       "      <td>...</td>\n",
       "      <td>...</td>\n",
       "      <td>...</td>\n",
       "      <td>...</td>\n",
       "    </tr>\n",
       "    <tr>\n",
       "      <th>12119</th>\n",
       "      <td>29</td>\n",
       "      <td>1171</td>\n",
       "      <td>2019</td>\n",
       "      <td>2023</td>\n",
       "      <td>7.07</td>\n",
       "    </tr>\n",
       "    <tr>\n",
       "      <th>24423</th>\n",
       "      <td>69</td>\n",
       "      <td>569007</td>\n",
       "      <td>2018</td>\n",
       "      <td>2024</td>\n",
       "      <td>13.25</td>\n",
       "    </tr>\n",
       "    <tr>\n",
       "      <th>14147</th>\n",
       "      <td>83</td>\n",
       "      <td>4634414</td>\n",
       "      <td>2021</td>\n",
       "      <td>2024</td>\n",
       "      <td>15.35</td>\n",
       "    </tr>\n",
       "    <tr>\n",
       "      <th>23320</th>\n",
       "      <td>37</td>\n",
       "      <td>265</td>\n",
       "      <td>2022</td>\n",
       "      <td>2024</td>\n",
       "      <td>5.58</td>\n",
       "    </tr>\n",
       "    <tr>\n",
       "      <th>5640</th>\n",
       "      <td>86</td>\n",
       "      <td>2054804</td>\n",
       "      <td>2021</td>\n",
       "      <td>2024</td>\n",
       "      <td>14.54</td>\n",
       "    </tr>\n",
       "  </tbody>\n",
       "</table>\n",
       "<p>21937 rows × 5 columns</p>\n",
       "</div>"
      ],
      "text/plain": [
       "       popularity  followers  first_release_year  last_release_year  \\\n",
       "18694          29      24186                2009               2024   \n",
       "16449          35          5                2024               2024   \n",
       "3594           39       1322                2022               2024   \n",
       "22792          56    1114548                1994               2023   \n",
       "5365           73    6396889                2004               2024   \n",
       "...           ...        ...                 ...                ...   \n",
       "12119          29       1171                2019               2023   \n",
       "24423          69     569007                2018               2024   \n",
       "14147          83    4634414                2021               2024   \n",
       "23320          37        265                2022               2024   \n",
       "5640           86    2054804                2021               2024   \n",
       "\n",
       "       log_followers  \n",
       "18694          10.09  \n",
       "16449           1.79  \n",
       "3594            7.19  \n",
       "22792          13.92  \n",
       "5365           15.67  \n",
       "...              ...  \n",
       "12119           7.07  \n",
       "24423          13.25  \n",
       "14147          15.35  \n",
       "23320           5.58  \n",
       "5640           14.54  \n",
       "\n",
       "[21937 rows x 5 columns]"
      ]
     },
     "execution_count": 87,
     "metadata": {},
     "output_type": "execute_result"
    }
   ],
   "source": [
    "X_train"
   ]
  },
  {
   "cell_type": "markdown",
   "id": "d2296cef",
   "metadata": {},
   "source": [
    "### Linear Regression"
   ]
  },
  {
   "cell_type": "code",
   "execution_count": 88,
   "id": "8f1e2419",
   "metadata": {},
   "outputs": [],
   "source": [
    "lr = LinearRegression().fit(X_train, y_train)"
   ]
  },
  {
   "cell_type": "code",
   "execution_count": 89,
   "id": "8fe2562e",
   "metadata": {},
   "outputs": [],
   "source": [
    "# recall step. Testing model on trained data\n",
    "y_lr_train_pred = lr.predict(X_train)\n",
    "\n",
    "# testing step. Testing model on unseen data\n",
    "y_lr_test_pred = lr.predict(X_test)"
   ]
  },
  {
   "cell_type": "code",
   "execution_count": 90,
   "id": "40617ca5",
   "metadata": {},
   "outputs": [
    {
     "data": {
      "text/plain": [
       "18694       13010.0\n",
       "16449      129980.0\n",
       "3594       174096.0\n",
       "22792     2255559.0\n",
       "5365     16986046.0\n",
       "            ...    \n",
       "12119       68007.0\n",
       "24423    15828796.0\n",
       "14147    19764628.0\n",
       "23320      146891.0\n",
       "5640     59588927.0\n",
       "Name: monthly_listeners, Length: 21937, dtype: float64"
      ]
     },
     "execution_count": 90,
     "metadata": {},
     "output_type": "execute_result"
    }
   ],
   "source": [
    "y_train"
   ]
  },
  {
   "cell_type": "markdown",
   "id": "70315ddc",
   "metadata": {},
   "source": [
    "### Evaluate Model Performance"
   ]
  },
  {
   "cell_type": "code",
   "execution_count": 91,
   "id": "9402556c",
   "metadata": {},
   "outputs": [],
   "source": [
    "lr_train_mse = mean_squared_error(y_train, y_lr_train_pred)\n",
    "lr_train_r2 = r2_score(y_train, y_lr_train_pred)\n",
    "\n",
    "lr_test_mse = mean_squared_error(y_test, y_lr_test_pred)\n",
    "lr_test_r2 = r2_score(y_test, y_lr_test_pred)"
   ]
  },
  {
   "cell_type": "code",
   "execution_count": 92,
   "id": "1b7ee4dd",
   "metadata": {},
   "outputs": [
    {
     "name": "stdout",
     "output_type": "stream",
     "text": [
      "Linear Regression MSE (Train): 39030402025252.09\n",
      "Linear Regression R2 (Train): 0.743602623543351\n",
      "Linear Regression MSE (Test): 38411205574113.51\n",
      "Linear Regression R2 (Test): 0.7302947739180652\n"
     ]
    }
   ],
   "source": [
    "print(\"Linear Regression MSE (Train):\", lr_train_mse)\n",
    "print(\"Linear Regression R2 (Train):\", lr_train_r2)\n",
    "print(\"Linear Regression MSE (Test):\", lr_test_mse)\n",
    "print(\"Linear Regression R2 (Test):\", lr_test_r2)"
   ]
  },
  {
   "cell_type": "code",
   "execution_count": 93,
   "id": "2138282b",
   "metadata": {},
   "outputs": [
    {
     "data": {
      "text/plain": [
       "Text(0.5, 0, 'Actual Monthly Listens')"
      ]
     },
     "execution_count": 93,
     "metadata": {},
     "output_type": "execute_result"
    },
    {
     "data": {
      "image/png": "[encoded data removed]",
      "text/plain": [
       "<Figure size 640x480 with 1 Axes>"
      ]
     },
     "metadata": {},
     "output_type": "display_data"
    }
   ],
   "source": [
    "plt.scatter(x = y_train, y = y_lr_train_pred)\n",
    "# line of best fit\n",
    "z = np.polyfit(y_train, y_lr_train_pred, 1)\n",
    "p = np.poly1d(z)\n",
    "\n",
    "plt.plot(y_train, p(y_train), '#F87')\n",
    "plt.ylabel('Predict Monthly Listens')\n",
    "plt.xlabel('Actual Monthly Listens')"
   ]
  },
  {
   "cell_type": "code",
   "execution_count": 94,
   "id": "849002cd",
   "metadata": {},
   "outputs": [
    {
     "data": {
      "text/html": [
       "<div>\n",
       "<style scoped>\n",
       "    .dataframe tbody tr th:only-of-type {\n",
       "        vertical-align: middle;\n",
       "    }\n",
       "\n",
       "    .dataframe tbody tr th {\n",
       "        vertical-align: top;\n",
       "    }\n",
       "\n",
       "    .dataframe thead th {\n",
       "        text-align: right;\n",
       "    }\n",
       "</style>\n",
       "<table border=\"1\" class=\"dataframe\">\n",
       "  <thead>\n",
       "    <tr style=\"text-align: right;\">\n",
       "      <th></th>\n",
       "      <th>Method</th>\n",
       "      <th>Training MSE</th>\n",
       "      <th>Training R2</th>\n",
       "      <th>Test MSE</th>\n",
       "      <th>Test R2</th>\n",
       "    </tr>\n",
       "  </thead>\n",
       "  <tbody>\n",
       "    <tr>\n",
       "      <th>0</th>\n",
       "      <td>Linear Regression</td>\n",
       "      <td>39030402025252.09375</td>\n",
       "      <td>0.743603</td>\n",
       "      <td>38411205574113.507812</td>\n",
       "      <td>0.730295</td>\n",
       "    </tr>\n",
       "  </tbody>\n",
       "</table>\n",
       "</div>"
      ],
      "text/plain": [
       "              Method          Training MSE Training R2               Test MSE  \\\n",
       "0  Linear Regression  39030402025252.09375    0.743603  38411205574113.507812   \n",
       "\n",
       "    Test R2  \n",
       "0  0.730295  "
      ]
     },
     "execution_count": 94,
     "metadata": {},
     "output_type": "execute_result"
    }
   ],
   "source": [
    "lr_results = pd.DataFrame(['Linear Regression', lr_train_mse, lr_train_r2, lr_test_mse, lr_test_r2]).transpose()\n",
    "lr_results.columns = ['Method', 'Training MSE', 'Training R2', 'Test MSE', 'Test R2']\n",
    "lr_results"
   ]
  },
  {
   "cell_type": "markdown",
   "id": "dc3c82b9",
   "metadata": {},
   "source": [
    "### Testing Ridge/Lasso Model"
   ]
  },
  {
   "cell_type": "code",
   "execution_count": 95,
   "id": "553b10e5",
   "metadata": {},
   "outputs": [],
   "source": [
    "from sklearn.linear_model import Ridge\n",
    "rg = Ridge().fit(X_train, y_train) "
   ]
  },
  {
   "cell_type": "code",
   "execution_count": 96,
   "id": "47bd02c0",
   "metadata": {},
   "outputs": [],
   "source": [
    "# Recall\n",
    "y_rg_train_pred = rg.predict(X_train)\n",
    "\n",
    "# testing\n",
    "y_rg_test_pred = rg.predict(X_test)\n"
   ]
  },
  {
   "cell_type": "code",
   "execution_count": 97,
   "id": "beee8b70",
   "metadata": {},
   "outputs": [
    {
     "data": {
      "text/plain": [
       "18694       13010.0\n",
       "16449      129980.0\n",
       "3594       174096.0\n",
       "22792     2255559.0\n",
       "5365     16986046.0\n",
       "            ...    \n",
       "12119       68007.0\n",
       "24423    15828796.0\n",
       "14147    19764628.0\n",
       "23320      146891.0\n",
       "5640     59588927.0\n",
       "Name: monthly_listeners, Length: 21937, dtype: float64"
      ]
     },
     "execution_count": 97,
     "metadata": {},
     "output_type": "execute_result"
    }
   ],
   "source": [
    "y_train"
   ]
  },
  {
   "cell_type": "code",
   "execution_count": 98,
   "id": "34c58253",
   "metadata": {},
   "outputs": [
    {
     "data": {
      "text/plain": [
       "array([-1532183.68777462,   138052.29635087,   919852.29385677, ...,\n",
       "       16195274.6949106 ,   490164.71309726, 14560773.08934541])"
      ]
     },
     "execution_count": 98,
     "metadata": {},
     "output_type": "execute_result"
    }
   ],
   "source": [
    "y_rg_train_pred"
   ]
  },
  {
   "cell_type": "code",
   "execution_count": 99,
   "id": "e69ecf37",
   "metadata": {},
   "outputs": [],
   "source": [
    "rg_train_mse = mean_squared_error(y_train, y_rg_train_pred)\n",
    "rg_train_r2 = r2_score(y_train, y_rg_train_pred)\n",
    "\n",
    "rg_test_mse = mean_squared_error(y_test, y_rg_test_pred)\n",
    "rg_test_r2 = r2_score(y_test, y_rg_test_pred)"
   ]
  },
  {
   "cell_type": "code",
   "execution_count": 100,
   "id": "9aab5a73",
   "metadata": {},
   "outputs": [
    {
     "name": "stdout",
     "output_type": "stream",
     "text": [
      "Ridge Regression MSE (Train): 39030402025258.01\n",
      "Ridge Regression R2 (Train): 0.7436026235433122\n",
      "Ridge Regression MSE (Test): 38411205724529.555\n",
      "Ridge Regression R2 (Test): 0.7302947728619151\n"
     ]
    }
   ],
   "source": [
    "print(\"Ridge Regression MSE (Train):\", rg_train_mse)\n",
    "print(\"Ridge Regression R2 (Train):\", rg_train_r2)\n",
    "print(\"Ridge Regression MSE (Test):\", rg_test_mse)\n",
    "print(\"Ridge Regression R2 (Test):\", rg_test_r2)"
   ]
  },
  {
   "cell_type": "code",
   "execution_count": 101,
   "id": "4ab48163",
   "metadata": {},
   "outputs": [
    {
     "data": {
      "image/png": "[encoded data removed]",
      "text/plain": [
       "<Figure size 640x480 with 1 Axes>"
      ]
     },
     "metadata": {},
     "output_type": "display_data"
    }
   ],
   "source": [
    "plt.scatter(y_train, y_rg_train_pred)\n",
    "\n",
    "z = np.polyfit(y_train, y_rg_train_pred, 1)\n",
    "p = np.poly1d(z)\n",
    "\n",
    "plt.plot(y_train, p(y_train), \"#F87\")\n",
    "plt.ylabel('Predicted Monthly Listener')\n",
    "plt.xlabel('Actual Monthly Listener')\n",
    "plt.show()"
   ]
  },
  {
   "cell_type": "code",
   "execution_count": 102,
   "id": "a4a47841",
   "metadata": {},
   "outputs": [
    {
     "data": {
      "text/html": [
       "<div>\n",
       "<style scoped>\n",
       "    .dataframe tbody tr th:only-of-type {\n",
       "        vertical-align: middle;\n",
       "    }\n",
       "\n",
       "    .dataframe tbody tr th {\n",
       "        vertical-align: top;\n",
       "    }\n",
       "\n",
       "    .dataframe thead th {\n",
       "        text-align: right;\n",
       "    }\n",
       "</style>\n",
       "<table border=\"1\" class=\"dataframe\">\n",
       "  <thead>\n",
       "    <tr style=\"text-align: right;\">\n",
       "      <th></th>\n",
       "      <th>Method</th>\n",
       "      <th>Training MSE</th>\n",
       "      <th>Training R2</th>\n",
       "      <th>Test MSE</th>\n",
       "      <th>Test R2</th>\n",
       "    </tr>\n",
       "  </thead>\n",
       "  <tbody>\n",
       "    <tr>\n",
       "      <th>0</th>\n",
       "      <td>Ridge Regression</td>\n",
       "      <td>39030402025258.007812</td>\n",
       "      <td>0.743603</td>\n",
       "      <td>38411205724529.554688</td>\n",
       "      <td>0.730295</td>\n",
       "    </tr>\n",
       "  </tbody>\n",
       "</table>\n",
       "</div>"
      ],
      "text/plain": [
       "             Method           Training MSE Training R2               Test MSE  \\\n",
       "0  Ridge Regression  39030402025258.007812    0.743603  38411205724529.554688   \n",
       "\n",
       "    Test R2  \n",
       "0  0.730295  "
      ]
     },
     "execution_count": 102,
     "metadata": {},
     "output_type": "execute_result"
    }
   ],
   "source": [
    "rg_results = pd.DataFrame(['Ridge Regression', rg_train_mse, rg_train_r2, rg_test_mse, rg_test_r2]).transpose()\n",
    "rg_results.columns = ['Method', 'Training MSE', 'Training R2', 'Test MSE', 'Test R2']\n",
    "rg_results"
   ]
  },
  {
   "cell_type": "code",
   "execution_count": 103,
   "id": "b252befa",
   "metadata": {},
   "outputs": [
    {
     "data": {
      "text/html": [
       "<div>\n",
       "<style scoped>\n",
       "    .dataframe tbody tr th:only-of-type {\n",
       "        vertical-align: middle;\n",
       "    }\n",
       "\n",
       "    .dataframe tbody tr th {\n",
       "        vertical-align: top;\n",
       "    }\n",
       "\n",
       "    .dataframe thead th {\n",
       "        text-align: right;\n",
       "    }\n",
       "</style>\n",
       "<table border=\"1\" class=\"dataframe\">\n",
       "  <thead>\n",
       "    <tr style=\"text-align: right;\">\n",
       "      <th></th>\n",
       "      <th>Method</th>\n",
       "      <th>Training MSE</th>\n",
       "      <th>Training R2</th>\n",
       "      <th>Test MSE</th>\n",
       "      <th>Test R2</th>\n",
       "    </tr>\n",
       "  </thead>\n",
       "  <tbody>\n",
       "    <tr>\n",
       "      <th>0</th>\n",
       "      <td>Linear Regression</td>\n",
       "      <td>39030402025252.09375</td>\n",
       "      <td>0.743603</td>\n",
       "      <td>38411205574113.507812</td>\n",
       "      <td>0.730295</td>\n",
       "    </tr>\n",
       "    <tr>\n",
       "      <th>1</th>\n",
       "      <td>Ridge Regression</td>\n",
       "      <td>39030402025258.007812</td>\n",
       "      <td>0.743603</td>\n",
       "      <td>38411205724529.554688</td>\n",
       "      <td>0.730295</td>\n",
       "    </tr>\n",
       "  </tbody>\n",
       "</table>\n",
       "</div>"
      ],
      "text/plain": [
       "              Method           Training MSE Training R2  \\\n",
       "0  Linear Regression   39030402025252.09375    0.743603   \n",
       "1   Ridge Regression  39030402025258.007812    0.743603   \n",
       "\n",
       "                Test MSE   Test R2  \n",
       "0  38411205574113.507812  0.730295  \n",
       "1  38411205724529.554688  0.730295  "
      ]
     },
     "execution_count": 103,
     "metadata": {},
     "output_type": "execute_result"
    }
   ],
   "source": [
    "model_comp = pd.concat([lr_results, rg_results], axis = 0).reset_index(drop=True)\n",
    "model_comp"
   ]
  },
  {
   "cell_type": "markdown",
   "id": "bbb1dbf1",
   "metadata": {},
   "source": [
    "### Testing Decision Tree Regressoin"
   ]
  },
  {
   "cell_type": "code",
   "execution_count": 104,
   "id": "d62d6c46",
   "metadata": {},
   "outputs": [],
   "source": [
    "from sklearn.tree import DecisionTreeRegressor\n",
    "tree = DecisionTreeRegressor().fit(X_train, y_train) "
   ]
  },
  {
   "cell_type": "code",
   "execution_count": 105,
   "id": "e0ddf1ab",
   "metadata": {},
   "outputs": [],
   "source": [
    "# recall\n",
    "y_tree_train_pred = tree.predict(X_train)\n",
    "\n",
    "# testing\n",
    "y_tree_test_pred = tree.predict(X_test)"
   ]
  },
  {
   "cell_type": "code",
   "execution_count": 106,
   "id": "25ccb7dc",
   "metadata": {},
   "outputs": [
    {
     "data": {
      "text/plain": [
       "26903    64317144.0\n",
       "8510       138135.0\n",
       "13111       22843.0\n",
       "1652     59506442.0\n",
       "10884      668526.0\n",
       "            ...    \n",
       "20491       22280.0\n",
       "7529       170046.0\n",
       "1513       656789.0\n",
       "19219      315506.0\n",
       "23812      279043.0\n",
       "Name: monthly_listeners, Length: 5485, dtype: float64"
      ]
     },
     "execution_count": 106,
     "metadata": {},
     "output_type": "execute_result"
    }
   ],
   "source": [
    "y_test"
   ]
  },
  {
   "cell_type": "code",
   "execution_count": 107,
   "id": "f20a6702",
   "metadata": {},
   "outputs": [
    {
     "data": {
      "text/plain": [
       "array([6.4254153e+07, 1.3654600e+05, 4.5855000e+04, ..., 6.5027400e+05,\n",
       "       2.9272900e+05, 4.0862900e+05])"
      ]
     },
     "execution_count": 107,
     "metadata": {},
     "output_type": "execute_result"
    }
   ],
   "source": [
    "y_tree_test_pred"
   ]
  },
  {
   "cell_type": "code",
   "execution_count": 108,
   "id": "9281707d",
   "metadata": {},
   "outputs": [],
   "source": [
    "# Evaluation\n",
    "tree_train_mse = mean_squared_error(y_train, y_tree_train_pred)\n",
    "tree_train_r2 = r2_score(y_train, y_tree_train_pred)\n",
    "\n",
    "tree_test_mse = mean_squared_error(y_test, y_tree_test_pred)\n",
    "tree_test_r2 = r2_score(y_test, y_tree_test_pred)"
   ]
  },
  {
   "cell_type": "code",
   "execution_count": 109,
   "id": "b29c4b3c",
   "metadata": {},
   "outputs": [
    {
     "name": "stdout",
     "output_type": "stream",
     "text": [
      "Decision Tree Regression MSE (Train): 89146306.47020416\n",
      "Decision Tree Regression R2 (Train): 0.9999994143826886\n",
      "Decision Tree Regression MSE (Test): 3925255436328.0103\n",
      "Decision Tree Regression R2 (Test): 0.9724387222670862\n"
     ]
    }
   ],
   "source": [
    "print(\"Decision Tree Regression MSE (Train):\", tree_train_mse)\n",
    "print(\"Decision Tree Regression R2 (Train):\", tree_train_r2)\n",
    "print(\"Decision Tree Regression MSE (Test):\", tree_test_mse)\n",
    "print(\"Decision Tree Regression R2 (Test):\", tree_test_r2)"
   ]
  },
  {
   "cell_type": "code",
   "execution_count": 110,
   "id": "b4ea04df",
   "metadata": {},
   "outputs": [
    {
     "data": {
      "text/plain": [
       "Text(0.5, 0, 'Actual Monthly Listeners')"
      ]
     },
     "execution_count": 110,
     "metadata": {},
     "output_type": "execute_result"
    },
    {
     "data": {
      "image/png": "[encoded data removed]",
      "text/plain": [
       "<Figure size 640x480 with 1 Axes>"
      ]
     },
     "metadata": {},
     "output_type": "display_data"
    }
   ],
   "source": [
    "plt.scatter(x = y_test, y = y_tree_test_pred)\n",
    "\n",
    "z = np.polyfit(y_train, y_tree_train_pred, 1)\n",
    "p = np.poly1d(z)\n",
    "\n",
    "plt.plot(y_train, p(y_train), \"#F87\")\n",
    "plt.ylabel('Predicted Monthly Listeners')\n",
    "plt.xlabel('Actual Monthly Listeners')"
   ]
  },
  {
   "cell_type": "code",
   "execution_count": 111,
   "id": "fb2c63fd",
   "metadata": {},
   "outputs": [
    {
     "data": {
      "text/html": [
       "<div>\n",
       "<style scoped>\n",
       "    .dataframe tbody tr th:only-of-type {\n",
       "        vertical-align: middle;\n",
       "    }\n",
       "\n",
       "    .dataframe tbody tr th {\n",
       "        vertical-align: top;\n",
       "    }\n",
       "\n",
       "    .dataframe thead th {\n",
       "        text-align: right;\n",
       "    }\n",
       "</style>\n",
       "<table border=\"1\" class=\"dataframe\">\n",
       "  <thead>\n",
       "    <tr style=\"text-align: right;\">\n",
       "      <th></th>\n",
       "      <th>Method</th>\n",
       "      <th>Training MSE</th>\n",
       "      <th>Training R2</th>\n",
       "      <th>Test MSE</th>\n",
       "      <th>Test R2</th>\n",
       "    </tr>\n",
       "  </thead>\n",
       "  <tbody>\n",
       "    <tr>\n",
       "      <th>0</th>\n",
       "      <td>Decision Tree Regression</td>\n",
       "      <td>89146306.470204</td>\n",
       "      <td>0.999999</td>\n",
       "      <td>3925255436328.010254</td>\n",
       "      <td>0.972439</td>\n",
       "    </tr>\n",
       "  </tbody>\n",
       "</table>\n",
       "</div>"
      ],
      "text/plain": [
       "                     Method     Training MSE Training R2  \\\n",
       "0  Decision Tree Regression  89146306.470204    0.999999   \n",
       "\n",
       "               Test MSE   Test R2  \n",
       "0  3925255436328.010254  0.972439  "
      ]
     },
     "execution_count": 111,
     "metadata": {},
     "output_type": "execute_result"
    }
   ],
   "source": [
    "tree_results = pd.DataFrame(['Decision Tree Regression', tree_train_mse, tree_train_r2, tree_test_mse, tree_test_r2]).transpose()\n",
    "tree_results.columns = ['Method', 'Training MSE', 'Training R2', 'Test MSE', 'Test R2']\n",
    "tree_results"
   ]
  },
  {
   "cell_type": "code",
   "execution_count": 112,
   "id": "5428118e",
   "metadata": {},
   "outputs": [
    {
     "data": {
      "text/html": [
       "<div>\n",
       "<style scoped>\n",
       "    .dataframe tbody tr th:only-of-type {\n",
       "        vertical-align: middle;\n",
       "    }\n",
       "\n",
       "    .dataframe tbody tr th {\n",
       "        vertical-align: top;\n",
       "    }\n",
       "\n",
       "    .dataframe thead th {\n",
       "        text-align: right;\n",
       "    }\n",
       "</style>\n",
       "<table border=\"1\" class=\"dataframe\">\n",
       "  <thead>\n",
       "    <tr style=\"text-align: right;\">\n",
       "      <th></th>\n",
       "      <th>Method</th>\n",
       "      <th>Training MSE</th>\n",
       "      <th>Training R2</th>\n",
       "      <th>Test MSE</th>\n",
       "      <th>Test R2</th>\n",
       "    </tr>\n",
       "  </thead>\n",
       "  <tbody>\n",
       "    <tr>\n",
       "      <th>0</th>\n",
       "      <td>Linear Regression</td>\n",
       "      <td>39030402025252.09375</td>\n",
       "      <td>0.743603</td>\n",
       "      <td>38411205574113.507812</td>\n",
       "      <td>0.730295</td>\n",
       "    </tr>\n",
       "    <tr>\n",
       "      <th>1</th>\n",
       "      <td>Ridge Regression</td>\n",
       "      <td>39030402025258.007812</td>\n",
       "      <td>0.743603</td>\n",
       "      <td>38411205724529.554688</td>\n",
       "      <td>0.730295</td>\n",
       "    </tr>\n",
       "    <tr>\n",
       "      <th>2</th>\n",
       "      <td>Decision Tree Regression</td>\n",
       "      <td>89146306.470204</td>\n",
       "      <td>0.999999</td>\n",
       "      <td>3925255436328.010254</td>\n",
       "      <td>0.972439</td>\n",
       "    </tr>\n",
       "  </tbody>\n",
       "</table>\n",
       "</div>"
      ],
      "text/plain": [
       "                     Method           Training MSE Training R2  \\\n",
       "0         Linear Regression   39030402025252.09375    0.743603   \n",
       "1          Ridge Regression  39030402025258.007812    0.743603   \n",
       "2  Decision Tree Regression        89146306.470204    0.999999   \n",
       "\n",
       "                Test MSE   Test R2  \n",
       "0  38411205574113.507812  0.730295  \n",
       "1  38411205724529.554688  0.730295  \n",
       "2   3925255436328.010254  0.972439  "
      ]
     },
     "execution_count": 112,
     "metadata": {},
     "output_type": "execute_result"
    }
   ],
   "source": [
    "model_comp = pd.concat([model_comp, tree_results], axis = 0).reset_index(drop = True)\n",
    "model_comp"
   ]
  },
  {
   "cell_type": "markdown",
   "id": "43ff0b59",
   "metadata": {},
   "source": [
    "### Random Forrest Regression"
   ]
  },
  {
   "cell_type": "code",
   "execution_count": 113,
   "id": "31339b93",
   "metadata": {},
   "outputs": [],
   "source": [
    "from sklearn.ensemble import RandomForestRegressor\n",
    "rfr = RandomForestRegressor().fit(X_train, y_train)"
   ]
  },
  {
   "cell_type": "code",
   "execution_count": 114,
   "id": "895df7af",
   "metadata": {},
   "outputs": [],
   "source": [
    "# recall\n",
    "y_rfr_train_pred = rfr.predict(X_train)\n",
    "\n",
    "# testing\n",
    "y_rfr_test_pred = rfr.predict(X_test)"
   ]
  },
  {
   "cell_type": "code",
   "execution_count": 115,
   "id": "f7c20aef",
   "metadata": {},
   "outputs": [
    {
     "data": {
      "image/png": "[encoded data removed]",
      "text/plain": [
       "<Figure size 640x480 with 1 Axes>"
      ]
     },
     "metadata": {},
     "output_type": "display_data"
    }
   ],
   "source": [
    "plt.scatter(x = y_test, y = y_rfr_test_pred)\n",
    "\n",
    "z = np.polyfit(y_train, y_rfr_train_pred, 1)\n",
    "p = np.poly1d(z)\n",
    "\n",
    "plt.plot(y_train, p(y_train), \"#F87\")\n",
    "plt.ylabel('Predicted Monthly Listeners')\n",
    "plt.xlabel('Actual Monthly Listeners')\n",
    "plt.show()"
   ]
  },
  {
   "cell_type": "code",
   "execution_count": 116,
   "id": "4ca92751",
   "metadata": {},
   "outputs": [],
   "source": [
    "rfr_train_mse = mean_squared_error(y_train, y_rfr_train_pred)\n",
    "rfr_train_r2 = r2_score(y_train, y_rfr_train_pred)\n",
    "\n",
    "rfr_test_mse = mean_squared_error(y_test, y_rfr_test_pred)\n",
    "rfr_test_r2 = r2_score(y_test, y_rfr_test_pred)"
   ]
  },
  {
   "cell_type": "code",
   "execution_count": 117,
   "id": "8cef4c13",
   "metadata": {},
   "outputs": [
    {
     "data": {
      "text/html": [
       "<div>\n",
       "<style scoped>\n",
       "    .dataframe tbody tr th:only-of-type {\n",
       "        vertical-align: middle;\n",
       "    }\n",
       "\n",
       "    .dataframe tbody tr th {\n",
       "        vertical-align: top;\n",
       "    }\n",
       "\n",
       "    .dataframe thead th {\n",
       "        text-align: right;\n",
       "    }\n",
       "</style>\n",
       "<table border=\"1\" class=\"dataframe\">\n",
       "  <thead>\n",
       "    <tr style=\"text-align: right;\">\n",
       "      <th></th>\n",
       "      <th>Method</th>\n",
       "      <th>Training MSE</th>\n",
       "      <th>Training R2</th>\n",
       "      <th>Test MSE</th>\n",
       "      <th>Test R2</th>\n",
       "    </tr>\n",
       "  </thead>\n",
       "  <tbody>\n",
       "    <tr>\n",
       "      <th>0</th>\n",
       "      <td>Random Forrest Regression</td>\n",
       "      <td>343262568813.068237</td>\n",
       "      <td>0.997745</td>\n",
       "      <td>2493091710588.345215</td>\n",
       "      <td>0.982495</td>\n",
       "    </tr>\n",
       "  </tbody>\n",
       "</table>\n",
       "</div>"
      ],
      "text/plain": [
       "                      Method         Training MSE Training R2  \\\n",
       "0  Random Forrest Regression  343262568813.068237    0.997745   \n",
       "\n",
       "               Test MSE   Test R2  \n",
       "0  2493091710588.345215  0.982495  "
      ]
     },
     "execution_count": 117,
     "metadata": {},
     "output_type": "execute_result"
    }
   ],
   "source": [
    "rfr_results = pd.DataFrame(['Random Forrest Regression', rfr_train_mse, rfr_train_r2, rfr_test_mse, rfr_test_r2]).transpose()\n",
    "rfr_results.columns = ['Method', 'Training MSE', 'Training R2', 'Test MSE', 'Test R2']\n",
    "rfr_results"
   ]
  },
  {
   "cell_type": "code",
   "execution_count": 118,
   "id": "856982d8",
   "metadata": {},
   "outputs": [
    {
     "data": {
      "text/html": [
       "<div>\n",
       "<style scoped>\n",
       "    .dataframe tbody tr th:only-of-type {\n",
       "        vertical-align: middle;\n",
       "    }\n",
       "\n",
       "    .dataframe tbody tr th {\n",
       "        vertical-align: top;\n",
       "    }\n",
       "\n",
       "    .dataframe thead th {\n",
       "        text-align: right;\n",
       "    }\n",
       "</style>\n",
       "<table border=\"1\" class=\"dataframe\">\n",
       "  <thead>\n",
       "    <tr style=\"text-align: right;\">\n",
       "      <th></th>\n",
       "      <th>Method</th>\n",
       "      <th>Training MSE</th>\n",
       "      <th>Training R2</th>\n",
       "      <th>Test MSE</th>\n",
       "      <th>Test R2</th>\n",
       "    </tr>\n",
       "  </thead>\n",
       "  <tbody>\n",
       "    <tr>\n",
       "      <th>0</th>\n",
       "      <td>Linear Regression</td>\n",
       "      <td>39030402025252.09375</td>\n",
       "      <td>0.743603</td>\n",
       "      <td>38411205574113.507812</td>\n",
       "      <td>0.730295</td>\n",
       "    </tr>\n",
       "    <tr>\n",
       "      <th>1</th>\n",
       "      <td>Ridge Regression</td>\n",
       "      <td>39030402025258.007812</td>\n",
       "      <td>0.743603</td>\n",
       "      <td>38411205724529.554688</td>\n",
       "      <td>0.730295</td>\n",
       "    </tr>\n",
       "    <tr>\n",
       "      <th>2</th>\n",
       "      <td>Decision Tree Regression</td>\n",
       "      <td>89146306.470204</td>\n",
       "      <td>0.999999</td>\n",
       "      <td>3925255436328.010254</td>\n",
       "      <td>0.972439</td>\n",
       "    </tr>\n",
       "    <tr>\n",
       "      <th>3</th>\n",
       "      <td>Random Forrest Regression</td>\n",
       "      <td>343262568813.068237</td>\n",
       "      <td>0.997745</td>\n",
       "      <td>2493091710588.345215</td>\n",
       "      <td>0.982495</td>\n",
       "    </tr>\n",
       "  </tbody>\n",
       "</table>\n",
       "</div>"
      ],
      "text/plain": [
       "                      Method           Training MSE Training R2  \\\n",
       "0          Linear Regression   39030402025252.09375    0.743603   \n",
       "1           Ridge Regression  39030402025258.007812    0.743603   \n",
       "2   Decision Tree Regression        89146306.470204    0.999999   \n",
       "3  Random Forrest Regression    343262568813.068237    0.997745   \n",
       "\n",
       "                Test MSE   Test R2  \n",
       "0  38411205574113.507812  0.730295  \n",
       "1  38411205724529.554688  0.730295  \n",
       "2   3925255436328.010254  0.972439  \n",
       "3   2493091710588.345215  0.982495  "
      ]
     },
     "execution_count": 118,
     "metadata": {},
     "output_type": "execute_result"
    }
   ],
   "source": [
    "model_comp = pd.concat([model_comp, rfr_results], axis = 0).reset_index(drop = True)\n",
    "model_comp"
   ]
  },
  {
   "cell_type": "markdown",
   "id": "149be5d3",
   "metadata": {},
   "source": [
    "### XGBoost Implementation"
   ]
  },
  {
   "cell_type": "code",
   "execution_count": 119,
   "id": "90b20aed",
   "metadata": {},
   "outputs": [],
   "source": [
    "#%pip install xgboost"
   ]
  },
  {
   "cell_type": "code",
   "execution_count": 120,
   "id": "ef5a6d7d",
   "metadata": {},
   "outputs": [],
   "source": [
    "from xgboost import XGBRegressor\n",
    "xgbr = XGBRegressor(objective = 'reg:squarederror', n_estimators = 100, learning_rate = 0.1, mx_depth = 4).fit(X_train, y_train)"
   ]
  },
  {
   "cell_type": "code",
   "execution_count": 121,
   "id": "c5c4a0e0",
   "metadata": {},
   "outputs": [],
   "source": [
    "# recall\n",
    "y_xgbr_train_pred = xgbr.predict(X_train)\n",
    "\n",
    "# testing\n",
    "y_xgbr_test_pred = xgbr.predict(X_test)"
   ]
  },
  {
   "cell_type": "code",
   "execution_count": 135,
   "id": "ab2313ac",
   "metadata": {},
   "outputs": [
    {
     "data": {
      "image/png": "[encoded data removed]",
      "text/plain": [
       "<Figure size 640x480 with 1 Axes>"
      ]
     },
     "metadata": {},
     "output_type": "display_data"
    }
   ],
   "source": [
    "plt.scatter(x = y_test, y = y_xgbr_test_pred)\n",
    "\n",
    "z = np.polyfit(y_train, y_xgbr_train_pred, 1)\n",
    "p = np.poly1d(z)\n",
    "\n",
    "plt.plot(y_train, p(y_train), color = \"#F78\")\n",
    "\n",
    "plt.title('XGBoost Regression Test Results')\n",
    "plt.xlabel('Actual Monthly Listeners')\n",
    "plt.ylabel('Predicted Monthly Listeners')\n",
    "plt.show()"
   ]
  },
  {
   "cell_type": "code",
   "execution_count": 122,
   "id": "fe766bac",
   "metadata": {},
   "outputs": [],
   "source": [
    "xgbr_train_mse = mean_squared_error(y_train, y_xgbr_train_pred)\n",
    "xgbr_train_r2 = r2_score(y_train, y_xgbr_train_pred)\n",
    "\n",
    "xgbr_test_mse = mean_squared_error(y_test, y_xgbr_test_pred)\n",
    "xgbr_test_r2 = r2_score(y_test, y_xgbr_test_pred)"
   ]
  },
  {
   "cell_type": "code",
   "execution_count": 123,
   "id": "ca4a6b9e",
   "metadata": {},
   "outputs": [
    {
     "data": {
      "text/html": [
       "<div>\n",
       "<style scoped>\n",
       "    .dataframe tbody tr th:only-of-type {\n",
       "        vertical-align: middle;\n",
       "    }\n",
       "\n",
       "    .dataframe tbody tr th {\n",
       "        vertical-align: top;\n",
       "    }\n",
       "\n",
       "    .dataframe thead th {\n",
       "        text-align: right;\n",
       "    }\n",
       "</style>\n",
       "<table border=\"1\" class=\"dataframe\">\n",
       "  <thead>\n",
       "    <tr style=\"text-align: right;\">\n",
       "      <th></th>\n",
       "      <th>Method</th>\n",
       "      <th>Training MSE</th>\n",
       "      <th>Training R2</th>\n",
       "      <th>Test MSE</th>\n",
       "      <th>Test R2</th>\n",
       "    </tr>\n",
       "  </thead>\n",
       "  <tbody>\n",
       "    <tr>\n",
       "      <th>0</th>\n",
       "      <td>XGBoost Regression</td>\n",
       "      <td>3886118958158.02002</td>\n",
       "      <td>0.974471</td>\n",
       "      <td>4748818850596.506836</td>\n",
       "      <td>0.966656</td>\n",
       "    </tr>\n",
       "  </tbody>\n",
       "</table>\n",
       "</div>"
      ],
      "text/plain": [
       "               Method         Training MSE Training R2              Test MSE  \\\n",
       "0  XGBoost Regression  3886118958158.02002    0.974471  4748818850596.506836   \n",
       "\n",
       "    Test R2  \n",
       "0  0.966656  "
      ]
     },
     "execution_count": 123,
     "metadata": {},
     "output_type": "execute_result"
    }
   ],
   "source": [
    "xgbr_results = pd.DataFrame(['XGBoost Regression', xgbr_train_mse, xgbr_train_r2, xgbr_test_mse, xgbr_test_r2]).transpose()\n",
    "xgbr_results.columns = ['Method', 'Training MSE',\t'Training R2', 'Test MSE', 'Test R2']\n",
    "xgbr_results"
   ]
  },
  {
   "cell_type": "code",
   "execution_count": 124,
   "id": "fbbf0266",
   "metadata": {},
   "outputs": [
    {
     "data": {
      "text/html": [
       "<div>\n",
       "<style scoped>\n",
       "    .dataframe tbody tr th:only-of-type {\n",
       "        vertical-align: middle;\n",
       "    }\n",
       "\n",
       "    .dataframe tbody tr th {\n",
       "        vertical-align: top;\n",
       "    }\n",
       "\n",
       "    .dataframe thead th {\n",
       "        text-align: right;\n",
       "    }\n",
       "</style>\n",
       "<table border=\"1\" class=\"dataframe\">\n",
       "  <thead>\n",
       "    <tr style=\"text-align: right;\">\n",
       "      <th></th>\n",
       "      <th>Method</th>\n",
       "      <th>Training MSE</th>\n",
       "      <th>Training R2</th>\n",
       "      <th>Test MSE</th>\n",
       "      <th>Test R2</th>\n",
       "    </tr>\n",
       "  </thead>\n",
       "  <tbody>\n",
       "    <tr>\n",
       "      <th>0</th>\n",
       "      <td>Linear Regression</td>\n",
       "      <td>39030402025252.09375</td>\n",
       "      <td>0.743603</td>\n",
       "      <td>38411205574113.507812</td>\n",
       "      <td>0.730295</td>\n",
       "    </tr>\n",
       "    <tr>\n",
       "      <th>1</th>\n",
       "      <td>Ridge Regression</td>\n",
       "      <td>39030402025258.007812</td>\n",
       "      <td>0.743603</td>\n",
       "      <td>38411205724529.554688</td>\n",
       "      <td>0.730295</td>\n",
       "    </tr>\n",
       "    <tr>\n",
       "      <th>2</th>\n",
       "      <td>Decision Tree Regression</td>\n",
       "      <td>89146306.470204</td>\n",
       "      <td>0.999999</td>\n",
       "      <td>3925255436328.010254</td>\n",
       "      <td>0.972439</td>\n",
       "    </tr>\n",
       "    <tr>\n",
       "      <th>3</th>\n",
       "      <td>Random Forrest Regression</td>\n",
       "      <td>343262568813.068237</td>\n",
       "      <td>0.997745</td>\n",
       "      <td>2493091710588.345215</td>\n",
       "      <td>0.982495</td>\n",
       "    </tr>\n",
       "    <tr>\n",
       "      <th>4</th>\n",
       "      <td>XGBoost Regression</td>\n",
       "      <td>3886118958158.02002</td>\n",
       "      <td>0.974471</td>\n",
       "      <td>4748818850596.506836</td>\n",
       "      <td>0.966656</td>\n",
       "    </tr>\n",
       "  </tbody>\n",
       "</table>\n",
       "</div>"
      ],
      "text/plain": [
       "                      Method           Training MSE Training R2  \\\n",
       "0          Linear Regression   39030402025252.09375    0.743603   \n",
       "1           Ridge Regression  39030402025258.007812    0.743603   \n",
       "2   Decision Tree Regression        89146306.470204    0.999999   \n",
       "3  Random Forrest Regression    343262568813.068237    0.997745   \n",
       "4         XGBoost Regression    3886118958158.02002    0.974471   \n",
       "\n",
       "                Test MSE   Test R2  \n",
       "0  38411205574113.507812  0.730295  \n",
       "1  38411205724529.554688  0.730295  \n",
       "2   3925255436328.010254  0.972439  \n",
       "3   2493091710588.345215  0.982495  \n",
       "4   4748818850596.506836  0.966656  "
      ]
     },
     "execution_count": 124,
     "metadata": {},
     "output_type": "execute_result"
    }
   ],
   "source": [
    "model_comp = pd.concat([model_comp, xgbr_results], axis = 0).reset_index(drop = True)\n",
    "model_comp"
   ]
  },
  {
   "cell_type": "markdown",
   "id": "1eeaeb6f",
   "metadata": {},
   "source": [
    "### Unseen Data Testing"
   ]
  },
  {
   "cell_type": "code",
   "execution_count": 139,
   "id": "6e3d99a2",
   "metadata": {},
   "outputs": [],
   "source": [
    "artist_stats = []\n",
    "artist_name = 'taraj'\n",
    "popularity = 10\n",
    "followers = 1308\n",
    "first_release_year = 2023\n",
    "last_release_year = 2025\n",
    "active_years = last_release_year - first_release_year\n",
    "log_followers = np.log1p(followers)"
   ]
  },
  {
   "cell_type": "code",
   "execution_count": 140,
   "id": "e7ee1a67",
   "metadata": {},
   "outputs": [
    {
     "data": {
      "text/html": [
       "<div>\n",
       "<style scoped>\n",
       "    .dataframe tbody tr th:only-of-type {\n",
       "        vertical-align: middle;\n",
       "    }\n",
       "\n",
       "    .dataframe tbody tr th {\n",
       "        vertical-align: top;\n",
       "    }\n",
       "\n",
       "    .dataframe thead th {\n",
       "        text-align: right;\n",
       "    }\n",
       "</style>\n",
       "<table border=\"1\" class=\"dataframe\">\n",
       "  <thead>\n",
       "    <tr style=\"text-align: right;\">\n",
       "      <th></th>\n",
       "      <th>popularity</th>\n",
       "      <th>followers</th>\n",
       "      <th>first_release_year</th>\n",
       "      <th>last_release_year</th>\n",
       "      <th>log_followers</th>\n",
       "    </tr>\n",
       "  </thead>\n",
       "  <tbody>\n",
       "    <tr>\n",
       "      <th>0</th>\n",
       "      <td>10.0</td>\n",
       "      <td>1308.0</td>\n",
       "      <td>2023.0</td>\n",
       "      <td>2025.0</td>\n",
       "      <td>7.177019</td>\n",
       "    </tr>\n",
       "  </tbody>\n",
       "</table>\n",
       "</div>"
      ],
      "text/plain": [
       "   popularity  followers  first_release_year  last_release_year  log_followers\n",
       "0        10.0     1308.0              2023.0             2025.0       7.177019"
      ]
     },
     "execution_count": 140,
     "metadata": {},
     "output_type": "execute_result"
    }
   ],
   "source": [
    "artist_stats = pd.DataFrame([popularity, followers, first_release_year, last_release_year, log_followers]).transpose()\n",
    "artist_stats.columns = ['popularity', 'followers', 'first_release_year', 'last_release_year', 'log_followers']\n",
    "artist_stats.head()"
   ]
  },
  {
   "cell_type": "code",
   "execution_count": 147,
   "id": "1b4c1e12",
   "metadata": {},
   "outputs": [],
   "source": [
    "artist_monthly_listens = rfr.predict(artist_stats)"
   ]
  },
  {
   "cell_type": "code",
   "execution_count": 148,
   "id": "5b30f487",
   "metadata": {},
   "outputs": [],
   "source": [
    "artist_monthly_listens = int(artist_monthly_listens[0])"
   ]
  },
  {
   "cell_type": "code",
   "execution_count": 149,
   "id": "2ead0f57",
   "metadata": {},
   "outputs": [
    {
     "name": "stdout",
     "output_type": "stream",
     "text": [
      "taraj's predicted monthly listeners is around 3955!\n"
     ]
    }
   ],
   "source": [
    "print(f\"{artist_name}'s predicted monthly listeners is around {artist_monthly_listens}!\")"
   ]
  },
  {
   "cell_type": "code",
   "execution_count": null,
   "id": "bb0221a5",
   "metadata": {},
   "outputs": [],
   "source": []
  }
 ],
 "metadata": {
  "kernelspec": {
   "display_name": "base",
   "language": "python",
   "name": "python3"
  },
  "language_info": {
   "codemirror_mode": {
    "name": "ipython",
    "version": 3
   },
   "file_extension": ".py",
   "mimetype": "text/x-python",
   "name": "python",
   "nbconvert_exporter": "python",
   "pygments_lexer": "ipython3",
   "version": "3.12.7"
  }
 },
 "nbformat": 4,
 "nbformat_minor": 5
}
