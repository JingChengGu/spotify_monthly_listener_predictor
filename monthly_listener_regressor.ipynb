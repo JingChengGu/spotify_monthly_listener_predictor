{
 "cells": [
  {
   "cell_type": "code",
   "execution_count": 1,
   "id": "02ee05af",
   "metadata": {},
   "outputs": [],
   "source": [
    "import pandas as pd\n",
    "import numpy as np\n",
    "from sklearn.linear_model import LinearRegression\n",
    "from sklearn.model_selection import train_test_split\n",
    "from sklearn.metrics import mean_squared_error, r2_score\n",
    "import matplotlib.pyplot as plt\n",
    "import seaborn as sns"
   ]
  },
  {
   "cell_type": "code",
   "execution_count": 2,
   "id": "e8608c2c",
   "metadata": {},
   "outputs": [],
   "source": [
    "df = pd.read_csv('assets/cleaned_spotify_data.csv')"
   ]
  },
  {
   "cell_type": "code",
   "execution_count": 3,
   "id": "f653f704",
   "metadata": {},
   "outputs": [
    {
     "data": {
      "text/plain": [
       "(27422, 11)"
      ]
     },
     "execution_count": 3,
     "metadata": {},
     "output_type": "execute_result"
    }
   ],
   "source": [
    "df.shape"
   ]
  },
  {
   "cell_type": "markdown",
   "id": "b152d926",
   "metadata": {},
   "source": [
    "### Feature Engineering"
   ]
  },
  {
   "cell_type": "code",
   "execution_count": 4,
   "id": "3d7979f9",
   "metadata": {},
   "outputs": [],
   "source": [
    "# Creating a new feature called 'active_years' using 'last_release_year' - 'first_release_year'\n",
    "#df['active_years'] = df['last_release_year'] - df['first_release_year']\n",
    "#df.head()"
   ]
  },
  {
   "cell_type": "code",
   "execution_count": 5,
   "id": "335f6c32",
   "metadata": {},
   "outputs": [
    {
     "data": {
      "text/html": [
       "<div>\n",
       "<style scoped>\n",
       "    .dataframe tbody tr th:only-of-type {\n",
       "        vertical-align: middle;\n",
       "    }\n",
       "\n",
       "    .dataframe tbody tr th {\n",
       "        vertical-align: top;\n",
       "    }\n",
       "\n",
       "    .dataframe thead th {\n",
       "        text-align: right;\n",
       "    }\n",
       "</style>\n",
       "<table border=\"1\" class=\"dataframe\">\n",
       "  <thead>\n",
       "    <tr style=\"text-align: right;\">\n",
       "      <th></th>\n",
       "      <th>dates</th>\n",
       "      <th>names</th>\n",
       "      <th>monthly_listeners</th>\n",
       "      <th>popularity</th>\n",
       "      <th>followers</th>\n",
       "      <th>genres</th>\n",
       "      <th>first_release_year</th>\n",
       "      <th>last_release_year</th>\n",
       "      <th>num_releases</th>\n",
       "      <th>num_tracks</th>\n",
       "      <th>playlists_found</th>\n",
       "      <th>log_followers</th>\n",
       "    </tr>\n",
       "  </thead>\n",
       "  <tbody>\n",
       "    <tr>\n",
       "      <th>0</th>\n",
       "      <td>2024-04-01</td>\n",
       "      <td>stayc</td>\n",
       "      <td>3049521.0</td>\n",
       "      <td>63</td>\n",
       "      <td>1782552</td>\n",
       "      <td>k-pop, k-pop girl group</td>\n",
       "      <td>2020</td>\n",
       "      <td>2024</td>\n",
       "      <td>14</td>\n",
       "      <td>2</td>\n",
       "      <td>K-Pop ON! (온)</td>\n",
       "      <td>14.39</td>\n",
       "    </tr>\n",
       "    <tr>\n",
       "      <th>1</th>\n",
       "      <td>2024-04-01</td>\n",
       "      <td>langhorne slim</td>\n",
       "      <td>1060777.0</td>\n",
       "      <td>51</td>\n",
       "      <td>163686</td>\n",
       "      <td>anti-folk, indie folk, modern folk rock, new a...</td>\n",
       "      <td>2008</td>\n",
       "      <td>2023</td>\n",
       "      <td>20</td>\n",
       "      <td>3</td>\n",
       "      <td>Sunrise Run</td>\n",
       "      <td>12.01</td>\n",
       "    </tr>\n",
       "    <tr>\n",
       "      <th>2</th>\n",
       "      <td>2024-04-01</td>\n",
       "      <td>hontoni</td>\n",
       "      <td>119199.0</td>\n",
       "      <td>35</td>\n",
       "      <td>60</td>\n",
       "      <td>NaN</td>\n",
       "      <td>2021</td>\n",
       "      <td>2024</td>\n",
       "      <td>14</td>\n",
       "      <td>1</td>\n",
       "      <td>Meditate to the Sounds of Nature</td>\n",
       "      <td>4.11</td>\n",
       "    </tr>\n",
       "    <tr>\n",
       "      <th>3</th>\n",
       "      <td>2024-04-01</td>\n",
       "      <td>d'verti</td>\n",
       "      <td>46999.0</td>\n",
       "      <td>29</td>\n",
       "      <td>42</td>\n",
       "      <td>NaN</td>\n",
       "      <td>2022</td>\n",
       "      <td>2024</td>\n",
       "      <td>3</td>\n",
       "      <td>1</td>\n",
       "      <td>Meditate to the Sounds of Nature</td>\n",
       "      <td>3.76</td>\n",
       "    </tr>\n",
       "    <tr>\n",
       "      <th>4</th>\n",
       "      <td>2024-04-01</td>\n",
       "      <td>luke bryan</td>\n",
       "      <td>10460890.0</td>\n",
       "      <td>76</td>\n",
       "      <td>8487512</td>\n",
       "      <td>contemporary country, country, country road, m...</td>\n",
       "      <td>2007</td>\n",
       "      <td>2023</td>\n",
       "      <td>20</td>\n",
       "      <td>6</td>\n",
       "      <td>Sunrise Run</td>\n",
       "      <td>15.95</td>\n",
       "    </tr>\n",
       "  </tbody>\n",
       "</table>\n",
       "</div>"
      ],
      "text/plain": [
       "        dates           names  monthly_listeners  popularity  followers  \\\n",
       "0  2024-04-01           stayc          3049521.0          63    1782552   \n",
       "1  2024-04-01  langhorne slim          1060777.0          51     163686   \n",
       "2  2024-04-01         hontoni           119199.0          35         60   \n",
       "3  2024-04-01         d'verti            46999.0          29         42   \n",
       "4  2024-04-01      luke bryan         10460890.0          76    8487512   \n",
       "\n",
       "                                              genres  first_release_year  \\\n",
       "0                            k-pop, k-pop girl group                2020   \n",
       "1  anti-folk, indie folk, modern folk rock, new a...                2008   \n",
       "2                                                NaN                2021   \n",
       "3                                                NaN                2022   \n",
       "4  contemporary country, country, country road, m...                2007   \n",
       "\n",
       "   last_release_year  num_releases  num_tracks  \\\n",
       "0               2024            14           2   \n",
       "1               2023            20           3   \n",
       "2               2024            14           1   \n",
       "3               2024             3           1   \n",
       "4               2023            20           6   \n",
       "\n",
       "                    playlists_found  log_followers  \n",
       "0                     K-Pop ON! (온)          14.39  \n",
       "1                       Sunrise Run          12.01  \n",
       "2  Meditate to the Sounds of Nature           4.11  \n",
       "3  Meditate to the Sounds of Nature           3.76  \n",
       "4                       Sunrise Run          15.95  "
      ]
     },
     "execution_count": 5,
     "metadata": {},
     "output_type": "execute_result"
    }
   ],
   "source": [
    "# creating new log_followers feature\n",
    "df['log_followers'] = round(np.log1p(df['followers']), 2)\n",
    "df.head()"
   ]
  },
  {
   "cell_type": "markdown",
   "id": "1cff84a5",
   "metadata": {},
   "source": [
    "### Data Splitting"
   ]
  },
  {
   "cell_type": "code",
   "execution_count": 6,
   "id": "75e80c9e",
   "metadata": {},
   "outputs": [],
   "source": [
    "# applying log to the follower to enure consistency with logged follower\n",
    "y = df['monthly_listeners']\n",
    "X = df.drop(['monthly_listeners', 'dates', 'names', 'genres', 'num_releases','num_tracks','playlists_found'], axis = 1)"
   ]
  },
  {
   "cell_type": "code",
   "execution_count": 7,
   "id": "dfec9bda",
   "metadata": {},
   "outputs": [
    {
     "data": {
      "text/html": [
       "<div>\n",
       "<style scoped>\n",
       "    .dataframe tbody tr th:only-of-type {\n",
       "        vertical-align: middle;\n",
       "    }\n",
       "\n",
       "    .dataframe tbody tr th {\n",
       "        vertical-align: top;\n",
       "    }\n",
       "\n",
       "    .dataframe thead th {\n",
       "        text-align: right;\n",
       "    }\n",
       "</style>\n",
       "<table border=\"1\" class=\"dataframe\">\n",
       "  <thead>\n",
       "    <tr style=\"text-align: right;\">\n",
       "      <th></th>\n",
       "      <th>popularity</th>\n",
       "      <th>followers</th>\n",
       "      <th>first_release_year</th>\n",
       "      <th>last_release_year</th>\n",
       "      <th>log_followers</th>\n",
       "    </tr>\n",
       "  </thead>\n",
       "  <tbody>\n",
       "    <tr>\n",
       "      <th>0</th>\n",
       "      <td>63</td>\n",
       "      <td>1782552</td>\n",
       "      <td>2020</td>\n",
       "      <td>2024</td>\n",
       "      <td>14.39</td>\n",
       "    </tr>\n",
       "    <tr>\n",
       "      <th>1</th>\n",
       "      <td>51</td>\n",
       "      <td>163686</td>\n",
       "      <td>2008</td>\n",
       "      <td>2023</td>\n",
       "      <td>12.01</td>\n",
       "    </tr>\n",
       "    <tr>\n",
       "      <th>2</th>\n",
       "      <td>35</td>\n",
       "      <td>60</td>\n",
       "      <td>2021</td>\n",
       "      <td>2024</td>\n",
       "      <td>4.11</td>\n",
       "    </tr>\n",
       "    <tr>\n",
       "      <th>3</th>\n",
       "      <td>29</td>\n",
       "      <td>42</td>\n",
       "      <td>2022</td>\n",
       "      <td>2024</td>\n",
       "      <td>3.76</td>\n",
       "    </tr>\n",
       "    <tr>\n",
       "      <th>4</th>\n",
       "      <td>76</td>\n",
       "      <td>8487512</td>\n",
       "      <td>2007</td>\n",
       "      <td>2023</td>\n",
       "      <td>15.95</td>\n",
       "    </tr>\n",
       "  </tbody>\n",
       "</table>\n",
       "</div>"
      ],
      "text/plain": [
       "   popularity  followers  first_release_year  last_release_year  log_followers\n",
       "0          63    1782552                2020               2024          14.39\n",
       "1          51     163686                2008               2023          12.01\n",
       "2          35         60                2021               2024           4.11\n",
       "3          29         42                2022               2024           3.76\n",
       "4          76    8487512                2007               2023          15.95"
      ]
     },
     "execution_count": 7,
     "metadata": {},
     "output_type": "execute_result"
    }
   ],
   "source": [
    "X.head()"
   ]
  },
  {
   "cell_type": "code",
   "execution_count": 8,
   "id": "b1fe479c",
   "metadata": {},
   "outputs": [],
   "source": [
    "X_train, X_test, y_train, y_test = train_test_split(X, y, test_size = 0.2, random_state = 100)"
   ]
  },
  {
   "cell_type": "markdown",
   "id": "d2296cef",
   "metadata": {},
   "source": [
    "### Linear Regression"
   ]
  },
  {
   "cell_type": "code",
   "execution_count": 9,
   "id": "8f1e2419",
   "metadata": {},
   "outputs": [],
   "source": [
    "lr = LinearRegression().fit(X_train, y_train)"
   ]
  },
  {
   "cell_type": "code",
   "execution_count": 10,
   "id": "8fe2562e",
   "metadata": {},
   "outputs": [],
   "source": [
    "# recall step. Testing model on trained data\n",
    "y_lr_train_pred = lr.predict(X_train)\n",
    "\n",
    "# testing step. Testing model on unseen data\n",
    "y_lr_test_pred = lr.predict(X_test)"
   ]
  },
  {
   "cell_type": "code",
   "execution_count": 11,
   "id": "40617ca5",
   "metadata": {},
   "outputs": [
    {
     "data": {
      "text/plain": [
       "18694       13010.0\n",
       "16449      129980.0\n",
       "3594       174096.0\n",
       "22792     2255559.0\n",
       "5365     16986046.0\n",
       "            ...    \n",
       "12119       68007.0\n",
       "24423    15828796.0\n",
       "14147    19764628.0\n",
       "23320      146891.0\n",
       "5640     59588927.0\n",
       "Name: monthly_listeners, Length: 21937, dtype: float64"
      ]
     },
     "execution_count": 11,
     "metadata": {},
     "output_type": "execute_result"
    }
   ],
   "source": [
    "# log y_train\n",
    "y_train"
   ]
  },
  {
   "cell_type": "markdown",
   "id": "70315ddc",
   "metadata": {},
   "source": [
    "### Evaluate Model Performance"
   ]
  },
  {
   "cell_type": "code",
   "execution_count": 12,
   "id": "9402556c",
   "metadata": {},
   "outputs": [],
   "source": [
    "lr_train_mse = mean_squared_error(y_train, y_lr_train_pred)\n",
    "lr_train_r2 = r2_score(y_train, y_lr_train_pred)\n",
    "\n",
    "lr_test_mse = mean_squared_error(y_test, y_lr_test_pred)\n",
    "lr_test_r2 = r2_score(y_test, y_lr_test_pred)"
   ]
  },
  {
   "cell_type": "code",
   "execution_count": 13,
   "id": "1b7ee4dd",
   "metadata": {},
   "outputs": [
    {
     "name": "stdout",
     "output_type": "stream",
     "text": [
      "Linear Regression MSE (Train): 39030402025252.1\n",
      "Linear Regression R2 (Train): 0.743602623543351\n",
      "Linear Regression MSE (Test): 38411205574113.484\n",
      "Linear Regression R2 (Test): 0.7302947739180653\n"
     ]
    }
   ],
   "source": [
    "print(\"Linear Regression MSE (Train):\", lr_train_mse)\n",
    "print(\"Linear Regression R2 (Train):\", lr_train_r2)\n",
    "print(\"Linear Regression MSE (Test):\", lr_test_mse)\n",
    "print(\"Linear Regression R2 (Test):\", lr_test_r2)"
   ]
  },
  {
   "cell_type": "code",
   "execution_count": 14,
   "id": "2138282b",
   "metadata": {},
   "outputs": [
    {
     "data": {
      "text/plain": [
       "Text(0.5, 0, 'Actual Monthly Listens')"
      ]
     },
     "execution_count": 14,
     "metadata": {},
     "output_type": "execute_result"
    },
    {
     "data": {
      "image/png": "[encoded data removed]",
      "text/plain": [
       "<Figure size 640x480 with 1 Axes>"
      ]
     },
     "metadata": {},
     "output_type": "display_data"
    }
   ],
   "source": [
    "plt.scatter(x = y_train, y = y_lr_train_pred)\n",
    "# line of best fit\n",
    "z = np.polyfit(y_train, y_lr_train_pred, 1)\n",
    "p = np.poly1d(z)\n",
    "\n",
    "plt.plot(y_train, p(y_train), '#F87')\n",
    "plt.ylabel('Predict Monthly Listens')\n",
    "plt.xlabel('Actual Monthly Listens')"
   ]
  },
  {
   "cell_type": "code",
   "execution_count": 15,
   "id": "849002cd",
   "metadata": {},
   "outputs": [
    {
     "data": {
      "text/html": [
       "<div>\n",
       "<style scoped>\n",
       "    .dataframe tbody tr th:only-of-type {\n",
       "        vertical-align: middle;\n",
       "    }\n",
       "\n",
       "    .dataframe tbody tr th {\n",
       "        vertical-align: top;\n",
       "    }\n",
       "\n",
       "    .dataframe thead th {\n",
       "        text-align: right;\n",
       "    }\n",
       "</style>\n",
       "<table border=\"1\" class=\"dataframe\">\n",
       "  <thead>\n",
       "    <tr style=\"text-align: right;\">\n",
       "      <th></th>\n",
       "      <th>Method</th>\n",
       "      <th>Training MSE</th>\n",
       "      <th>Training R2</th>\n",
       "      <th>Test MSE</th>\n",
       "      <th>Test R2</th>\n",
       "    </tr>\n",
       "  </thead>\n",
       "  <tbody>\n",
       "    <tr>\n",
       "      <th>0</th>\n",
       "      <td>Linear Regression</td>\n",
       "      <td>39030402025252.101562</td>\n",
       "      <td>0.743603</td>\n",
       "      <td>38411205574113.484375</td>\n",
       "      <td>0.730295</td>\n",
       "    </tr>\n",
       "  </tbody>\n",
       "</table>\n",
       "</div>"
      ],
      "text/plain": [
       "              Method           Training MSE Training R2  \\\n",
       "0  Linear Regression  39030402025252.101562    0.743603   \n",
       "\n",
       "                Test MSE   Test R2  \n",
       "0  38411205574113.484375  0.730295  "
      ]
     },
     "execution_count": 15,
     "metadata": {},
     "output_type": "execute_result"
    }
   ],
   "source": [
    "lr_results = pd.DataFrame(['Linear Regression', lr_train_mse, lr_train_r2, lr_test_mse, lr_test_r2]).transpose()\n",
    "lr_results.columns = ['Method', 'Training MSE', 'Training R2', 'Test MSE', 'Test R2']\n",
    "lr_results"
   ]
  },
  {
   "cell_type": "markdown",
   "id": "dc3c82b9",
   "metadata": {},
   "source": [
    "### Testing Ridge/Lasso Model"
   ]
  },
  {
   "cell_type": "code",
   "execution_count": 16,
   "id": "553b10e5",
   "metadata": {},
   "outputs": [],
   "source": [
    "from sklearn.linear_model import Ridge\n",
    "rg = Ridge().fit(X_train, y_train) "
   ]
  },
  {
   "cell_type": "code",
   "execution_count": 17,
   "id": "47bd02c0",
   "metadata": {},
   "outputs": [],
   "source": [
    "# Recall\n",
    "y_rg_train_pred = rg.predict(X_train)\n",
    "\n",
    "# testing\n",
    "y_rg_test_pred = rg.predict(X_test)\n"
   ]
  },
  {
   "cell_type": "code",
   "execution_count": 18,
   "id": "beee8b70",
   "metadata": {},
   "outputs": [
    {
     "data": {
      "text/plain": [
       "18694       13010.0\n",
       "16449      129980.0\n",
       "3594       174096.0\n",
       "22792     2255559.0\n",
       "5365     16986046.0\n",
       "            ...    \n",
       "12119       68007.0\n",
       "24423    15828796.0\n",
       "14147    19764628.0\n",
       "23320      146891.0\n",
       "5640     59588927.0\n",
       "Name: monthly_listeners, Length: 21937, dtype: float64"
      ]
     },
     "execution_count": 18,
     "metadata": {},
     "output_type": "execute_result"
    }
   ],
   "source": [
    "y_train"
   ]
  },
  {
   "cell_type": "code",
   "execution_count": 19,
   "id": "34c58253",
   "metadata": {},
   "outputs": [
    {
     "data": {
      "text/plain": [
       "array([-1532183.68777462,   138052.29635087,   919852.29385677, ...,\n",
       "       16195274.6949106 ,   490164.71309726, 14560773.08934541])"
      ]
     },
     "execution_count": 19,
     "metadata": {},
     "output_type": "execute_result"
    }
   ],
   "source": [
    "y_rg_train_pred"
   ]
  },
  {
   "cell_type": "code",
   "execution_count": 20,
   "id": "e69ecf37",
   "metadata": {},
   "outputs": [],
   "source": [
    "rg_train_mse = mean_squared_error(y_train, y_rg_train_pred)\n",
    "rg_train_r2 = r2_score(y_train, y_rg_train_pred)\n",
    "\n",
    "rg_test_mse = mean_squared_error(y_test, y_rg_test_pred)\n",
    "rg_test_r2 = r2_score(y_test, y_rg_test_pred)"
   ]
  },
  {
   "cell_type": "code",
   "execution_count": 21,
   "id": "9aab5a73",
   "metadata": {},
   "outputs": [
    {
     "name": "stdout",
     "output_type": "stream",
     "text": [
      "Ridge Regression MSE (Train): 39030402025258.01\n",
      "Ridge Regression R2 (Train): 0.7436026235433122\n",
      "Ridge Regression MSE (Test): 38411205724529.555\n",
      "Ridge Regression R2 (Test): 0.7302947728619151\n"
     ]
    }
   ],
   "source": [
    "print(\"Ridge Regression MSE (Train):\", rg_train_mse)\n",
    "print(\"Ridge Regression R2 (Train):\", rg_train_r2)\n",
    "print(\"Ridge Regression MSE (Test):\", rg_test_mse)\n",
    "print(\"Ridge Regression R2 (Test):\", rg_test_r2)"
   ]
  },
  {
   "cell_type": "code",
   "execution_count": 22,
   "id": "4ab48163",
   "metadata": {},
   "outputs": [
    {
     "data": {
      "image/png": "[encoded data removed]",
      "text/plain": [
       "<Figure size 640x480 with 1 Axes>"
      ]
     },
     "metadata": {},
     "output_type": "display_data"
    }
   ],
   "source": [
    "plt.scatter(y_train, y_rg_train_pred)\n",
    "\n",
    "z = np.polyfit(y_train, y_rg_train_pred, 1)\n",
    "p = np.poly1d(z)\n",
    "\n",
    "plt.plot(y_train, p(y_train), \"#F87\")\n",
    "plt.ylabel('Predicted Monthly Listener')\n",
    "plt.xlabel('Actual Monthly Listener')\n",
    "plt.show()"
   ]
  },
  {
   "cell_type": "code",
   "execution_count": 23,
   "id": "a4a47841",
   "metadata": {},
   "outputs": [
    {
     "data": {
      "text/html": [
       "<div>\n",
       "<style scoped>\n",
       "    .dataframe tbody tr th:only-of-type {\n",
       "        vertical-align: middle;\n",
       "    }\n",
       "\n",
       "    .dataframe tbody tr th {\n",
       "        vertical-align: top;\n",
       "    }\n",
       "\n",
       "    .dataframe thead th {\n",
       "        text-align: right;\n",
       "    }\n",
       "</style>\n",
       "<table border=\"1\" class=\"dataframe\">\n",
       "  <thead>\n",
       "    <tr style=\"text-align: right;\">\n",
       "      <th></th>\n",
       "      <th>Method</th>\n",
       "      <th>Training MSE</th>\n",
       "      <th>Training R2</th>\n",
       "      <th>Test MSE</th>\n",
       "      <th>Test R2</th>\n",
       "    </tr>\n",
       "  </thead>\n",
       "  <tbody>\n",
       "    <tr>\n",
       "      <th>0</th>\n",
       "      <td>Ridge Regression</td>\n",
       "      <td>39030402025258.007812</td>\n",
       "      <td>0.743603</td>\n",
       "      <td>38411205724529.554688</td>\n",
       "      <td>0.730295</td>\n",
       "    </tr>\n",
       "  </tbody>\n",
       "</table>\n",
       "</div>"
      ],
      "text/plain": [
       "             Method           Training MSE Training R2               Test MSE  \\\n",
       "0  Ridge Regression  39030402025258.007812    0.743603  38411205724529.554688   \n",
       "\n",
       "    Test R2  \n",
       "0  0.730295  "
      ]
     },
     "execution_count": 23,
     "metadata": {},
     "output_type": "execute_result"
    }
   ],
   "source": [
    "rg_results = pd.DataFrame(['Ridge Regression', rg_train_mse, rg_train_r2, rg_test_mse, rg_test_r2]).transpose()\n",
    "rg_results.columns = ['Method', 'Training MSE', 'Training R2', 'Test MSE', 'Test R2']\n",
    "rg_results"
   ]
  },
  {
   "cell_type": "code",
   "execution_count": 24,
   "id": "b252befa",
   "metadata": {},
   "outputs": [
    {
     "data": {
      "text/html": [
       "<div>\n",
       "<style scoped>\n",
       "    .dataframe tbody tr th:only-of-type {\n",
       "        vertical-align: middle;\n",
       "    }\n",
       "\n",
       "    .dataframe tbody tr th {\n",
       "        vertical-align: top;\n",
       "    }\n",
       "\n",
       "    .dataframe thead th {\n",
       "        text-align: right;\n",
       "    }\n",
       "</style>\n",
       "<table border=\"1\" class=\"dataframe\">\n",
       "  <thead>\n",
       "    <tr style=\"text-align: right;\">\n",
       "      <th></th>\n",
       "      <th>Method</th>\n",
       "      <th>Training MSE</th>\n",
       "      <th>Training R2</th>\n",
       "      <th>Test MSE</th>\n",
       "      <th>Test R2</th>\n",
       "    </tr>\n",
       "  </thead>\n",
       "  <tbody>\n",
       "    <tr>\n",
       "      <th>0</th>\n",
       "      <td>Linear Regression</td>\n",
       "      <td>39030402025252.101562</td>\n",
       "      <td>0.743603</td>\n",
       "      <td>38411205574113.484375</td>\n",
       "      <td>0.730295</td>\n",
       "    </tr>\n",
       "    <tr>\n",
       "      <th>1</th>\n",
       "      <td>Ridge Regression</td>\n",
       "      <td>39030402025258.007812</td>\n",
       "      <td>0.743603</td>\n",
       "      <td>38411205724529.554688</td>\n",
       "      <td>0.730295</td>\n",
       "    </tr>\n",
       "  </tbody>\n",
       "</table>\n",
       "</div>"
      ],
      "text/plain": [
       "              Method           Training MSE Training R2  \\\n",
       "0  Linear Regression  39030402025252.101562    0.743603   \n",
       "1   Ridge Regression  39030402025258.007812    0.743603   \n",
       "\n",
       "                Test MSE   Test R2  \n",
       "0  38411205574113.484375  0.730295  \n",
       "1  38411205724529.554688  0.730295  "
      ]
     },
     "execution_count": 24,
     "metadata": {},
     "output_type": "execute_result"
    }
   ],
   "source": [
    "model_comp = pd.concat([lr_results, rg_results], axis = 0).reset_index(drop=True)\n",
    "model_comp"
   ]
  },
  {
   "cell_type": "markdown",
   "id": "bbb1dbf1",
   "metadata": {},
   "source": [
    "### Testing Decision Tree Regressoin"
   ]
  },
  {
   "cell_type": "code",
   "execution_count": 25,
   "id": "d62d6c46",
   "metadata": {},
   "outputs": [],
   "source": [
    "from sklearn.tree import DecisionTreeRegressor\n",
    "tree = DecisionTreeRegressor().fit(X_train, y_train) "
   ]
  },
  {
   "cell_type": "code",
   "execution_count": 26,
   "id": "e0ddf1ab",
   "metadata": {},
   "outputs": [],
   "source": [
    "# recall\n",
    "y_tree_train_pred = tree.predict(X_train)\n",
    "\n",
    "# testing\n",
    "y_tree_test_pred = tree.predict(X_test)"
   ]
  },
  {
   "cell_type": "code",
   "execution_count": 27,
   "id": "25ccb7dc",
   "metadata": {},
   "outputs": [
    {
     "data": {
      "text/plain": [
       "26903    64317144.0\n",
       "8510       138135.0\n",
       "13111       22843.0\n",
       "1652     59506442.0\n",
       "10884      668526.0\n",
       "            ...    \n",
       "20491       22280.0\n",
       "7529       170046.0\n",
       "1513       656789.0\n",
       "19219      315506.0\n",
       "23812      279043.0\n",
       "Name: monthly_listeners, Length: 5485, dtype: float64"
      ]
     },
     "execution_count": 27,
     "metadata": {},
     "output_type": "execute_result"
    }
   ],
   "source": [
    "y_test"
   ]
  },
  {
   "cell_type": "code",
   "execution_count": 28,
   "id": "f20a6702",
   "metadata": {},
   "outputs": [
    {
     "data": {
      "text/plain": [
       "array([6.4254153e+07, 1.3654600e+05, 4.5855000e+04, ..., 6.5027400e+05,\n",
       "       2.9272900e+05, 4.0862900e+05])"
      ]
     },
     "execution_count": 28,
     "metadata": {},
     "output_type": "execute_result"
    }
   ],
   "source": [
    "y_tree_test_pred"
   ]
  },
  {
   "cell_type": "code",
   "execution_count": 29,
   "id": "9281707d",
   "metadata": {},
   "outputs": [],
   "source": [
    "# Evaluation\n",
    "tree_train_mse = mean_squared_error(y_train, y_tree_train_pred)\n",
    "tree_train_r2 = r2_score(y_train, y_tree_train_pred)\n",
    "\n",
    "tree_test_mse = mean_squared_error(y_test, y_tree_test_pred)\n",
    "tree_test_r2 = r2_score(y_test, y_tree_test_pred)"
   ]
  },
  {
   "cell_type": "code",
   "execution_count": 30,
   "id": "b29c4b3c",
   "metadata": {},
   "outputs": [
    {
     "name": "stdout",
     "output_type": "stream",
     "text": [
      "Decision Tree Regression MSE (Train): 89146306.47020416\n",
      "Decision Tree Regression R2 (Train): 0.9999994143826886\n",
      "Decision Tree Regression MSE (Test): 3897102273598.4854\n",
      "Decision Tree Regression R2 (Test): 0.9726364003926591\n"
     ]
    }
   ],
   "source": [
    "print(\"Decision Tree Regression MSE (Train):\", tree_train_mse)\n",
    "print(\"Decision Tree Regression R2 (Train):\", tree_train_r2)\n",
    "print(\"Decision Tree Regression MSE (Test):\", tree_test_mse)\n",
    "print(\"Decision Tree Regression R2 (Test):\", tree_test_r2)"
   ]
  },
  {
   "cell_type": "code",
   "execution_count": 31,
   "id": "b4ea04df",
   "metadata": {},
   "outputs": [
    {
     "data": {
      "text/plain": [
       "Text(0.5, 0, 'Actual Monthly Listeners')"
      ]
     },
     "execution_count": 31,
     "metadata": {},
     "output_type": "execute_result"
    },
    {
     "data": {
      "image/png": "[encoded data removed]",
      "text/plain": [
       "<Figure size 640x480 with 1 Axes>"
      ]
     },
     "metadata": {},
     "output_type": "display_data"
    }
   ],
   "source": [
    "plt.scatter(x = y_test, y = y_tree_test_pred)\n",
    "\n",
    "z = np.polyfit(y_train, y_tree_train_pred, 1)\n",
    "p = np.poly1d(z)\n",
    "\n",
    "plt.plot(y_train, p(y_train), \"#F87\")\n",
    "plt.ylabel('Predicted Monthly Listeners')\n",
    "plt.xlabel('Actual Monthly Listeners')"
   ]
  },
  {
   "cell_type": "code",
   "execution_count": 32,
   "id": "fb2c63fd",
   "metadata": {},
   "outputs": [
    {
     "data": {
      "text/html": [
       "<div>\n",
       "<style scoped>\n",
       "    .dataframe tbody tr th:only-of-type {\n",
       "        vertical-align: middle;\n",
       "    }\n",
       "\n",
       "    .dataframe tbody tr th {\n",
       "        vertical-align: top;\n",
       "    }\n",
       "\n",
       "    .dataframe thead th {\n",
       "        text-align: right;\n",
       "    }\n",
       "</style>\n",
       "<table border=\"1\" class=\"dataframe\">\n",
       "  <thead>\n",
       "    <tr style=\"text-align: right;\">\n",
       "      <th></th>\n",
       "      <th>Method</th>\n",
       "      <th>Training MSE</th>\n",
       "      <th>Training R2</th>\n",
       "      <th>Test MSE</th>\n",
       "      <th>Test R2</th>\n",
       "    </tr>\n",
       "  </thead>\n",
       "  <tbody>\n",
       "    <tr>\n",
       "      <th>0</th>\n",
       "      <td>Decision Tree Regression</td>\n",
       "      <td>89146306.470204</td>\n",
       "      <td>0.999999</td>\n",
       "      <td>3897102273598.485352</td>\n",
       "      <td>0.972636</td>\n",
       "    </tr>\n",
       "  </tbody>\n",
       "</table>\n",
       "</div>"
      ],
      "text/plain": [
       "                     Method     Training MSE Training R2  \\\n",
       "0  Decision Tree Regression  89146306.470204    0.999999   \n",
       "\n",
       "               Test MSE   Test R2  \n",
       "0  3897102273598.485352  0.972636  "
      ]
     },
     "execution_count": 32,
     "metadata": {},
     "output_type": "execute_result"
    }
   ],
   "source": [
    "tree_results = pd.DataFrame(['Decision Tree Regression', tree_train_mse, tree_train_r2, tree_test_mse, tree_test_r2]).transpose()\n",
    "tree_results.columns = ['Method', 'Training MSE', 'Training R2', 'Test MSE', 'Test R2']\n",
    "tree_results"
   ]
  },
  {
   "cell_type": "code",
   "execution_count": 33,
   "id": "5428118e",
   "metadata": {},
   "outputs": [
    {
     "data": {
      "text/html": [
       "<div>\n",
       "<style scoped>\n",
       "    .dataframe tbody tr th:only-of-type {\n",
       "        vertical-align: middle;\n",
       "    }\n",
       "\n",
       "    .dataframe tbody tr th {\n",
       "        vertical-align: top;\n",
       "    }\n",
       "\n",
       "    .dataframe thead th {\n",
       "        text-align: right;\n",
       "    }\n",
       "</style>\n",
       "<table border=\"1\" class=\"dataframe\">\n",
       "  <thead>\n",
       "    <tr style=\"text-align: right;\">\n",
       "      <th></th>\n",
       "      <th>Method</th>\n",
       "      <th>Training MSE</th>\n",
       "      <th>Training R2</th>\n",
       "      <th>Test MSE</th>\n",
       "      <th>Test R2</th>\n",
       "    </tr>\n",
       "  </thead>\n",
       "  <tbody>\n",
       "    <tr>\n",
       "      <th>0</th>\n",
       "      <td>Linear Regression</td>\n",
       "      <td>39030402025252.101562</td>\n",
       "      <td>0.743603</td>\n",
       "      <td>38411205574113.484375</td>\n",
       "      <td>0.730295</td>\n",
       "    </tr>\n",
       "    <tr>\n",
       "      <th>1</th>\n",
       "      <td>Ridge Regression</td>\n",
       "      <td>39030402025258.007812</td>\n",
       "      <td>0.743603</td>\n",
       "      <td>38411205724529.554688</td>\n",
       "      <td>0.730295</td>\n",
       "    </tr>\n",
       "    <tr>\n",
       "      <th>2</th>\n",
       "      <td>Decision Tree Regression</td>\n",
       "      <td>89146306.470204</td>\n",
       "      <td>0.999999</td>\n",
       "      <td>3897102273598.485352</td>\n",
       "      <td>0.972636</td>\n",
       "    </tr>\n",
       "  </tbody>\n",
       "</table>\n",
       "</div>"
      ],
      "text/plain": [
       "                     Method           Training MSE Training R2  \\\n",
       "0         Linear Regression  39030402025252.101562    0.743603   \n",
       "1          Ridge Regression  39030402025258.007812    0.743603   \n",
       "2  Decision Tree Regression        89146306.470204    0.999999   \n",
       "\n",
       "                Test MSE   Test R2  \n",
       "0  38411205574113.484375  0.730295  \n",
       "1  38411205724529.554688  0.730295  \n",
       "2   3897102273598.485352  0.972636  "
      ]
     },
     "execution_count": 33,
     "metadata": {},
     "output_type": "execute_result"
    }
   ],
   "source": [
    "model_comp = pd.concat([model_comp, tree_results], axis = 0).reset_index(drop = True)\n",
    "model_comp"
   ]
  },
  {
   "cell_type": "markdown",
   "id": "43ff0b59",
   "metadata": {},
   "source": [
    "### Random Forrest Regression"
   ]
  },
  {
   "cell_type": "code",
   "execution_count": 34,
   "id": "31339b93",
   "metadata": {},
   "outputs": [],
   "source": [
    "from sklearn.ensemble import RandomForestRegressor\n",
    "rfr = RandomForestRegressor().fit(X_train, y_train)"
   ]
  },
  {
   "cell_type": "code",
   "execution_count": 35,
   "id": "895df7af",
   "metadata": {},
   "outputs": [],
   "source": [
    "# recall\n",
    "y_rfr_train_pred = rfr.predict(X_train)\n",
    "\n",
    "# testing\n",
    "y_rfr_test_pred = rfr.predict(X_test)"
   ]
  },
  {
   "cell_type": "code",
   "execution_count": 36,
   "id": "f7c20aef",
   "metadata": {},
   "outputs": [
    {
     "data": {
      "image/png": "[encoded data removed]",
      "text/plain": [
       "<Figure size 640x480 with 1 Axes>"
      ]
     },
     "metadata": {},
     "output_type": "display_data"
    }
   ],
   "source": [
    "plt.scatter(x = y_test, y = y_rfr_test_pred)\n",
    "\n",
    "z = np.polyfit(y_train, y_rfr_train_pred, 1)\n",
    "p = np.poly1d(z)\n",
    "\n",
    "plt.plot(y_train, p(y_train), \"#F87\")\n",
    "plt.ylabel('Predicted Monthly Listeners')\n",
    "plt.xlabel('Actual Monthly Listeners')\n",
    "plt.show()"
   ]
  },
  {
   "cell_type": "code",
   "execution_count": 37,
   "id": "4ca92751",
   "metadata": {},
   "outputs": [],
   "source": [
    "rfr_train_mse = mean_squared_error(y_train, y_rfr_train_pred)\n",
    "rfr_train_r2 = r2_score(y_train, y_rfr_train_pred)\n",
    "\n",
    "rfr_test_mse = mean_squared_error(y_test, y_rfr_test_pred)\n",
    "rfr_test_r2 = r2_score(y_test, y_rfr_test_pred)"
   ]
  },
  {
   "cell_type": "code",
   "execution_count": 38,
   "id": "8cef4c13",
   "metadata": {},
   "outputs": [
    {
     "data": {
      "text/html": [
       "<div>\n",
       "<style scoped>\n",
       "    .dataframe tbody tr th:only-of-type {\n",
       "        vertical-align: middle;\n",
       "    }\n",
       "\n",
       "    .dataframe tbody tr th {\n",
       "        vertical-align: top;\n",
       "    }\n",
       "\n",
       "    .dataframe thead th {\n",
       "        text-align: right;\n",
       "    }\n",
       "</style>\n",
       "<table border=\"1\" class=\"dataframe\">\n",
       "  <thead>\n",
       "    <tr style=\"text-align: right;\">\n",
       "      <th></th>\n",
       "      <th>Method</th>\n",
       "      <th>Training MSE</th>\n",
       "      <th>Training R2</th>\n",
       "      <th>Test MSE</th>\n",
       "      <th>Test R2</th>\n",
       "    </tr>\n",
       "  </thead>\n",
       "  <tbody>\n",
       "    <tr>\n",
       "      <th>0</th>\n",
       "      <td>Random Forrest Regression</td>\n",
       "      <td>334752902692.728699</td>\n",
       "      <td>0.997801</td>\n",
       "      <td>2552733664939.248047</td>\n",
       "      <td>0.982076</td>\n",
       "    </tr>\n",
       "  </tbody>\n",
       "</table>\n",
       "</div>"
      ],
      "text/plain": [
       "                      Method         Training MSE Training R2  \\\n",
       "0  Random Forrest Regression  334752902692.728699    0.997801   \n",
       "\n",
       "               Test MSE   Test R2  \n",
       "0  2552733664939.248047  0.982076  "
      ]
     },
     "execution_count": 38,
     "metadata": {},
     "output_type": "execute_result"
    }
   ],
   "source": [
    "rfr_results = pd.DataFrame(['Random Forrest Regression', rfr_train_mse, rfr_train_r2, rfr_test_mse, rfr_test_r2]).transpose()\n",
    "rfr_results.columns = ['Method', 'Training MSE', 'Training R2', 'Test MSE', 'Test R2']\n",
    "rfr_results"
   ]
  },
  {
   "cell_type": "code",
   "execution_count": 39,
   "id": "856982d8",
   "metadata": {},
   "outputs": [
    {
     "data": {
      "text/html": [
       "<div>\n",
       "<style scoped>\n",
       "    .dataframe tbody tr th:only-of-type {\n",
       "        vertical-align: middle;\n",
       "    }\n",
       "\n",
       "    .dataframe tbody tr th {\n",
       "        vertical-align: top;\n",
       "    }\n",
       "\n",
       "    .dataframe thead th {\n",
       "        text-align: right;\n",
       "    }\n",
       "</style>\n",
       "<table border=\"1\" class=\"dataframe\">\n",
       "  <thead>\n",
       "    <tr style=\"text-align: right;\">\n",
       "      <th></th>\n",
       "      <th>Method</th>\n",
       "      <th>Training MSE</th>\n",
       "      <th>Training R2</th>\n",
       "      <th>Test MSE</th>\n",
       "      <th>Test R2</th>\n",
       "    </tr>\n",
       "  </thead>\n",
       "  <tbody>\n",
       "    <tr>\n",
       "      <th>0</th>\n",
       "      <td>Linear Regression</td>\n",
       "      <td>39030402025252.101562</td>\n",
       "      <td>0.743603</td>\n",
       "      <td>38411205574113.484375</td>\n",
       "      <td>0.730295</td>\n",
       "    </tr>\n",
       "    <tr>\n",
       "      <th>1</th>\n",
       "      <td>Ridge Regression</td>\n",
       "      <td>39030402025258.007812</td>\n",
       "      <td>0.743603</td>\n",
       "      <td>38411205724529.554688</td>\n",
       "      <td>0.730295</td>\n",
       "    </tr>\n",
       "    <tr>\n",
       "      <th>2</th>\n",
       "      <td>Decision Tree Regression</td>\n",
       "      <td>89146306.470204</td>\n",
       "      <td>0.999999</td>\n",
       "      <td>3897102273598.485352</td>\n",
       "      <td>0.972636</td>\n",
       "    </tr>\n",
       "    <tr>\n",
       "      <th>3</th>\n",
       "      <td>Random Forrest Regression</td>\n",
       "      <td>334752902692.728699</td>\n",
       "      <td>0.997801</td>\n",
       "      <td>2552733664939.248047</td>\n",
       "      <td>0.982076</td>\n",
       "    </tr>\n",
       "  </tbody>\n",
       "</table>\n",
       "</div>"
      ],
      "text/plain": [
       "                      Method           Training MSE Training R2  \\\n",
       "0          Linear Regression  39030402025252.101562    0.743603   \n",
       "1           Ridge Regression  39030402025258.007812    0.743603   \n",
       "2   Decision Tree Regression        89146306.470204    0.999999   \n",
       "3  Random Forrest Regression    334752902692.728699    0.997801   \n",
       "\n",
       "                Test MSE   Test R2  \n",
       "0  38411205574113.484375  0.730295  \n",
       "1  38411205724529.554688  0.730295  \n",
       "2   3897102273598.485352  0.972636  \n",
       "3   2552733664939.248047  0.982076  "
      ]
     },
     "execution_count": 39,
     "metadata": {},
     "output_type": "execute_result"
    }
   ],
   "source": [
    "model_comp = pd.concat([model_comp, rfr_results], axis = 0).reset_index(drop = True)\n",
    "model_comp"
   ]
  },
  {
   "cell_type": "markdown",
   "id": "da4fd2f1",
   "metadata": {},
   "source": [
    "### GridSearchCV on Random Forrest Model"
   ]
  },
  {
   "cell_type": "code",
   "execution_count": 40,
   "id": "d9e1bb88",
   "metadata": {},
   "outputs": [],
   "source": [
    "from sklearn.model_selection import GridSearchCV"
   ]
  },
  {
   "cell_type": "code",
   "execution_count": 41,
   "id": "44d8676c",
   "metadata": {},
   "outputs": [],
   "source": [
    "rfr_param_grid = {\n",
    "    'n_estimators': [100, 200],\n",
    "    'max_depth': [10, 20, None],\n",
    "    'max_features': ['sqrt', 'log2']\n",
    "}"
   ]
  },
  {
   "cell_type": "code",
   "execution_count": null,
   "id": "e867e24d",
   "metadata": {},
   "outputs": [
    {
     "name": "stdout",
     "output_type": "stream",
     "text": [
      "Fitting 5 folds for each of 12 candidates, totalling 60 fits\n"
     ]
    }
   ],
   "source": [
    "rfr_grid = GridSearchCV(\n",
    "    estimator  = rfr,\n",
    "    param_grid = rfr_param_grid,\n",
    "    scoring    = 'r2',\n",
    "    cv         = 5,\n",
    "    verbose    = 1,\n",
    "    n_jobs     = -1\n",
    ")\n",
    "rfr_grid.fit(X_train, y_train)"
   ]
  },
  {
   "cell_type": "code",
   "execution_count": null,
   "id": "b1376399",
   "metadata": {},
   "outputs": [],
   "source": [
    "best_rfr_model = rfr_grid.best_estimator_\n",
    "y_rfr_grid_train_pred = best_rfr_model.predict(X_train)\n",
    "y_rfr_grid_test_pred = best_rfr_model.predict(X_test)"
   ]
  },
  {
   "cell_type": "code",
   "execution_count": null,
   "id": "e3ef2342",
   "metadata": {},
   "outputs": [],
   "source": [
    "rfr_grid_train_mse = mean_squared_error(y_train, y_rfr_grid_train_pred)\n",
    "rfr_grid_train_r2 = r2_score(y_train, y_rfr_grid_train_pred)\n",
    "\n",
    "rfr_grid_test_mse = mean_squared_error(y_test, y_rfr_grid_test_pred)\n",
    "rfr_grid_test_r2 = r2_score(y_test, y_rfr_grid_test_pred)"
   ]
  },
  {
   "cell_type": "code",
   "execution_count": null,
   "id": "a0d77e82",
   "metadata": {},
   "outputs": [
    {
     "data": {
      "text/html": [
       "<div>\n",
       "<style scoped>\n",
       "    .dataframe tbody tr th:only-of-type {\n",
       "        vertical-align: middle;\n",
       "    }\n",
       "\n",
       "    .dataframe tbody tr th {\n",
       "        vertical-align: top;\n",
       "    }\n",
       "\n",
       "    .dataframe thead th {\n",
       "        text-align: right;\n",
       "    }\n",
       "</style>\n",
       "<table border=\"1\" class=\"dataframe\">\n",
       "  <thead>\n",
       "    <tr style=\"text-align: right;\">\n",
       "      <th></th>\n",
       "      <th>Method</th>\n",
       "      <th>Training MSE</th>\n",
       "      <th>Training R2</th>\n",
       "      <th>Test MSE</th>\n",
       "      <th>Test R2</th>\n",
       "    </tr>\n",
       "  </thead>\n",
       "  <tbody>\n",
       "    <tr>\n",
       "      <th>0</th>\n",
       "      <td>GridSearchCV on RFR</td>\n",
       "      <td>282094148175.581726</td>\n",
       "      <td>0.998147</td>\n",
       "      <td>2011468560641.215576</td>\n",
       "      <td>0.985876</td>\n",
       "    </tr>\n",
       "  </tbody>\n",
       "</table>\n",
       "</div>"
      ],
      "text/plain": [
       "                Method         Training MSE Training R2              Test MSE  \\\n",
       "0  GridSearchCV on RFR  282094148175.581726    0.998147  2011468560641.215576   \n",
       "\n",
       "    Test R2  \n",
       "0  0.985876  "
      ]
     },
     "execution_count": 46,
     "metadata": {},
     "output_type": "execute_result"
    }
   ],
   "source": [
    "rfr_grid_results = pd.DataFrame(['GridSearchCV on RFR', rfr_grid_train_mse, rfr_grid_train_r2, rfr_grid_test_mse, rfr_grid_test_r2]).transpose()\n",
    "rfr_grid_results.columns = ['Method', 'Training MSE', 'Training R2', 'Test MSE', 'Test R2']\n",
    "rfr_grid_results"
   ]
  },
  {
   "cell_type": "code",
   "execution_count": null,
   "id": "6eba3c55",
   "metadata": {},
   "outputs": [
    {
     "data": {
      "text/html": [
       "<div>\n",
       "<style scoped>\n",
       "    .dataframe tbody tr th:only-of-type {\n",
       "        vertical-align: middle;\n",
       "    }\n",
       "\n",
       "    .dataframe tbody tr th {\n",
       "        vertical-align: top;\n",
       "    }\n",
       "\n",
       "    .dataframe thead th {\n",
       "        text-align: right;\n",
       "    }\n",
       "</style>\n",
       "<table border=\"1\" class=\"dataframe\">\n",
       "  <thead>\n",
       "    <tr style=\"text-align: right;\">\n",
       "      <th></th>\n",
       "      <th>Method</th>\n",
       "      <th>Training MSE</th>\n",
       "      <th>Training R2</th>\n",
       "      <th>Test MSE</th>\n",
       "      <th>Test R2</th>\n",
       "    </tr>\n",
       "  </thead>\n",
       "  <tbody>\n",
       "    <tr>\n",
       "      <th>0</th>\n",
       "      <td>Linear Regression</td>\n",
       "      <td>39030402025252.101562</td>\n",
       "      <td>0.743603</td>\n",
       "      <td>38411205574113.484375</td>\n",
       "      <td>0.730295</td>\n",
       "    </tr>\n",
       "    <tr>\n",
       "      <th>1</th>\n",
       "      <td>Ridge Regression</td>\n",
       "      <td>39030402025258.007812</td>\n",
       "      <td>0.743603</td>\n",
       "      <td>38411205724529.554688</td>\n",
       "      <td>0.730295</td>\n",
       "    </tr>\n",
       "    <tr>\n",
       "      <th>2</th>\n",
       "      <td>Decision Tree Regression</td>\n",
       "      <td>89146306.470204</td>\n",
       "      <td>0.999999</td>\n",
       "      <td>3989600578562.384766</td>\n",
       "      <td>0.971987</td>\n",
       "    </tr>\n",
       "    <tr>\n",
       "      <th>3</th>\n",
       "      <td>Random Forrest Regression</td>\n",
       "      <td>344188459983.40094</td>\n",
       "      <td>0.997739</td>\n",
       "      <td>2571736819491.317383</td>\n",
       "      <td>0.981942</td>\n",
       "    </tr>\n",
       "    <tr>\n",
       "      <th>4</th>\n",
       "      <td>GridSearchCV on RFR</td>\n",
       "      <td>282094148175.581726</td>\n",
       "      <td>0.998147</td>\n",
       "      <td>2011468560641.215576</td>\n",
       "      <td>0.985876</td>\n",
       "    </tr>\n",
       "  </tbody>\n",
       "</table>\n",
       "</div>"
      ],
      "text/plain": [
       "                      Method           Training MSE Training R2  \\\n",
       "0          Linear Regression  39030402025252.101562    0.743603   \n",
       "1           Ridge Regression  39030402025258.007812    0.743603   \n",
       "2   Decision Tree Regression        89146306.470204    0.999999   \n",
       "3  Random Forrest Regression     344188459983.40094    0.997739   \n",
       "4        GridSearchCV on RFR    282094148175.581726    0.998147   \n",
       "\n",
       "                Test MSE   Test R2  \n",
       "0  38411205574113.484375  0.730295  \n",
       "1  38411205724529.554688  0.730295  \n",
       "2   3989600578562.384766  0.971987  \n",
       "3   2571736819491.317383  0.981942  \n",
       "4   2011468560641.215576  0.985876  "
      ]
     },
     "execution_count": 47,
     "metadata": {},
     "output_type": "execute_result"
    }
   ],
   "source": [
    "model_comp = pd.concat([model_comp, rfr_grid_results], axis = 0).reset_index(drop = True)\n",
    "model_comp"
   ]
  },
  {
   "cell_type": "markdown",
   "id": "0ccd52d9",
   "metadata": {},
   "source": [
    "### Implementing Support Vector Regression"
   ]
  },
  {
   "cell_type": "code",
   "execution_count": null,
   "id": "6f465ce1",
   "metadata": {},
   "outputs": [],
   "source": [
    "from sklearn.svm import SVR\n",
    "\n",
    "svr = SVR().fit(X_train, y_train)"
   ]
  },
  {
   "cell_type": "code",
   "execution_count": null,
   "id": "3091278a",
   "metadata": {},
   "outputs": [],
   "source": [
    "# recall\n",
    "y_svr_train_pred = svr.predict(X_train)\n",
    "y_svr_test_pred = svr.predict(X_test)"
   ]
  },
  {
   "cell_type": "code",
   "execution_count": null,
   "id": "bfaf8597",
   "metadata": {},
   "outputs": [],
   "source": [
    "svr_train_mse = mean_squared_error(y_train, y_svr_train_pred)\n",
    "svr_train_r2 = r2_score(y_train, y_svr_train_pred)\n",
    "\n",
    "svr_test_mse = mean_squared_error(y_test, y_svr_test_pred)\n",
    "svr_test_r2 = r2_score(y_test, y_svr_test_pred)"
   ]
  },
  {
   "cell_type": "code",
   "execution_count": null,
   "id": "7ad0e118",
   "metadata": {},
   "outputs": [
    {
     "data": {
      "image/png": "[encoded data removed]",
      "text/plain": [
       "<Figure size 640x480 with 1 Axes>"
      ]
     },
     "metadata": {},
     "output_type": "display_data"
    }
   ],
   "source": [
    "plt.scatter(x = y_test, y = y_svr_test_pred)\n",
    "\n",
    "z = np.polyfit(y_train, y_svr_train_pred, 1)\n",
    "p = np.poly1d(z)\n",
    "\n",
    "plt.plot(y_train, p(y_train), \"#F87\")\n",
    "plt.ylabel('Predicted Monthly Listeners')\n",
    "plt.xlabel('Actual Monthly Listeners')\n",
    "plt.show()"
   ]
  },
  {
   "cell_type": "code",
   "execution_count": null,
   "id": "23e7df6c",
   "metadata": {},
   "outputs": [],
   "source": [
    "svr_results = pd.DataFrame(['SVM Regressor', svr_train_mse, svr_train_r2, svr_test_mse, svr_test_r2]).transpose()\n",
    "svr_results.columns = ['Method', 'Training MSE', 'Training R2', 'Test MSE', 'Test R2']"
   ]
  },
  {
   "cell_type": "code",
   "execution_count": null,
   "id": "4628325f",
   "metadata": {},
   "outputs": [
    {
     "data": {
      "text/html": [
       "<div>\n",
       "<style scoped>\n",
       "    .dataframe tbody tr th:only-of-type {\n",
       "        vertical-align: middle;\n",
       "    }\n",
       "\n",
       "    .dataframe tbody tr th {\n",
       "        vertical-align: top;\n",
       "    }\n",
       "\n",
       "    .dataframe thead th {\n",
       "        text-align: right;\n",
       "    }\n",
       "</style>\n",
       "<table border=\"1\" class=\"dataframe\">\n",
       "  <thead>\n",
       "    <tr style=\"text-align: right;\">\n",
       "      <th></th>\n",
       "      <th>Method</th>\n",
       "      <th>Training MSE</th>\n",
       "      <th>Training R2</th>\n",
       "      <th>Test MSE</th>\n",
       "      <th>Test R2</th>\n",
       "    </tr>\n",
       "  </thead>\n",
       "  <tbody>\n",
       "    <tr>\n",
       "      <th>0</th>\n",
       "      <td>Linear Regression</td>\n",
       "      <td>39030402025252.101562</td>\n",
       "      <td>0.743603</td>\n",
       "      <td>38411205574113.484375</td>\n",
       "      <td>0.730295</td>\n",
       "    </tr>\n",
       "    <tr>\n",
       "      <th>1</th>\n",
       "      <td>Ridge Regression</td>\n",
       "      <td>39030402025258.007812</td>\n",
       "      <td>0.743603</td>\n",
       "      <td>38411205724529.554688</td>\n",
       "      <td>0.730295</td>\n",
       "    </tr>\n",
       "    <tr>\n",
       "      <th>2</th>\n",
       "      <td>Decision Tree Regression</td>\n",
       "      <td>89146306.470204</td>\n",
       "      <td>0.999999</td>\n",
       "      <td>3989600578562.384766</td>\n",
       "      <td>0.971987</td>\n",
       "    </tr>\n",
       "    <tr>\n",
       "      <th>3</th>\n",
       "      <td>Random Forrest Regression</td>\n",
       "      <td>344188459983.40094</td>\n",
       "      <td>0.997739</td>\n",
       "      <td>2571736819491.317383</td>\n",
       "      <td>0.981942</td>\n",
       "    </tr>\n",
       "    <tr>\n",
       "      <th>4</th>\n",
       "      <td>GridSearchCV on RFR</td>\n",
       "      <td>282094148175.581726</td>\n",
       "      <td>0.998147</td>\n",
       "      <td>2011468560641.215576</td>\n",
       "      <td>0.985876</td>\n",
       "    </tr>\n",
       "    <tr>\n",
       "      <th>5</th>\n",
       "      <td>SVM Regressor</td>\n",
       "      <td>163851774033947.78125</td>\n",
       "      <td>-0.15622</td>\n",
       "      <td>163851774033947.78125</td>\n",
       "      <td>163851774033947.78125</td>\n",
       "    </tr>\n",
       "    <tr>\n",
       "      <th>6</th>\n",
       "      <td>SVM Regressor</td>\n",
       "      <td>163851774033947.78125</td>\n",
       "      <td>-0.15622</td>\n",
       "      <td>163851774033947.78125</td>\n",
       "      <td>-0.150489</td>\n",
       "    </tr>\n",
       "    <tr>\n",
       "      <th>7</th>\n",
       "      <td>SVM Regressor</td>\n",
       "      <td>163851774033947.78125</td>\n",
       "      <td>-0.15622</td>\n",
       "      <td>163851774033947.78125</td>\n",
       "      <td>-0.150489</td>\n",
       "    </tr>\n",
       "  </tbody>\n",
       "</table>\n",
       "</div>"
      ],
      "text/plain": [
       "                      Method           Training MSE Training R2  \\\n",
       "0          Linear Regression  39030402025252.101562    0.743603   \n",
       "1           Ridge Regression  39030402025258.007812    0.743603   \n",
       "2   Decision Tree Regression        89146306.470204    0.999999   \n",
       "3  Random Forrest Regression     344188459983.40094    0.997739   \n",
       "4        GridSearchCV on RFR    282094148175.581726    0.998147   \n",
       "5              SVM Regressor  163851774033947.78125    -0.15622   \n",
       "6              SVM Regressor  163851774033947.78125    -0.15622   \n",
       "7              SVM Regressor  163851774033947.78125    -0.15622   \n",
       "\n",
       "                Test MSE                Test R2  \n",
       "0  38411205574113.484375               0.730295  \n",
       "1  38411205724529.554688               0.730295  \n",
       "2   3989600578562.384766               0.971987  \n",
       "3   2571736819491.317383               0.981942  \n",
       "4   2011468560641.215576               0.985876  \n",
       "5  163851774033947.78125  163851774033947.78125  \n",
       "6  163851774033947.78125              -0.150489  \n",
       "7  163851774033947.78125              -0.150489  "
      ]
     },
     "execution_count": 63,
     "metadata": {},
     "output_type": "execute_result"
    }
   ],
   "source": [
    "model_comp = pd.concat([model_comp, svr_results], axis = 0).reset_index(drop = True)\n",
    "model_comp"
   ]
  },
  {
   "cell_type": "markdown",
   "id": "149be5d3",
   "metadata": {},
   "source": [
    "### XGBoost Implementation"
   ]
  },
  {
   "cell_type": "code",
   "execution_count": null,
   "id": "90b20aed",
   "metadata": {},
   "outputs": [],
   "source": [
    "#%pip install xgboost"
   ]
  },
  {
   "cell_type": "code",
   "execution_count": null,
   "id": "ef5a6d7d",
   "metadata": {},
   "outputs": [
    {
     "name": "stderr",
     "output_type": "stream",
     "text": [
      "c:\\Users\\Jason Gu\\anaconda3\\Lib\\site-packages\\xgboost\\training.py:183: UserWarning: [12:23:59] WARNING: C:\\actions-runner\\_work\\xgboost\\xgboost\\src\\learner.cc:738: \n",
      "Parameters: { \"mx_depth\" } are not used.\n",
      "\n",
      "  bst.update(dtrain, iteration=i, fobj=obj)\n"
     ]
    }
   ],
   "source": [
    "from xgboost import XGBRegressor\n",
    "from sklearn.metrics import make_scorer\n",
    "from sklearn.model_selection import GridSearchCV\n",
    "xgbr = XGBRegressor(objective = 'reg:squarederror', \n",
    "                    tree_method = 'hist',\n",
    "                    n_estimators = 8000, \n",
    "                    learning_rate = 0.015, \n",
    "                    mx_depth = 4).fit(X_train, y_train)"
   ]
  },
  {
   "cell_type": "code",
   "execution_count": null,
   "id": "c5c4a0e0",
   "metadata": {},
   "outputs": [],
   "source": [
    "# recall\n",
    "y_xgbr_train_pred = xgbr.predict(X_train)\n",
    "\n",
    "# testing\n",
    "y_xgbr_test_pred = xgbr.predict(X_test)"
   ]
  },
  {
   "cell_type": "code",
   "execution_count": null,
   "id": "ab2313ac",
   "metadata": {},
   "outputs": [
    {
     "data": {
      "image/png": "[encoded data removed]",
      "text/plain": [
       "<Figure size 640x480 with 1 Axes>"
      ]
     },
     "metadata": {},
     "output_type": "display_data"
    }
   ],
   "source": [
    "plt.scatter(x = y_test, y = y_xgbr_test_pred)\n",
    "\n",
    "z = np.polyfit(y_train, y_xgbr_train_pred, 1)\n",
    "p = np.poly1d(z)\n",
    "\n",
    "plt.plot(y_train, p(y_train), color = \"#F78\")\n",
    "\n",
    "plt.title('XGBoost Regression Test Results')\n",
    "plt.xlabel('Actual Monthly Listeners')\n",
    "plt.ylabel('Predicted Monthly Listeners')\n",
    "plt.show()"
   ]
  },
  {
   "cell_type": "code",
   "execution_count": null,
   "id": "0e07a676",
   "metadata": {},
   "outputs": [
    {
     "data": {
      "image/png": "[encoded data removed]",
      "text/plain": [
       "<Figure size 640x480 with 1 Axes>"
      ]
     },
     "metadata": {},
     "output_type": "display_data"
    }
   ],
   "source": [
    "z = np.polyfit(y_train, y_xgbr_train_pred, 1)\n",
    "p = np.poly1d(z)\n",
    "\n",
    "sns.lineplot(x = y_test, y = p(y_test), color = \"#F87\")\n",
    "sns.scatterplot(x = y_test,\n",
    "                y = y_xgbr_test_pred,\n",
    "                markers=True)\n",
    "plt.show()"
   ]
  },
  {
   "cell_type": "code",
   "execution_count": null,
   "id": "fe766bac",
   "metadata": {},
   "outputs": [],
   "source": [
    "xgbr_train_mse = mean_squared_error(y_train, y_xgbr_train_pred)\n",
    "xgbr_train_r2 = r2_score(y_train, y_xgbr_train_pred)\n",
    "\n",
    "xgbr_test_mse = mean_squared_error(y_test, y_xgbr_test_pred)\n",
    "xgbr_test_r2 = r2_score(y_test, y_xgbr_test_pred)"
   ]
  },
  {
   "cell_type": "code",
   "execution_count": null,
   "id": "ca4a6b9e",
   "metadata": {},
   "outputs": [
    {
     "data": {
      "text/html": [
       "<div>\n",
       "<style scoped>\n",
       "    .dataframe tbody tr th:only-of-type {\n",
       "        vertical-align: middle;\n",
       "    }\n",
       "\n",
       "    .dataframe tbody tr th {\n",
       "        vertical-align: top;\n",
       "    }\n",
       "\n",
       "    .dataframe thead th {\n",
       "        text-align: right;\n",
       "    }\n",
       "</style>\n",
       "<table border=\"1\" class=\"dataframe\">\n",
       "  <thead>\n",
       "    <tr style=\"text-align: right;\">\n",
       "      <th></th>\n",
       "      <th>Method</th>\n",
       "      <th>Training MSE</th>\n",
       "      <th>Training R2</th>\n",
       "      <th>Test MSE</th>\n",
       "      <th>Test R2</th>\n",
       "    </tr>\n",
       "  </thead>\n",
       "  <tbody>\n",
       "    <tr>\n",
       "      <th>0</th>\n",
       "      <td>XGBoost Regression</td>\n",
       "      <td>566224055422.700195</td>\n",
       "      <td>0.99628</td>\n",
       "      <td>2549885785970.439453</td>\n",
       "      <td>0.982096</td>\n",
       "    </tr>\n",
       "  </tbody>\n",
       "</table>\n",
       "</div>"
      ],
      "text/plain": [
       "               Method         Training MSE Training R2              Test MSE  \\\n",
       "0  XGBoost Regression  566224055422.700195     0.99628  2549885785970.439453   \n",
       "\n",
       "    Test R2  \n",
       "0  0.982096  "
      ]
     },
     "execution_count": 138,
     "metadata": {},
     "output_type": "execute_result"
    }
   ],
   "source": [
    "xgbr_results = pd.DataFrame(['XGBoost Regression', xgbr_train_mse, xgbr_train_r2, xgbr_test_mse, xgbr_test_r2]).transpose()\n",
    "xgbr_results.columns = ['Method', 'Training MSE',\t'Training R2', 'Test MSE', 'Test R2']\n",
    "xgbr_results"
   ]
  },
  {
   "cell_type": "code",
   "execution_count": null,
   "id": "fbbf0266",
   "metadata": {},
   "outputs": [
    {
     "data": {
      "text/html": [
       "<div>\n",
       "<style scoped>\n",
       "    .dataframe tbody tr th:only-of-type {\n",
       "        vertical-align: middle;\n",
       "    }\n",
       "\n",
       "    .dataframe tbody tr th {\n",
       "        vertical-align: top;\n",
       "    }\n",
       "\n",
       "    .dataframe thead th {\n",
       "        text-align: right;\n",
       "    }\n",
       "</style>\n",
       "<table border=\"1\" class=\"dataframe\">\n",
       "  <thead>\n",
       "    <tr style=\"text-align: right;\">\n",
       "      <th></th>\n",
       "      <th>Method</th>\n",
       "      <th>Training MSE</th>\n",
       "      <th>Training R2</th>\n",
       "      <th>Test MSE</th>\n",
       "      <th>Test R2</th>\n",
       "    </tr>\n",
       "  </thead>\n",
       "  <tbody>\n",
       "    <tr>\n",
       "      <th>0</th>\n",
       "      <td>Linear Regression</td>\n",
       "      <td>39030402025252.09375</td>\n",
       "      <td>0.743603</td>\n",
       "      <td>38411205574113.507812</td>\n",
       "      <td>0.730295</td>\n",
       "    </tr>\n",
       "    <tr>\n",
       "      <th>1</th>\n",
       "      <td>Ridge Regression</td>\n",
       "      <td>39030402025258.007812</td>\n",
       "      <td>0.743603</td>\n",
       "      <td>38411205724529.554688</td>\n",
       "      <td>0.730295</td>\n",
       "    </tr>\n",
       "    <tr>\n",
       "      <th>2</th>\n",
       "      <td>Decision Tree Regression</td>\n",
       "      <td>89146306.470204</td>\n",
       "      <td>0.999999</td>\n",
       "      <td>3893633324447.854004</td>\n",
       "      <td>0.972661</td>\n",
       "    </tr>\n",
       "    <tr>\n",
       "      <th>3</th>\n",
       "      <td>Random Forrest Regression</td>\n",
       "      <td>334098573914.365967</td>\n",
       "      <td>0.997805</td>\n",
       "      <td>2517290170565.680176</td>\n",
       "      <td>0.982325</td>\n",
       "    </tr>\n",
       "    <tr>\n",
       "      <th>4</th>\n",
       "      <td>GridSearchCV on RFR</td>\n",
       "      <td>300672656523.360229</td>\n",
       "      <td>0.998025</td>\n",
       "      <td>2036847430300.880127</td>\n",
       "      <td>0.985698</td>\n",
       "    </tr>\n",
       "    <tr>\n",
       "      <th>5</th>\n",
       "      <td>XGBoost Regression</td>\n",
       "      <td>566224055422.700195</td>\n",
       "      <td>0.99628</td>\n",
       "      <td>2549885785970.439453</td>\n",
       "      <td>0.982096</td>\n",
       "    </tr>\n",
       "  </tbody>\n",
       "</table>\n",
       "</div>"
      ],
      "text/plain": [
       "                      Method           Training MSE Training R2  \\\n",
       "0          Linear Regression   39030402025252.09375    0.743603   \n",
       "1           Ridge Regression  39030402025258.007812    0.743603   \n",
       "2   Decision Tree Regression        89146306.470204    0.999999   \n",
       "3  Random Forrest Regression    334098573914.365967    0.997805   \n",
       "4        GridSearchCV on RFR    300672656523.360229    0.998025   \n",
       "5         XGBoost Regression    566224055422.700195     0.99628   \n",
       "\n",
       "                Test MSE   Test R2  \n",
       "0  38411205574113.507812  0.730295  \n",
       "1  38411205724529.554688  0.730295  \n",
       "2   3893633324447.854004  0.972661  \n",
       "3   2517290170565.680176  0.982325  \n",
       "4   2036847430300.880127  0.985698  \n",
       "5   2549885785970.439453  0.982096  "
      ]
     },
     "execution_count": 139,
     "metadata": {},
     "output_type": "execute_result"
    }
   ],
   "source": [
    "model_comp = pd.concat([model_comp, xgbr_results], axis = 0).reset_index(drop = True)\n",
    "model_comp"
   ]
  },
  {
   "cell_type": "markdown",
   "id": "c0c69a29",
   "metadata": {},
   "source": [
    "### GridSearchCV on XGBoost"
   ]
  },
  {
   "cell_type": "code",
   "execution_count": null,
   "id": "f1c7f4a7",
   "metadata": {},
   "outputs": [],
   "source": [
    "xgbr_params_grid = {\n",
    "    'n_estimators'     : [100, 300, 500],\n",
    "    'learning_rate'    : [0.01, 0.05, 0.1],\n",
    "    'max_depth'        : [3, 4, 5],\n",
    "    'subsample'        : [0.8, 1.0],\n",
    "    'colsample_bytree' : [0.8, 1.0]\n",
    "}"
   ]
  },
  {
   "cell_type": "code",
   "execution_count": null,
   "id": "a7deda32",
   "metadata": {},
   "outputs": [],
   "source": [
    "rmse_scorer = make_scorer(mean_squared_error, greater_is_better=False)"
   ]
  },
  {
   "cell_type": "code",
   "execution_count": null,
   "id": "36a2729c",
   "metadata": {},
   "outputs": [
    {
     "name": "stdout",
     "output_type": "stream",
     "text": [
      "Fitting 5 folds for each of 108 candidates, totalling 540 fits\n"
     ]
    },
    {
     "name": "stderr",
     "output_type": "stream",
     "text": [
      "c:\\Users\\Jason Gu\\anaconda3\\Lib\\site-packages\\xgboost\\training.py:183: UserWarning: [12:24:35] WARNING: C:\\actions-runner\\_work\\xgboost\\xgboost\\src\\learner.cc:738: \n",
      "Parameters: { \"mx_depth\" } are not used.\n",
      "\n",
      "  bst.update(dtrain, iteration=i, fobj=obj)\n"
     ]
    }
   ],
   "source": [
    "xgbr_grid = GridSearchCV(\n",
    "    estimator  = xgbr,\n",
    "    param_grid = xgbr_params_grid,\n",
    "    scoring    = rmse_scorer,\n",
    "    cv         = 5,\n",
    "    verbose    = 1,\n",
    "    n_jobs     = -1\n",
    ").fit(X_train, y_train)"
   ]
  },
  {
   "cell_type": "code",
   "execution_count": null,
   "id": "378bf05e",
   "metadata": {},
   "outputs": [],
   "source": [
    "# recall\n",
    "y_xgbr_grid_train_pred = xgbr_grid.predict(X_train)\n",
    "\n",
    "\n",
    "y_xgbr_grid_test_pred = xgbr_grid.predict(X_test)"
   ]
  },
  {
   "cell_type": "code",
   "execution_count": null,
   "id": "89124911",
   "metadata": {},
   "outputs": [
    {
     "data": {
      "image/png": "[encoded data removed]",
      "text/plain": [
       "<Figure size 640x480 with 1 Axes>"
      ]
     },
     "metadata": {},
     "output_type": "display_data"
    }
   ],
   "source": [
    "z = np.polyfit(y_train, y_xgbr_grid_train_pred, 1)\n",
    "p = np.poly1d(z)\n",
    "\n",
    "sns.lineplot(x = y_test, y = p(y_test), color = \"#F87\")\n",
    "sns.scatterplot(x = y_test,\n",
    "                y = y_xgbr_grid_test_pred,\n",
    "                markers=True)\n",
    "plt.show()"
   ]
  },
  {
   "cell_type": "code",
   "execution_count": null,
   "id": "115fefe8",
   "metadata": {},
   "outputs": [],
   "source": [
    "xgbr_gird_train_mse = mean_squared_error(y_train, y_xgbr_grid_train_pred)\n",
    "xgbr_grid_train_r2 = r2_score(y_train, y_xgbr_grid_train_pred)\n",
    "\n",
    "xgbr_grid_test_mse = mean_squared_error(y_test, y_xgbr_grid_test_pred)\n",
    "xgbr_grid_test_r2 = r2_score(y_test, y_xgbr_grid_test_pred)"
   ]
  },
  {
   "cell_type": "code",
   "execution_count": null,
   "id": "e1ba3037",
   "metadata": {},
   "outputs": [
    {
     "data": {
      "text/html": [
       "<div>\n",
       "<style scoped>\n",
       "    .dataframe tbody tr th:only-of-type {\n",
       "        vertical-align: middle;\n",
       "    }\n",
       "\n",
       "    .dataframe tbody tr th {\n",
       "        vertical-align: top;\n",
       "    }\n",
       "\n",
       "    .dataframe thead th {\n",
       "        text-align: right;\n",
       "    }\n",
       "</style>\n",
       "<table border=\"1\" class=\"dataframe\">\n",
       "  <thead>\n",
       "    <tr style=\"text-align: right;\">\n",
       "      <th></th>\n",
       "      <th>Method</th>\n",
       "      <th>Training MSE</th>\n",
       "      <th>Training R2</th>\n",
       "      <th>Test MSE</th>\n",
       "      <th>Test R2</th>\n",
       "    </tr>\n",
       "  </thead>\n",
       "  <tbody>\n",
       "    <tr>\n",
       "      <th>0</th>\n",
       "      <td>GridSearchCV on XGBoost Regression</td>\n",
       "      <td>566224055422.700195</td>\n",
       "      <td>0.99628</td>\n",
       "      <td>2549885785970.439453</td>\n",
       "      <td>0.982096</td>\n",
       "    </tr>\n",
       "  </tbody>\n",
       "</table>\n",
       "</div>"
      ],
      "text/plain": [
       "                               Method         Training MSE Training R2  \\\n",
       "0  GridSearchCV on XGBoost Regression  566224055422.700195     0.99628   \n",
       "\n",
       "               Test MSE   Test R2  \n",
       "0  2549885785970.439453  0.982096  "
      ]
     },
     "execution_count": 146,
     "metadata": {},
     "output_type": "execute_result"
    }
   ],
   "source": [
    "xgbr_grid_results = pd.DataFrame(['GridSearchCV on XGBoost Regression', xgbr_train_mse, xgbr_train_r2, xgbr_test_mse, xgbr_test_r2]).transpose()\n",
    "xgbr_grid_results.columns = ['Method', 'Training MSE',\t'Training R2', 'Test MSE', 'Test R2']\n",
    "xgbr_grid_results"
   ]
  },
  {
   "cell_type": "code",
   "execution_count": null,
   "id": "060841ac",
   "metadata": {},
   "outputs": [
    {
     "data": {
      "text/html": [
       "<div>\n",
       "<style scoped>\n",
       "    .dataframe tbody tr th:only-of-type {\n",
       "        vertical-align: middle;\n",
       "    }\n",
       "\n",
       "    .dataframe tbody tr th {\n",
       "        vertical-align: top;\n",
       "    }\n",
       "\n",
       "    .dataframe thead th {\n",
       "        text-align: right;\n",
       "    }\n",
       "</style>\n",
       "<table border=\"1\" class=\"dataframe\">\n",
       "  <thead>\n",
       "    <tr style=\"text-align: right;\">\n",
       "      <th></th>\n",
       "      <th>Method</th>\n",
       "      <th>Training MSE</th>\n",
       "      <th>Training R2</th>\n",
       "      <th>Test MSE</th>\n",
       "      <th>Test R2</th>\n",
       "    </tr>\n",
       "  </thead>\n",
       "  <tbody>\n",
       "    <tr>\n",
       "      <th>0</th>\n",
       "      <td>Linear Regression</td>\n",
       "      <td>39030402025252.09375</td>\n",
       "      <td>0.743603</td>\n",
       "      <td>38411205574113.507812</td>\n",
       "      <td>0.730295</td>\n",
       "    </tr>\n",
       "    <tr>\n",
       "      <th>1</th>\n",
       "      <td>Ridge Regression</td>\n",
       "      <td>39030402025258.007812</td>\n",
       "      <td>0.743603</td>\n",
       "      <td>38411205724529.554688</td>\n",
       "      <td>0.730295</td>\n",
       "    </tr>\n",
       "    <tr>\n",
       "      <th>2</th>\n",
       "      <td>Decision Tree Regression</td>\n",
       "      <td>89146306.470204</td>\n",
       "      <td>0.999999</td>\n",
       "      <td>3893633324447.854004</td>\n",
       "      <td>0.972661</td>\n",
       "    </tr>\n",
       "    <tr>\n",
       "      <th>3</th>\n",
       "      <td>Random Forrest Regression</td>\n",
       "      <td>334098573914.365967</td>\n",
       "      <td>0.997805</td>\n",
       "      <td>2517290170565.680176</td>\n",
       "      <td>0.982325</td>\n",
       "    </tr>\n",
       "    <tr>\n",
       "      <th>4</th>\n",
       "      <td>GridSearchCV on RFR</td>\n",
       "      <td>300672656523.360229</td>\n",
       "      <td>0.998025</td>\n",
       "      <td>2036847430300.880127</td>\n",
       "      <td>0.985698</td>\n",
       "    </tr>\n",
       "    <tr>\n",
       "      <th>5</th>\n",
       "      <td>XGBoost Regression</td>\n",
       "      <td>566224055422.700195</td>\n",
       "      <td>0.99628</td>\n",
       "      <td>2549885785970.439453</td>\n",
       "      <td>0.982096</td>\n",
       "    </tr>\n",
       "    <tr>\n",
       "      <th>6</th>\n",
       "      <td>GridSearchCV on XGBoost Regression</td>\n",
       "      <td>566224055422.700195</td>\n",
       "      <td>0.99628</td>\n",
       "      <td>2549885785970.439453</td>\n",
       "      <td>0.982096</td>\n",
       "    </tr>\n",
       "  </tbody>\n",
       "</table>\n",
       "</div>"
      ],
      "text/plain": [
       "                               Method           Training MSE Training R2  \\\n",
       "0                   Linear Regression   39030402025252.09375    0.743603   \n",
       "1                    Ridge Regression  39030402025258.007812    0.743603   \n",
       "2            Decision Tree Regression        89146306.470204    0.999999   \n",
       "3           Random Forrest Regression    334098573914.365967    0.997805   \n",
       "4                 GridSearchCV on RFR    300672656523.360229    0.998025   \n",
       "5                  XGBoost Regression    566224055422.700195     0.99628   \n",
       "6  GridSearchCV on XGBoost Regression    566224055422.700195     0.99628   \n",
       "\n",
       "                Test MSE   Test R2  \n",
       "0  38411205574113.507812  0.730295  \n",
       "1  38411205724529.554688  0.730295  \n",
       "2   3893633324447.854004  0.972661  \n",
       "3   2517290170565.680176  0.982325  \n",
       "4   2036847430300.880127  0.985698  \n",
       "5   2549885785970.439453  0.982096  \n",
       "6   2549885785970.439453  0.982096  "
      ]
     },
     "execution_count": 147,
     "metadata": {},
     "output_type": "execute_result"
    }
   ],
   "source": [
    "model_comp = pd.concat([model_comp, xgbr_grid_results], axis = 0).reset_index(drop = True)\n",
    "model_comp"
   ]
  },
  {
   "cell_type": "markdown",
   "id": "161981d2",
   "metadata": {},
   "source": [
    "### LightGBM Implementation"
   ]
  },
  {
   "cell_type": "code",
   "execution_count": null,
   "id": "ad525cb1",
   "metadata": {},
   "outputs": [],
   "source": [
    "import lightgbm as lgb"
   ]
  },
  {
   "cell_type": "code",
   "execution_count": null,
   "id": "dc23b923",
   "metadata": {},
   "outputs": [
    {
     "name": "stdout",
     "output_type": "stream",
     "text": [
      "[LightGBM] [Info] Auto-choosing row-wise multi-threading, the overhead of testing was 0.000215 seconds.\n",
      "You can set `force_row_wise=true` to remove the overhead.\n",
      "And if memory is not enough, you can set `force_col_wise=true`.\n",
      "[LightGBM] [Info] Total Bins 706\n",
      "[LightGBM] [Info] Number of data points in the train set: 21937, number of used features: 5\n",
      "[LightGBM] [Info] Start training from score 5423616.713452\n"
     ]
    }
   ],
   "source": [
    "lgbr = lgb.LGBMRegressor().fit(X_train, y_train)"
   ]
  },
  {
   "cell_type": "code",
   "execution_count": null,
   "id": "13526c6b",
   "metadata": {},
   "outputs": [],
   "source": [
    "# recall measures\n",
    "y_lgbr_train_pred = lgbr.predict(X_train)\n",
    "\n",
    "\n",
    "y_lgbr_test_pred = lgbr.predict(X_test)"
   ]
  },
  {
   "cell_type": "code",
   "execution_count": null,
   "id": "73846c41",
   "metadata": {},
   "outputs": [
    {
     "data": {
      "image/png": "[encoded data removed]",
      "text/plain": [
       "<Figure size 640x480 with 1 Axes>"
      ]
     },
     "metadata": {},
     "output_type": "display_data"
    }
   ],
   "source": [
    "plt.plot(y_train, p(y_train), \"#F78\")\n",
    "\n",
    "sns.scatterplot(x = y_test, y = y_lgbr_test_pred)\n",
    "plt.show()"
   ]
  },
  {
   "cell_type": "code",
   "execution_count": null,
   "id": "cc1e2e21",
   "metadata": {},
   "outputs": [],
   "source": [
    "lgbr_train_mse = mean_squared_error(y_train, y_lgbr_train_pred)\n",
    "lgbr_train_r2 = r2_score(y_train, y_lgbr_train_pred)\n",
    "\n",
    "lgbr_test_mse = mean_squared_error(y_test, y_lgbr_test_pred)\n",
    "lgbr_test_r2 = r2_score(y_test, y_lgbr_test_pred)"
   ]
  },
  {
   "cell_type": "code",
   "execution_count": null,
   "id": "93ea4687",
   "metadata": {},
   "outputs": [],
   "source": [
    "lgbr_results = pd.DataFrame(['LightGBM Regressor', lgbr_train_mse, lgbr_train_r2, lgbr_test_mse, lgbr_test_r2]).transpose()\n",
    "lgbr_results.columns = ['Method', 'Training MSE',\t'Training R2', 'Test MSE', 'Test R2']"
   ]
  },
  {
   "cell_type": "code",
   "execution_count": null,
   "id": "33e28349",
   "metadata": {},
   "outputs": [
    {
     "data": {
      "text/html": [
       "<div>\n",
       "<style scoped>\n",
       "    .dataframe tbody tr th:only-of-type {\n",
       "        vertical-align: middle;\n",
       "    }\n",
       "\n",
       "    .dataframe tbody tr th {\n",
       "        vertical-align: top;\n",
       "    }\n",
       "\n",
       "    .dataframe thead th {\n",
       "        text-align: right;\n",
       "    }\n",
       "</style>\n",
       "<table border=\"1\" class=\"dataframe\">\n",
       "  <thead>\n",
       "    <tr style=\"text-align: right;\">\n",
       "      <th></th>\n",
       "      <th>Method</th>\n",
       "      <th>Training MSE</th>\n",
       "      <th>Training R2</th>\n",
       "      <th>Test MSE</th>\n",
       "      <th>Test R2</th>\n",
       "    </tr>\n",
       "  </thead>\n",
       "  <tbody>\n",
       "    <tr>\n",
       "      <th>0</th>\n",
       "      <td>Linear Regression</td>\n",
       "      <td>39030402025252.09375</td>\n",
       "      <td>0.743603</td>\n",
       "      <td>38411205574113.507812</td>\n",
       "      <td>0.730295</td>\n",
       "    </tr>\n",
       "    <tr>\n",
       "      <th>1</th>\n",
       "      <td>Ridge Regression</td>\n",
       "      <td>39030402025258.007812</td>\n",
       "      <td>0.743603</td>\n",
       "      <td>38411205724529.554688</td>\n",
       "      <td>0.730295</td>\n",
       "    </tr>\n",
       "    <tr>\n",
       "      <th>2</th>\n",
       "      <td>Decision Tree Regression</td>\n",
       "      <td>89146306.470204</td>\n",
       "      <td>0.999999</td>\n",
       "      <td>3893633324447.854004</td>\n",
       "      <td>0.972661</td>\n",
       "    </tr>\n",
       "    <tr>\n",
       "      <th>3</th>\n",
       "      <td>Random Forrest Regression</td>\n",
       "      <td>334098573914.365967</td>\n",
       "      <td>0.997805</td>\n",
       "      <td>2517290170565.680176</td>\n",
       "      <td>0.982325</td>\n",
       "    </tr>\n",
       "    <tr>\n",
       "      <th>4</th>\n",
       "      <td>GridSearchCV on RFR</td>\n",
       "      <td>300672656523.360229</td>\n",
       "      <td>0.998025</td>\n",
       "      <td>2036847430300.880127</td>\n",
       "      <td>0.985698</td>\n",
       "    </tr>\n",
       "    <tr>\n",
       "      <th>5</th>\n",
       "      <td>XGBoost Regression</td>\n",
       "      <td>566224055422.700195</td>\n",
       "      <td>0.99628</td>\n",
       "      <td>2549885785970.439453</td>\n",
       "      <td>0.982096</td>\n",
       "    </tr>\n",
       "    <tr>\n",
       "      <th>6</th>\n",
       "      <td>GridSearchCV on XGBoost Regression</td>\n",
       "      <td>566224055422.700195</td>\n",
       "      <td>0.99628</td>\n",
       "      <td>2549885785970.439453</td>\n",
       "      <td>0.982096</td>\n",
       "    </tr>\n",
       "    <tr>\n",
       "      <th>7</th>\n",
       "      <td>LightGBM Regressor</td>\n",
       "      <td>4144978912889.751465</td>\n",
       "      <td>0.972771</td>\n",
       "      <td>4843319226573.392578</td>\n",
       "      <td>0.965993</td>\n",
       "    </tr>\n",
       "  </tbody>\n",
       "</table>\n",
       "</div>"
      ],
      "text/plain": [
       "                               Method           Training MSE Training R2  \\\n",
       "0                   Linear Regression   39030402025252.09375    0.743603   \n",
       "1                    Ridge Regression  39030402025258.007812    0.743603   \n",
       "2            Decision Tree Regression        89146306.470204    0.999999   \n",
       "3           Random Forrest Regression    334098573914.365967    0.997805   \n",
       "4                 GridSearchCV on RFR    300672656523.360229    0.998025   \n",
       "5                  XGBoost Regression    566224055422.700195     0.99628   \n",
       "6  GridSearchCV on XGBoost Regression    566224055422.700195     0.99628   \n",
       "7                  LightGBM Regressor   4144978912889.751465    0.972771   \n",
       "\n",
       "                Test MSE   Test R2  \n",
       "0  38411205574113.507812  0.730295  \n",
       "1  38411205724529.554688  0.730295  \n",
       "2   3893633324447.854004  0.972661  \n",
       "3   2517290170565.680176  0.982325  \n",
       "4   2036847430300.880127  0.985698  \n",
       "5   2549885785970.439453  0.982096  \n",
       "6   2549885785970.439453  0.982096  \n",
       "7   4843319226573.392578  0.965993  "
      ]
     },
     "execution_count": 154,
     "metadata": {},
     "output_type": "execute_result"
    }
   ],
   "source": [
    "model_comp = pd.concat([model_comp, lgbr_results], axis = 0).reset_index(drop = True)\n",
    "model_comp"
   ]
  },
  {
   "cell_type": "markdown",
   "id": "1eeaeb6f",
   "metadata": {},
   "source": [
    "### Unseen Data Testing"
   ]
  },
  {
   "cell_type": "code",
   "execution_count": null,
   "id": "6e3d99a2",
   "metadata": {},
   "outputs": [],
   "source": [
    "artist_stats = []\n",
    "artist_name = 'Marado'\n",
    "popularity = 32\n",
    "followers = 7439\n",
    "# num_releases = 2\n",
    "# num_tracks = 1\n",
    "first_release_year = 2023\n",
    "last_release_year = 2025\n",
    "active_years = last_release_year - first_release_year\n",
    "log_followers = np.log1p(followers)"
   ]
  },
  {
   "cell_type": "code",
   "execution_count": null,
   "id": "e7ee1a67",
   "metadata": {},
   "outputs": [
    {
     "data": {
      "text/html": [
       "<div>\n",
       "<style scoped>\n",
       "    .dataframe tbody tr th:only-of-type {\n",
       "        vertical-align: middle;\n",
       "    }\n",
       "\n",
       "    .dataframe tbody tr th {\n",
       "        vertical-align: top;\n",
       "    }\n",
       "\n",
       "    .dataframe thead th {\n",
       "        text-align: right;\n",
       "    }\n",
       "</style>\n",
       "<table border=\"1\" class=\"dataframe\">\n",
       "  <thead>\n",
       "    <tr style=\"text-align: right;\">\n",
       "      <th></th>\n",
       "      <th>popularity</th>\n",
       "      <th>followers</th>\n",
       "      <th>first_release_year</th>\n",
       "      <th>last_release_year</th>\n",
       "      <th>log_followers</th>\n",
       "    </tr>\n",
       "  </thead>\n",
       "  <tbody>\n",
       "    <tr>\n",
       "      <th>0</th>\n",
       "      <td>32.0</td>\n",
       "      <td>7439.0</td>\n",
       "      <td>2023.0</td>\n",
       "      <td>2025.0</td>\n",
       "      <td>8.914626</td>\n",
       "    </tr>\n",
       "  </tbody>\n",
       "</table>\n",
       "</div>"
      ],
      "text/plain": [
       "   popularity  followers  first_release_year  last_release_year  log_followers\n",
       "0        32.0     7439.0              2023.0             2025.0       8.914626"
      ]
     },
     "execution_count": 156,
     "metadata": {},
     "output_type": "execute_result"
    }
   ],
   "source": [
    "artist_stats = pd.DataFrame([popularity, followers, first_release_year, last_release_year, log_followers]).transpose()\n",
    "artist_stats.columns = ['popularity', 'followers', 'first_release_year', 'last_release_year', 'log_followers']\n",
    "artist_stats.head()"
   ]
  },
  {
   "cell_type": "code",
   "execution_count": null,
   "id": "1b4c1e12",
   "metadata": {},
   "outputs": [],
   "source": [
    "artist_monthly_listens = rfr_grid.predict(artist_stats)"
   ]
  },
  {
   "cell_type": "code",
   "execution_count": null,
   "id": "5b30f487",
   "metadata": {},
   "outputs": [],
   "source": [
    "artist_monthly_listens = int(artist_monthly_listens[0])"
   ]
  },
  {
   "cell_type": "code",
   "execution_count": null,
   "id": "2ead0f57",
   "metadata": {},
   "outputs": [
    {
     "name": "stdout",
     "output_type": "stream",
     "text": [
      "Marado's predicted monthly listeners is around 104179!\n"
     ]
    }
   ],
   "source": [
    "print(f\"{artist_name}'s predicted monthly listeners is around {artist_monthly_listens}!\")"
   ]
  },
  {
   "cell_type": "code",
   "execution_count": null,
   "id": "2d79e798",
   "metadata": {},
   "outputs": [],
   "source": []
  }
 ],
 "metadata": {
  "kernelspec": {
   "display_name": "base",
   "language": "python",
   "name": "python3"
  },
  "language_info": {
   "codemirror_mode": {
    "name": "ipython",
    "version": 3
   },
   "file_extension": ".py",
   "mimetype": "text/x-python",
   "name": "python",
   "nbconvert_exporter": "python",
   "pygments_lexer": "ipython3",
   "version": "3.12.3"
  }
 },
 "nbformat": 4,
 "nbformat_minor": 5
}
