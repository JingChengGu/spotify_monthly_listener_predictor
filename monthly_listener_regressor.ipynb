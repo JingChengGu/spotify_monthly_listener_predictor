{
 "cells": [
  {
   "cell_type": "code",
   "execution_count": 27,
   "id": "02ee05af",
   "metadata": {},
   "outputs": [],
   "source": [
    "import pandas as pd\n",
    "from sklearn.linear_model import LinearRegression\n",
    "from sklearn.model_selection import train_test_split\n",
    "from sklearn.metrics import mean_squared_error, r2_score"
   ]
  },
  {
   "cell_type": "code",
   "execution_count": 14,
   "id": "e8608c2c",
   "metadata": {},
   "outputs": [],
   "source": [
    "df = pd.read_csv('assets/cleaned_spotify_data.csv')"
   ]
  },
  {
   "cell_type": "code",
   "execution_count": 15,
   "id": "f653f704",
   "metadata": {},
   "outputs": [
    {
     "data": {
      "text/html": [
       "<div>\n",
       "<style scoped>\n",
       "    .dataframe tbody tr th:only-of-type {\n",
       "        vertical-align: middle;\n",
       "    }\n",
       "\n",
       "    .dataframe tbody tr th {\n",
       "        vertical-align: top;\n",
       "    }\n",
       "\n",
       "    .dataframe thead th {\n",
       "        text-align: right;\n",
       "    }\n",
       "</style>\n",
       "<table border=\"1\" class=\"dataframe\">\n",
       "  <thead>\n",
       "    <tr style=\"text-align: right;\">\n",
       "      <th></th>\n",
       "      <th>dates</th>\n",
       "      <th>names</th>\n",
       "      <th>monthly_listeners</th>\n",
       "      <th>popularity</th>\n",
       "      <th>followers</th>\n",
       "      <th>genres</th>\n",
       "      <th>first_release_year</th>\n",
       "      <th>last_release_year</th>\n",
       "      <th>playlists_found</th>\n",
       "    </tr>\n",
       "  </thead>\n",
       "  <tbody>\n",
       "    <tr>\n",
       "      <th>0</th>\n",
       "      <td>2024-04-01</td>\n",
       "      <td>stayc</td>\n",
       "      <td>3049521.0</td>\n",
       "      <td>63</td>\n",
       "      <td>1782552</td>\n",
       "      <td>k-pop, k-pop girl group</td>\n",
       "      <td>2020</td>\n",
       "      <td>2024</td>\n",
       "      <td>K-Pop ON! (온)</td>\n",
       "    </tr>\n",
       "    <tr>\n",
       "      <th>1</th>\n",
       "      <td>2024-04-01</td>\n",
       "      <td>langhorne slim</td>\n",
       "      <td>1060777.0</td>\n",
       "      <td>51</td>\n",
       "      <td>163686</td>\n",
       "      <td>anti-folk, indie folk, modern folk rock, new a...</td>\n",
       "      <td>2008</td>\n",
       "      <td>2023</td>\n",
       "      <td>Sunrise Run</td>\n",
       "    </tr>\n",
       "    <tr>\n",
       "      <th>2</th>\n",
       "      <td>2024-04-01</td>\n",
       "      <td>hontoni</td>\n",
       "      <td>119199.0</td>\n",
       "      <td>35</td>\n",
       "      <td>60</td>\n",
       "      <td>NaN</td>\n",
       "      <td>2021</td>\n",
       "      <td>2024</td>\n",
       "      <td>Meditate to the Sounds of Nature</td>\n",
       "    </tr>\n",
       "    <tr>\n",
       "      <th>3</th>\n",
       "      <td>2024-04-01</td>\n",
       "      <td>d'verti</td>\n",
       "      <td>46999.0</td>\n",
       "      <td>29</td>\n",
       "      <td>42</td>\n",
       "      <td>NaN</td>\n",
       "      <td>2022</td>\n",
       "      <td>2024</td>\n",
       "      <td>Meditate to the Sounds of Nature</td>\n",
       "    </tr>\n",
       "    <tr>\n",
       "      <th>4</th>\n",
       "      <td>2024-04-01</td>\n",
       "      <td>luke bryan</td>\n",
       "      <td>10460890.0</td>\n",
       "      <td>76</td>\n",
       "      <td>8487512</td>\n",
       "      <td>contemporary country, country, country road, m...</td>\n",
       "      <td>2007</td>\n",
       "      <td>2023</td>\n",
       "      <td>Sunrise Run</td>\n",
       "    </tr>\n",
       "  </tbody>\n",
       "</table>\n",
       "</div>"
      ],
      "text/plain": [
       "        dates           names  monthly_listeners  popularity  followers  \\\n",
       "0  2024-04-01           stayc          3049521.0          63    1782552   \n",
       "1  2024-04-01  langhorne slim          1060777.0          51     163686   \n",
       "2  2024-04-01         hontoni           119199.0          35         60   \n",
       "3  2024-04-01         d'verti            46999.0          29         42   \n",
       "4  2024-04-01      luke bryan         10460890.0          76    8487512   \n",
       "\n",
       "                                              genres  first_release_year  \\\n",
       "0                            k-pop, k-pop girl group                2020   \n",
       "1  anti-folk, indie folk, modern folk rock, new a...                2008   \n",
       "2                                                NaN                2021   \n",
       "3                                                NaN                2022   \n",
       "4  contemporary country, country, country road, m...                2007   \n",
       "\n",
       "   last_release_year                   playlists_found  \n",
       "0               2024                     K-Pop ON! (온)  \n",
       "1               2023                       Sunrise Run  \n",
       "2               2024  Meditate to the Sounds of Nature  \n",
       "3               2024  Meditate to the Sounds of Nature  \n",
       "4               2023                       Sunrise Run  "
      ]
     },
     "execution_count": 15,
     "metadata": {},
     "output_type": "execute_result"
    }
   ],
   "source": [
    "df.head()"
   ]
  },
  {
   "cell_type": "markdown",
   "id": "1cff84a5",
   "metadata": {},
   "source": [
    "### Data Splitting"
   ]
  },
  {
   "cell_type": "code",
   "execution_count": 62,
   "id": "75e80c9e",
   "metadata": {},
   "outputs": [],
   "source": [
    "y = df['monthly_listeners']\n",
    "X = df.drop(['monthly_listeners', 'dates', 'names', 'genres', 'playlists_found', 'first_release_year', 'last_release_year'], axis = 1)"
   ]
  },
  {
   "cell_type": "code",
   "execution_count": 63,
   "id": "b1fe479c",
   "metadata": {},
   "outputs": [],
   "source": [
    "X_train, X_test, y_train, y_test = train_test_split(X, y, test_size = 0.2, random_state = 100)"
   ]
  },
  {
   "cell_type": "code",
   "execution_count": 64,
   "id": "75364ae0",
   "metadata": {},
   "outputs": [
    {
     "data": {
      "text/html": [
       "<div>\n",
       "<style scoped>\n",
       "    .dataframe tbody tr th:only-of-type {\n",
       "        vertical-align: middle;\n",
       "    }\n",
       "\n",
       "    .dataframe tbody tr th {\n",
       "        vertical-align: top;\n",
       "    }\n",
       "\n",
       "    .dataframe thead th {\n",
       "        text-align: right;\n",
       "    }\n",
       "</style>\n",
       "<table border=\"1\" class=\"dataframe\">\n",
       "  <thead>\n",
       "    <tr style=\"text-align: right;\">\n",
       "      <th></th>\n",
       "      <th>popularity</th>\n",
       "      <th>followers</th>\n",
       "    </tr>\n",
       "  </thead>\n",
       "  <tbody>\n",
       "    <tr>\n",
       "      <th>18694</th>\n",
       "      <td>29</td>\n",
       "      <td>24186</td>\n",
       "    </tr>\n",
       "    <tr>\n",
       "      <th>16449</th>\n",
       "      <td>35</td>\n",
       "      <td>5</td>\n",
       "    </tr>\n",
       "    <tr>\n",
       "      <th>3594</th>\n",
       "      <td>39</td>\n",
       "      <td>1322</td>\n",
       "    </tr>\n",
       "    <tr>\n",
       "      <th>22792</th>\n",
       "      <td>56</td>\n",
       "      <td>1114548</td>\n",
       "    </tr>\n",
       "    <tr>\n",
       "      <th>5365</th>\n",
       "      <td>73</td>\n",
       "      <td>6396889</td>\n",
       "    </tr>\n",
       "    <tr>\n",
       "      <th>...</th>\n",
       "      <td>...</td>\n",
       "      <td>...</td>\n",
       "    </tr>\n",
       "    <tr>\n",
       "      <th>12119</th>\n",
       "      <td>29</td>\n",
       "      <td>1171</td>\n",
       "    </tr>\n",
       "    <tr>\n",
       "      <th>24423</th>\n",
       "      <td>69</td>\n",
       "      <td>569007</td>\n",
       "    </tr>\n",
       "    <tr>\n",
       "      <th>14147</th>\n",
       "      <td>83</td>\n",
       "      <td>4634414</td>\n",
       "    </tr>\n",
       "    <tr>\n",
       "      <th>23320</th>\n",
       "      <td>37</td>\n",
       "      <td>265</td>\n",
       "    </tr>\n",
       "    <tr>\n",
       "      <th>5640</th>\n",
       "      <td>86</td>\n",
       "      <td>2054804</td>\n",
       "    </tr>\n",
       "  </tbody>\n",
       "</table>\n",
       "<p>21937 rows × 2 columns</p>\n",
       "</div>"
      ],
      "text/plain": [
       "       popularity  followers\n",
       "18694          29      24186\n",
       "16449          35          5\n",
       "3594           39       1322\n",
       "22792          56    1114548\n",
       "5365           73    6396889\n",
       "...           ...        ...\n",
       "12119          29       1171\n",
       "24423          69     569007\n",
       "14147          83    4634414\n",
       "23320          37        265\n",
       "5640           86    2054804\n",
       "\n",
       "[21937 rows x 2 columns]"
      ]
     },
     "execution_count": 64,
     "metadata": {},
     "output_type": "execute_result"
    }
   ],
   "source": [
    "X_train"
   ]
  },
  {
   "cell_type": "markdown",
   "id": "d2296cef",
   "metadata": {},
   "source": [
    "### Linear Regression"
   ]
  },
  {
   "cell_type": "code",
   "execution_count": 66,
   "id": "8f1e2419",
   "metadata": {},
   "outputs": [],
   "source": [
    "lr = LinearRegression().fit(X_train, y_train)"
   ]
  },
  {
   "cell_type": "code",
   "execution_count": 67,
   "id": "8fe2562e",
   "metadata": {},
   "outputs": [],
   "source": [
    "# recall step. Testing model on trained data\n",
    "y_lr_train_pred = lr.predict(X_train)\n",
    "\n",
    "# testing step. Testing model on unseen data\n",
    "y_lr_test_pred = lr.predict(X_test)"
   ]
  },
  {
   "cell_type": "code",
   "execution_count": 68,
   "id": "40617ca5",
   "metadata": {},
   "outputs": [
    {
     "data": {
      "text/plain": [
       "18694       13010.0\n",
       "16449      129980.0\n",
       "3594       174096.0\n",
       "22792     2255559.0\n",
       "5365     16986046.0\n",
       "            ...    \n",
       "12119       68007.0\n",
       "24423    15828796.0\n",
       "14147    19764628.0\n",
       "23320      146891.0\n",
       "5640     59588927.0\n",
       "Name: monthly_listeners, Length: 21937, dtype: float64"
      ]
     },
     "execution_count": 68,
     "metadata": {},
     "output_type": "execute_result"
    }
   ],
   "source": [
    "y_train"
   ]
  },
  {
   "cell_type": "code",
   "execution_count": 70,
   "id": "4e50328f",
   "metadata": {},
   "outputs": [
    {
     "data": {
      "text/plain": [
       "array([-1584504.24404618,  -101767.20749764,   903236.55162246, ...,\n",
       "       16331813.72088059,   400357.31699008, 14641898.65914112])"
      ]
     },
     "execution_count": 70,
     "metadata": {},
     "output_type": "execute_result"
    }
   ],
   "source": [
    "y_lr_train_pred"
   ]
  },
  {
   "cell_type": "code",
   "execution_count": 71,
   "id": "08006a87",
   "metadata": {},
   "outputs": [
    {
     "data": {
      "text/plain": [
       "array([29699017.26295938,  1452491.16219554, -2356485.87011437, ...,\n",
       "        3161560.20987373,  1404292.92925549,   722359.49201619])"
      ]
     },
     "execution_count": 71,
     "metadata": {},
     "output_type": "execute_result"
    }
   ],
   "source": [
    "y_lr_test_pred"
   ]
  },
  {
   "cell_type": "markdown",
   "id": "70315ddc",
   "metadata": {},
   "source": [
    "### Evaluate Model Performance"
   ]
  },
  {
   "cell_type": "code",
   "execution_count": 72,
   "id": "9402556c",
   "metadata": {},
   "outputs": [],
   "source": [
    "lr_train_mse = mean_squared_error(y_train, y_lr_train_pred)\n",
    "lr_train_r2 = r2_score(y_train, y_lr_train_pred)\n",
    "\n",
    "lr_test_mse = mean_squared_error(y_test, y_lr_test_pred)\n",
    "lr_test_r2 = r2_score(y_test, y_lr_test_pred)"
   ]
  },
  {
   "cell_type": "code",
   "execution_count": 94,
   "id": "1b7ee4dd",
   "metadata": {},
   "outputs": [
    {
     "name": "stdout",
     "output_type": "stream",
     "text": [
      "Linear Regression MSE (Train): 39056934059484.86\n",
      "Linear Regression R2 (Train): 0.7434283300793755\n",
      "Linear Regression MSE (Test): 38462772904075.05\n",
      "Linear Regression R2 (Test): 0.7299326926405358\n"
     ]
    }
   ],
   "source": [
    "print(\"Linear Regression MSE (Train):\", lr_train_mse)\n",
    "print(\"Linear Regression R2 (Train):\", lr_train_r2)\n",
    "print(\"Linear Regression MSE (Test):\", lr_test_mse)\n",
    "print(\"Linear Regression R2 (Test):\", lr_test_r2)"
   ]
  },
  {
   "cell_type": "markdown",
   "id": "dc3c82b9",
   "metadata": {},
   "source": [
    "### Testing Ridge/Lasso Model"
   ]
  },
  {
   "cell_type": "code",
   "execution_count": 77,
   "id": "553b10e5",
   "metadata": {},
   "outputs": [],
   "source": [
    "from sklearn.linear_model import Ridge\n",
    "rg = Ridge().fit(X_train, y_train) "
   ]
  },
  {
   "cell_type": "code",
   "execution_count": 78,
   "id": "47bd02c0",
   "metadata": {},
   "outputs": [],
   "source": [
    "# Recall\n",
    "y_rg_train_pred = rg.predict(X_train)\n",
    "\n",
    "# testing\n",
    "y_rg_test_pred = rg.predict(X_test)\n"
   ]
  },
  {
   "cell_type": "code",
   "execution_count": 80,
   "id": "beee8b70",
   "metadata": {},
   "outputs": [
    {
     "data": {
      "text/plain": [
       "18694       13010.0\n",
       "16449      129980.0\n",
       "3594       174096.0\n",
       "22792     2255559.0\n",
       "5365     16986046.0\n",
       "            ...    \n",
       "12119       68007.0\n",
       "24423    15828796.0\n",
       "14147    19764628.0\n",
       "23320      146891.0\n",
       "5640     59588927.0\n",
       "Name: monthly_listeners, Length: 21937, dtype: float64"
      ]
     },
     "execution_count": 80,
     "metadata": {},
     "output_type": "execute_result"
    }
   ],
   "source": [
    "y_train"
   ]
  },
  {
   "cell_type": "code",
   "execution_count": 79,
   "id": "34c58253",
   "metadata": {},
   "outputs": [
    {
     "data": {
      "text/plain": [
       "array([-1584503.51540224,  -101766.72675572,   903236.86784909, ...,\n",
       "       16331812.42681121,   400357.71545715, 14641897.13028818])"
      ]
     },
     "execution_count": 79,
     "metadata": {},
     "output_type": "execute_result"
    }
   ],
   "source": [
    "y_rg_train_pred"
   ]
  },
  {
   "cell_type": "code",
   "execution_count": 81,
   "id": "e69ecf37",
   "metadata": {},
   "outputs": [],
   "source": [
    "rg_train_mse = mean_squared_error(y_train, y_rg_train_pred)\n",
    "rg_train_r2 = r2_score(y_train, y_rg_train_pred)\n",
    "\n",
    "rg_test_mse = mean_squared_error(y_test, y_rg_test_pred)\n",
    "rg_test_r2 = r2_score(y_test, y_rg_test_pred)"
   ]
  },
  {
   "cell_type": "code",
   "execution_count": 95,
   "id": "9aab5a73",
   "metadata": {},
   "outputs": [
    {
     "name": "stdout",
     "output_type": "stream",
     "text": [
      "Ridge Regression MSE (Train): 39056934059485.336\n",
      "Ridge Regression R2 (Train): 0.7434283300793724\n",
      "Ridge Regression MSE (Test): 38462772877001.73\n",
      "Ridge Regression R2 (Test): 0.7299326928306318\n"
     ]
    }
   ],
   "source": [
    "print(\"Ridge Regression MSE (Train):\", rg_train_mse)\n",
    "print(\"Ridge Regression R2 (Train):\", rg_train_r2)\n",
    "print(\"Ridge Regression MSE (Test):\", rg_test_mse)\n",
    "print(\"Ridge Regression R2 (Test):\", rg_test_r2)"
   ]
  },
  {
   "cell_type": "markdown",
   "id": "bbb1dbf1",
   "metadata": {},
   "source": [
    "### Testing Decision Tree Regressoin"
   ]
  },
  {
   "cell_type": "code",
   "execution_count": 85,
   "id": "d62d6c46",
   "metadata": {},
   "outputs": [],
   "source": [
    "from sklearn.tree import DecisionTreeRegressor\n",
    "tree = DecisionTreeRegressor().fit(X_train, y_train) "
   ]
  },
  {
   "cell_type": "code",
   "execution_count": 88,
   "id": "e0ddf1ab",
   "metadata": {},
   "outputs": [],
   "source": [
    "# recall\n",
    "y_tree_train_pred = tree.predict(X_train)\n",
    "\n",
    "# testing\n",
    "y_tree_test_pred = tree.predict(X_test)"
   ]
  },
  {
   "cell_type": "code",
   "execution_count": 101,
   "id": "25ccb7dc",
   "metadata": {},
   "outputs": [
    {
     "data": {
      "text/plain": [
       "26903    64317144.0\n",
       "8510       138135.0\n",
       "13111       22843.0\n",
       "1652     59506442.0\n",
       "10884      668526.0\n",
       "            ...    \n",
       "20491       22280.0\n",
       "7529       170046.0\n",
       "1513       656789.0\n",
       "19219      315506.0\n",
       "23812      279043.0\n",
       "Name: monthly_listeners, Length: 5485, dtype: float64"
      ]
     },
     "execution_count": 101,
     "metadata": {},
     "output_type": "execute_result"
    }
   ],
   "source": [
    "y_test"
   ]
  },
  {
   "cell_type": "code",
   "execution_count": 99,
   "id": "f20a6702",
   "metadata": {},
   "outputs": [
    {
     "data": {
      "text/plain": [
       "array([6.4254153e+07, 1.3654600e+05, 4.5855000e+04, ..., 6.5027400e+05,\n",
       "       3.6867600e+05, 8.2503000e+04])"
      ]
     },
     "execution_count": 99,
     "metadata": {},
     "output_type": "execute_result"
    }
   ],
   "source": [
    "y_tree_test_pred"
   ]
  },
  {
   "cell_type": "code",
   "execution_count": 97,
   "id": "9281707d",
   "metadata": {},
   "outputs": [],
   "source": [
    "# Evaluation\n",
    "tree_train_mse = mean_squared_error(y_train, y_tree_train_pred)\n",
    "tree_train_r2 = r2_score(y_train, y_tree_train_pred)\n",
    "\n",
    "tree_test_mse = mean_squared_error(y_test, y_tree_test_pred)\n",
    "tree_test_r2 = r2_score(y_test, y_tree_test_pred)"
   ]
  },
  {
   "cell_type": "code",
   "execution_count": 98,
   "id": "b29c4b3c",
   "metadata": {},
   "outputs": [
    {
     "name": "stdout",
     "output_type": "stream",
     "text": [
      "Decision Tree Regression MSE (Train): 184132050.04540598\n",
      "Decision Tree Regression R2 (Train): 0.9999987904051174\n",
      "Decision Tree Regression MSE (Test): 6659424254632.112\n",
      "Decision Tree Regression R2 (Test): 0.9532406885614257\n"
     ]
    }
   ],
   "source": [
    "print(\"Decision Tree Regression MSE (Train):\", tree_train_mse)\n",
    "print(\"Decision Tree Regression R2 (Train):\", tree_train_r2)\n",
    "print(\"Decision Tree Regression MSE (Test):\", tree_test_mse)\n",
    "print(\"Decision Tree Regression R2 (Test):\", tree_test_r2)"
   ]
  },
  {
   "cell_type": "code",
   "execution_count": 104,
   "id": "b4ea04df",
   "metadata": {},
   "outputs": [
    {
     "data": {
      "text/plain": [
       "<matplotlib.collections.PathCollection at 0x24c3e8b7a10>"
      ]
     },
     "execution_count": 104,
     "metadata": {},
     "output_type": "execute_result"
    },
    {
     "data": {
      "image/png": "[encoded data removed]",
      "text/plain": [
       "<Figure size 640x480 with 1 Axes>"
      ]
     },
     "metadata": {},
     "output_type": "display_data"
    }
   ],
   "source": [
    "import matplotlib.pyplot as plt\n",
    "plt.scatter(x = y_test, y = y_tree_test_pred)"
   ]
  },
  {
   "cell_type": "code",
   "execution_count": null,
   "id": "fb2c63fd",
   "metadata": {},
   "outputs": [],
   "source": []
  }
 ],
 "metadata": {
  "kernelspec": {
   "display_name": "base",
   "language": "python",
   "name": "python3"
  },
  "language_info": {
   "codemirror_mode": {
    "name": "ipython",
    "version": 3
   },
   "file_extension": ".py",
   "mimetype": "text/x-python",
   "name": "python",
   "nbconvert_exporter": "python",
   "pygments_lexer": "ipython3",
   "version": "3.12.7"
  }
 },
 "nbformat": 4,
 "nbformat_minor": 5
}
