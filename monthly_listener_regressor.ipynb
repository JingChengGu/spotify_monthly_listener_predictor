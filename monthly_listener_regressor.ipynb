{
 "cells": [
  {
   "cell_type": "code",
   "execution_count": 1,
   "id": "02ee05af",
   "metadata": {},
   "outputs": [],
   "source": [
    "import pandas as pd\n",
    "import numpy as np\n",
    "from sklearn.linear_model import LinearRegression\n",
    "from sklearn.model_selection import train_test_split\n",
    "from sklearn.metrics import mean_squared_error, r2_score\n",
    "import matplotlib.pyplot as plt\n",
    "import seaborn as sns"
   ]
  },
  {
   "cell_type": "code",
   "execution_count": 2,
   "id": "e8608c2c",
   "metadata": {},
   "outputs": [],
   "source": [
    "df = pd.read_csv('assets/cleaned_spotify_data.csv')"
   ]
  },
  {
   "cell_type": "code",
   "execution_count": 3,
   "id": "f653f704",
   "metadata": {},
   "outputs": [
    {
     "data": {
      "text/plain": [
       "(27422, 9)"
      ]
     },
     "execution_count": 3,
     "metadata": {},
     "output_type": "execute_result"
    }
   ],
   "source": [
    "df.shape"
   ]
  },
  {
   "cell_type": "markdown",
   "id": "b152d926",
   "metadata": {},
   "source": [
    "### Feature Engineering"
   ]
  },
  {
   "cell_type": "code",
   "execution_count": 4,
   "id": "3d7979f9",
   "metadata": {},
   "outputs": [],
   "source": [
    "# Creating a new feature called 'active_years' using 'last_release_year' - 'first_release_year'\n",
    "#df['active_years'] = df['last_release_year'] - df['first_release_year']\n",
    "#df.head()"
   ]
  },
  {
   "cell_type": "code",
   "execution_count": 5,
   "id": "335f6c32",
   "metadata": {},
   "outputs": [
    {
     "data": {
      "text/html": [
       "<div>\n",
       "<style scoped>\n",
       "    .dataframe tbody tr th:only-of-type {\n",
       "        vertical-align: middle;\n",
       "    }\n",
       "\n",
       "    .dataframe tbody tr th {\n",
       "        vertical-align: top;\n",
       "    }\n",
       "\n",
       "    .dataframe thead th {\n",
       "        text-align: right;\n",
       "    }\n",
       "</style>\n",
       "<table border=\"1\" class=\"dataframe\">\n",
       "  <thead>\n",
       "    <tr style=\"text-align: right;\">\n",
       "      <th></th>\n",
       "      <th>dates</th>\n",
       "      <th>names</th>\n",
       "      <th>monthly_listeners</th>\n",
       "      <th>popularity</th>\n",
       "      <th>followers</th>\n",
       "      <th>genres</th>\n",
       "      <th>first_release_year</th>\n",
       "      <th>last_release_year</th>\n",
       "      <th>playlists_found</th>\n",
       "      <th>log_followers</th>\n",
       "    </tr>\n",
       "  </thead>\n",
       "  <tbody>\n",
       "    <tr>\n",
       "      <th>0</th>\n",
       "      <td>2024-04-01</td>\n",
       "      <td>stayc</td>\n",
       "      <td>3049521.0</td>\n",
       "      <td>63</td>\n",
       "      <td>1782552</td>\n",
       "      <td>k-pop, k-pop girl group</td>\n",
       "      <td>2020</td>\n",
       "      <td>2024</td>\n",
       "      <td>K-Pop ON! (온)</td>\n",
       "      <td>14.39</td>\n",
       "    </tr>\n",
       "    <tr>\n",
       "      <th>1</th>\n",
       "      <td>2024-04-01</td>\n",
       "      <td>langhorne slim</td>\n",
       "      <td>1060777.0</td>\n",
       "      <td>51</td>\n",
       "      <td>163686</td>\n",
       "      <td>anti-folk, indie folk, modern folk rock, new a...</td>\n",
       "      <td>2008</td>\n",
       "      <td>2023</td>\n",
       "      <td>Sunrise Run</td>\n",
       "      <td>12.01</td>\n",
       "    </tr>\n",
       "    <tr>\n",
       "      <th>2</th>\n",
       "      <td>2024-04-01</td>\n",
       "      <td>hontoni</td>\n",
       "      <td>119199.0</td>\n",
       "      <td>35</td>\n",
       "      <td>60</td>\n",
       "      <td>NaN</td>\n",
       "      <td>2021</td>\n",
       "      <td>2024</td>\n",
       "      <td>Meditate to the Sounds of Nature</td>\n",
       "      <td>4.11</td>\n",
       "    </tr>\n",
       "    <tr>\n",
       "      <th>3</th>\n",
       "      <td>2024-04-01</td>\n",
       "      <td>d'verti</td>\n",
       "      <td>46999.0</td>\n",
       "      <td>29</td>\n",
       "      <td>42</td>\n",
       "      <td>NaN</td>\n",
       "      <td>2022</td>\n",
       "      <td>2024</td>\n",
       "      <td>Meditate to the Sounds of Nature</td>\n",
       "      <td>3.76</td>\n",
       "    </tr>\n",
       "    <tr>\n",
       "      <th>4</th>\n",
       "      <td>2024-04-01</td>\n",
       "      <td>luke bryan</td>\n",
       "      <td>10460890.0</td>\n",
       "      <td>76</td>\n",
       "      <td>8487512</td>\n",
       "      <td>contemporary country, country, country road, m...</td>\n",
       "      <td>2007</td>\n",
       "      <td>2023</td>\n",
       "      <td>Sunrise Run</td>\n",
       "      <td>15.95</td>\n",
       "    </tr>\n",
       "  </tbody>\n",
       "</table>\n",
       "</div>"
      ],
      "text/plain": [
       "        dates           names  monthly_listeners  popularity  followers  \\\n",
       "0  2024-04-01           stayc          3049521.0          63    1782552   \n",
       "1  2024-04-01  langhorne slim          1060777.0          51     163686   \n",
       "2  2024-04-01         hontoni           119199.0          35         60   \n",
       "3  2024-04-01         d'verti            46999.0          29         42   \n",
       "4  2024-04-01      luke bryan         10460890.0          76    8487512   \n",
       "\n",
       "                                              genres  first_release_year  \\\n",
       "0                            k-pop, k-pop girl group                2020   \n",
       "1  anti-folk, indie folk, modern folk rock, new a...                2008   \n",
       "2                                                NaN                2021   \n",
       "3                                                NaN                2022   \n",
       "4  contemporary country, country, country road, m...                2007   \n",
       "\n",
       "   last_release_year                   playlists_found  log_followers  \n",
       "0               2024                     K-Pop ON! (온)          14.39  \n",
       "1               2023                       Sunrise Run          12.01  \n",
       "2               2024  Meditate to the Sounds of Nature           4.11  \n",
       "3               2024  Meditate to the Sounds of Nature           3.76  \n",
       "4               2023                       Sunrise Run          15.95  "
      ]
     },
     "execution_count": 5,
     "metadata": {},
     "output_type": "execute_result"
    }
   ],
   "source": [
    "# creating new log_followers feature\n",
    "df['log_followers'] = round(np.log1p(df['followers']), 2)\n",
    "df.head()"
   ]
  },
  {
   "cell_type": "markdown",
   "id": "1cff84a5",
   "metadata": {},
   "source": [
    "### Data Splitting"
   ]
  },
  {
   "cell_type": "code",
   "execution_count": 6,
   "id": "75e80c9e",
   "metadata": {},
   "outputs": [],
   "source": [
    "# applying log to the follower to enure consistency with logged follower\n",
    "y = df['monthly_listeners']\n",
    "X = df.drop(['monthly_listeners', 'dates', 'names', 'genres', 'playlists_found'], axis = 1)"
   ]
  },
  {
   "cell_type": "code",
   "execution_count": 7,
   "id": "b1fe479c",
   "metadata": {},
   "outputs": [],
   "source": [
    "X_train, X_test, y_train, y_test = train_test_split(X, y, test_size = 0.2, random_state = 100)"
   ]
  },
  {
   "cell_type": "markdown",
   "id": "d2296cef",
   "metadata": {},
   "source": [
    "### Linear Regression"
   ]
  },
  {
   "cell_type": "code",
   "execution_count": 8,
   "id": "8f1e2419",
   "metadata": {},
   "outputs": [],
   "source": [
    "lr = LinearRegression().fit(X_train, y_train)"
   ]
  },
  {
   "cell_type": "code",
   "execution_count": 9,
   "id": "8fe2562e",
   "metadata": {},
   "outputs": [],
   "source": [
    "# recall step. Testing model on trained data\n",
    "y_lr_train_pred = lr.predict(X_train)\n",
    "\n",
    "# testing step. Testing model on unseen data\n",
    "y_lr_test_pred = lr.predict(X_test)"
   ]
  },
  {
   "cell_type": "code",
   "execution_count": 10,
   "id": "40617ca5",
   "metadata": {},
   "outputs": [
    {
     "data": {
      "text/plain": [
       "18694       13010.0\n",
       "16449      129980.0\n",
       "3594       174096.0\n",
       "22792     2255559.0\n",
       "5365     16986046.0\n",
       "            ...    \n",
       "12119       68007.0\n",
       "24423    15828796.0\n",
       "14147    19764628.0\n",
       "23320      146891.0\n",
       "5640     59588927.0\n",
       "Name: monthly_listeners, Length: 21937, dtype: float64"
      ]
     },
     "execution_count": 10,
     "metadata": {},
     "output_type": "execute_result"
    }
   ],
   "source": [
    "# log y_train\n",
    "y_train"
   ]
  },
  {
   "cell_type": "markdown",
   "id": "70315ddc",
   "metadata": {},
   "source": [
    "### Evaluate Model Performance"
   ]
  },
  {
   "cell_type": "code",
   "execution_count": 11,
   "id": "9402556c",
   "metadata": {},
   "outputs": [],
   "source": [
    "lr_train_mse = mean_squared_error(y_train, y_lr_train_pred)\n",
    "lr_train_r2 = r2_score(y_train, y_lr_train_pred)\n",
    "\n",
    "lr_test_mse = mean_squared_error(y_test, y_lr_test_pred)\n",
    "lr_test_r2 = r2_score(y_test, y_lr_test_pred)"
   ]
  },
  {
   "cell_type": "code",
   "execution_count": 12,
   "id": "1b7ee4dd",
   "metadata": {},
   "outputs": [
    {
     "name": "stdout",
     "output_type": "stream",
     "text": [
      "Linear Regression MSE (Train): 39030402025252.09\n",
      "Linear Regression R2 (Train): 0.743602623543351\n",
      "Linear Regression MSE (Test): 38411205574113.51\n",
      "Linear Regression R2 (Test): 0.7302947739180652\n"
     ]
    }
   ],
   "source": [
    "print(\"Linear Regression MSE (Train):\", lr_train_mse)\n",
    "print(\"Linear Regression R2 (Train):\", lr_train_r2)\n",
    "print(\"Linear Regression MSE (Test):\", lr_test_mse)\n",
    "print(\"Linear Regression R2 (Test):\", lr_test_r2)"
   ]
  },
  {
   "cell_type": "code",
   "execution_count": 13,
   "id": "2138282b",
   "metadata": {},
   "outputs": [
    {
     "data": {
      "text/plain": [
       "Text(0.5, 0, 'Actual Monthly Listens')"
      ]
     },
     "execution_count": 13,
     "metadata": {},
     "output_type": "execute_result"
    },
    {
     "data": {
      "image/png": "[encoded data removed]",
      "text/plain": [
       "<Figure size 640x480 with 1 Axes>"
      ]
     },
     "metadata": {},
     "output_type": "display_data"
    }
   ],
   "source": [
    "plt.scatter(x = y_train, y = y_lr_train_pred)\n",
    "# line of best fit\n",
    "z = np.polyfit(y_train, y_lr_train_pred, 1)\n",
    "p = np.poly1d(z)\n",
    "\n",
    "plt.plot(y_train, p(y_train), '#F87')\n",
    "plt.ylabel('Predict Monthly Listens')\n",
    "plt.xlabel('Actual Monthly Listens')"
   ]
  },
  {
   "cell_type": "code",
   "execution_count": 14,
   "id": "849002cd",
   "metadata": {},
   "outputs": [
    {
     "data": {
      "text/html": [
       "<div>\n",
       "<style scoped>\n",
       "    .dataframe tbody tr th:only-of-type {\n",
       "        vertical-align: middle;\n",
       "    }\n",
       "\n",
       "    .dataframe tbody tr th {\n",
       "        vertical-align: top;\n",
       "    }\n",
       "\n",
       "    .dataframe thead th {\n",
       "        text-align: right;\n",
       "    }\n",
       "</style>\n",
       "<table border=\"1\" class=\"dataframe\">\n",
       "  <thead>\n",
       "    <tr style=\"text-align: right;\">\n",
       "      <th></th>\n",
       "      <th>Method</th>\n",
       "      <th>Training MSE</th>\n",
       "      <th>Training R2</th>\n",
       "      <th>Test MSE</th>\n",
       "      <th>Test R2</th>\n",
       "    </tr>\n",
       "  </thead>\n",
       "  <tbody>\n",
       "    <tr>\n",
       "      <th>0</th>\n",
       "      <td>Linear Regression</td>\n",
       "      <td>39030402025252.09375</td>\n",
       "      <td>0.743603</td>\n",
       "      <td>38411205574113.507812</td>\n",
       "      <td>0.730295</td>\n",
       "    </tr>\n",
       "  </tbody>\n",
       "</table>\n",
       "</div>"
      ],
      "text/plain": [
       "              Method          Training MSE Training R2               Test MSE  \\\n",
       "0  Linear Regression  39030402025252.09375    0.743603  38411205574113.507812   \n",
       "\n",
       "    Test R2  \n",
       "0  0.730295  "
      ]
     },
     "execution_count": 14,
     "metadata": {},
     "output_type": "execute_result"
    }
   ],
   "source": [
    "lr_results = pd.DataFrame(['Linear Regression', lr_train_mse, lr_train_r2, lr_test_mse, lr_test_r2]).transpose()\n",
    "lr_results.columns = ['Method', 'Training MSE', 'Training R2', 'Test MSE', 'Test R2']\n",
    "lr_results"
   ]
  },
  {
   "cell_type": "markdown",
   "id": "dc3c82b9",
   "metadata": {},
   "source": [
    "### Testing Ridge/Lasso Model"
   ]
  },
  {
   "cell_type": "code",
   "execution_count": 15,
   "id": "553b10e5",
   "metadata": {},
   "outputs": [],
   "source": [
    "from sklearn.linear_model import Ridge\n",
    "rg = Ridge().fit(X_train, y_train) "
   ]
  },
  {
   "cell_type": "code",
   "execution_count": 16,
   "id": "47bd02c0",
   "metadata": {},
   "outputs": [],
   "source": [
    "# Recall\n",
    "y_rg_train_pred = rg.predict(X_train)\n",
    "\n",
    "# testing\n",
    "y_rg_test_pred = rg.predict(X_test)\n"
   ]
  },
  {
   "cell_type": "code",
   "execution_count": 17,
   "id": "beee8b70",
   "metadata": {},
   "outputs": [
    {
     "data": {
      "text/plain": [
       "18694       13010.0\n",
       "16449      129980.0\n",
       "3594       174096.0\n",
       "22792     2255559.0\n",
       "5365     16986046.0\n",
       "            ...    \n",
       "12119       68007.0\n",
       "24423    15828796.0\n",
       "14147    19764628.0\n",
       "23320      146891.0\n",
       "5640     59588927.0\n",
       "Name: monthly_listeners, Length: 21937, dtype: float64"
      ]
     },
     "execution_count": 17,
     "metadata": {},
     "output_type": "execute_result"
    }
   ],
   "source": [
    "y_train"
   ]
  },
  {
   "cell_type": "code",
   "execution_count": 18,
   "id": "34c58253",
   "metadata": {},
   "outputs": [
    {
     "data": {
      "text/plain": [
       "array([-1532183.68777462,   138052.29635087,   919852.29385677, ...,\n",
       "       16195274.6949106 ,   490164.71309726, 14560773.08934541])"
      ]
     },
     "execution_count": 18,
     "metadata": {},
     "output_type": "execute_result"
    }
   ],
   "source": [
    "y_rg_train_pred"
   ]
  },
  {
   "cell_type": "code",
   "execution_count": 19,
   "id": "e69ecf37",
   "metadata": {},
   "outputs": [],
   "source": [
    "rg_train_mse = mean_squared_error(y_train, y_rg_train_pred)\n",
    "rg_train_r2 = r2_score(y_train, y_rg_train_pred)\n",
    "\n",
    "rg_test_mse = mean_squared_error(y_test, y_rg_test_pred)\n",
    "rg_test_r2 = r2_score(y_test, y_rg_test_pred)"
   ]
  },
  {
   "cell_type": "code",
   "execution_count": 20,
   "id": "9aab5a73",
   "metadata": {},
   "outputs": [
    {
     "name": "stdout",
     "output_type": "stream",
     "text": [
      "Ridge Regression MSE (Train): 39030402025258.01\n",
      "Ridge Regression R2 (Train): 0.7436026235433122\n",
      "Ridge Regression MSE (Test): 38411205724529.555\n",
      "Ridge Regression R2 (Test): 0.7302947728619151\n"
     ]
    }
   ],
   "source": [
    "print(\"Ridge Regression MSE (Train):\", rg_train_mse)\n",
    "print(\"Ridge Regression R2 (Train):\", rg_train_r2)\n",
    "print(\"Ridge Regression MSE (Test):\", rg_test_mse)\n",
    "print(\"Ridge Regression R2 (Test):\", rg_test_r2)"
   ]
  },
  {
   "cell_type": "code",
   "execution_count": 21,
   "id": "4ab48163",
   "metadata": {},
   "outputs": [
    {
     "data": {
      "image/png": "[encoded data removed]",
      "text/plain": [
       "<Figure size 640x480 with 1 Axes>"
      ]
     },
     "metadata": {},
     "output_type": "display_data"
    }
   ],
   "source": [
    "plt.scatter(y_train, y_rg_train_pred)\n",
    "\n",
    "z = np.polyfit(y_train, y_rg_train_pred, 1)\n",
    "p = np.poly1d(z)\n",
    "\n",
    "plt.plot(y_train, p(y_train), \"#F87\")\n",
    "plt.ylabel('Predicted Monthly Listener')\n",
    "plt.xlabel('Actual Monthly Listener')\n",
    "plt.show()"
   ]
  },
  {
   "cell_type": "code",
   "execution_count": 22,
   "id": "a4a47841",
   "metadata": {},
   "outputs": [
    {
     "data": {
      "text/html": [
       "<div>\n",
       "<style scoped>\n",
       "    .dataframe tbody tr th:only-of-type {\n",
       "        vertical-align: middle;\n",
       "    }\n",
       "\n",
       "    .dataframe tbody tr th {\n",
       "        vertical-align: top;\n",
       "    }\n",
       "\n",
       "    .dataframe thead th {\n",
       "        text-align: right;\n",
       "    }\n",
       "</style>\n",
       "<table border=\"1\" class=\"dataframe\">\n",
       "  <thead>\n",
       "    <tr style=\"text-align: right;\">\n",
       "      <th></th>\n",
       "      <th>Method</th>\n",
       "      <th>Training MSE</th>\n",
       "      <th>Training R2</th>\n",
       "      <th>Test MSE</th>\n",
       "      <th>Test R2</th>\n",
       "    </tr>\n",
       "  </thead>\n",
       "  <tbody>\n",
       "    <tr>\n",
       "      <th>0</th>\n",
       "      <td>Ridge Regression</td>\n",
       "      <td>39030402025258.007812</td>\n",
       "      <td>0.743603</td>\n",
       "      <td>38411205724529.554688</td>\n",
       "      <td>0.730295</td>\n",
       "    </tr>\n",
       "  </tbody>\n",
       "</table>\n",
       "</div>"
      ],
      "text/plain": [
       "             Method           Training MSE Training R2               Test MSE  \\\n",
       "0  Ridge Regression  39030402025258.007812    0.743603  38411205724529.554688   \n",
       "\n",
       "    Test R2  \n",
       "0  0.730295  "
      ]
     },
     "execution_count": 22,
     "metadata": {},
     "output_type": "execute_result"
    }
   ],
   "source": [
    "rg_results = pd.DataFrame(['Ridge Regression', rg_train_mse, rg_train_r2, rg_test_mse, rg_test_r2]).transpose()\n",
    "rg_results.columns = ['Method', 'Training MSE', 'Training R2', 'Test MSE', 'Test R2']\n",
    "rg_results"
   ]
  },
  {
   "cell_type": "code",
   "execution_count": 23,
   "id": "b252befa",
   "metadata": {},
   "outputs": [
    {
     "data": {
      "text/html": [
       "<div>\n",
       "<style scoped>\n",
       "    .dataframe tbody tr th:only-of-type {\n",
       "        vertical-align: middle;\n",
       "    }\n",
       "\n",
       "    .dataframe tbody tr th {\n",
       "        vertical-align: top;\n",
       "    }\n",
       "\n",
       "    .dataframe thead th {\n",
       "        text-align: right;\n",
       "    }\n",
       "</style>\n",
       "<table border=\"1\" class=\"dataframe\">\n",
       "  <thead>\n",
       "    <tr style=\"text-align: right;\">\n",
       "      <th></th>\n",
       "      <th>Method</th>\n",
       "      <th>Training MSE</th>\n",
       "      <th>Training R2</th>\n",
       "      <th>Test MSE</th>\n",
       "      <th>Test R2</th>\n",
       "    </tr>\n",
       "  </thead>\n",
       "  <tbody>\n",
       "    <tr>\n",
       "      <th>0</th>\n",
       "      <td>Linear Regression</td>\n",
       "      <td>39030402025252.09375</td>\n",
       "      <td>0.743603</td>\n",
       "      <td>38411205574113.507812</td>\n",
       "      <td>0.730295</td>\n",
       "    </tr>\n",
       "    <tr>\n",
       "      <th>1</th>\n",
       "      <td>Ridge Regression</td>\n",
       "      <td>39030402025258.007812</td>\n",
       "      <td>0.743603</td>\n",
       "      <td>38411205724529.554688</td>\n",
       "      <td>0.730295</td>\n",
       "    </tr>\n",
       "  </tbody>\n",
       "</table>\n",
       "</div>"
      ],
      "text/plain": [
       "              Method           Training MSE Training R2  \\\n",
       "0  Linear Regression   39030402025252.09375    0.743603   \n",
       "1   Ridge Regression  39030402025258.007812    0.743603   \n",
       "\n",
       "                Test MSE   Test R2  \n",
       "0  38411205574113.507812  0.730295  \n",
       "1  38411205724529.554688  0.730295  "
      ]
     },
     "execution_count": 23,
     "metadata": {},
     "output_type": "execute_result"
    }
   ],
   "source": [
    "model_comp = pd.concat([lr_results, rg_results], axis = 0).reset_index(drop=True)\n",
    "model_comp"
   ]
  },
  {
   "cell_type": "markdown",
   "id": "bbb1dbf1",
   "metadata": {},
   "source": [
    "### Testing Decision Tree Regressoin"
   ]
  },
  {
   "cell_type": "code",
   "execution_count": 24,
   "id": "d62d6c46",
   "metadata": {},
   "outputs": [],
   "source": [
    "from sklearn.tree import DecisionTreeRegressor\n",
    "tree = DecisionTreeRegressor().fit(X_train, y_train) "
   ]
  },
  {
   "cell_type": "code",
   "execution_count": 25,
   "id": "e0ddf1ab",
   "metadata": {},
   "outputs": [],
   "source": [
    "# recall\n",
    "y_tree_train_pred = tree.predict(X_train)\n",
    "\n",
    "# testing\n",
    "y_tree_test_pred = tree.predict(X_test)"
   ]
  },
  {
   "cell_type": "code",
   "execution_count": 26,
   "id": "25ccb7dc",
   "metadata": {},
   "outputs": [
    {
     "data": {
      "text/plain": [
       "26903    64317144.0\n",
       "8510       138135.0\n",
       "13111       22843.0\n",
       "1652     59506442.0\n",
       "10884      668526.0\n",
       "            ...    \n",
       "20491       22280.0\n",
       "7529       170046.0\n",
       "1513       656789.0\n",
       "19219      315506.0\n",
       "23812      279043.0\n",
       "Name: monthly_listeners, Length: 5485, dtype: float64"
      ]
     },
     "execution_count": 26,
     "metadata": {},
     "output_type": "execute_result"
    }
   ],
   "source": [
    "y_test"
   ]
  },
  {
   "cell_type": "code",
   "execution_count": 27,
   "id": "f20a6702",
   "metadata": {},
   "outputs": [
    {
     "data": {
      "text/plain": [
       "array([6.4254153e+07, 1.3654600e+05, 4.5855000e+04, ..., 6.5027400e+05,\n",
       "       2.9272900e+05, 4.0862900e+05])"
      ]
     },
     "execution_count": 27,
     "metadata": {},
     "output_type": "execute_result"
    }
   ],
   "source": [
    "y_tree_test_pred"
   ]
  },
  {
   "cell_type": "code",
   "execution_count": 28,
   "id": "9281707d",
   "metadata": {},
   "outputs": [],
   "source": [
    "# Evaluation\n",
    "tree_train_mse = mean_squared_error(y_train, y_tree_train_pred)\n",
    "tree_train_r2 = r2_score(y_train, y_tree_train_pred)\n",
    "\n",
    "tree_test_mse = mean_squared_error(y_test, y_tree_test_pred)\n",
    "tree_test_r2 = r2_score(y_test, y_tree_test_pred)"
   ]
  },
  {
   "cell_type": "code",
   "execution_count": 29,
   "id": "b29c4b3c",
   "metadata": {},
   "outputs": [
    {
     "name": "stdout",
     "output_type": "stream",
     "text": [
      "Decision Tree Regression MSE (Train): 89146306.47020416\n",
      "Decision Tree Regression R2 (Train): 0.9999994143826886\n",
      "Decision Tree Regression MSE (Test): 3917900318077.576\n",
      "Decision Tree Regression R2 (Test): 0.9724903664110526\n"
     ]
    }
   ],
   "source": [
    "print(\"Decision Tree Regression MSE (Train):\", tree_train_mse)\n",
    "print(\"Decision Tree Regression R2 (Train):\", tree_train_r2)\n",
    "print(\"Decision Tree Regression MSE (Test):\", tree_test_mse)\n",
    "print(\"Decision Tree Regression R2 (Test):\", tree_test_r2)"
   ]
  },
  {
   "cell_type": "code",
   "execution_count": 30,
   "id": "b4ea04df",
   "metadata": {},
   "outputs": [
    {
     "data": {
      "text/plain": [
       "Text(0.5, 0, 'Actual Monthly Listeners')"
      ]
     },
     "execution_count": 30,
     "metadata": {},
     "output_type": "execute_result"
    },
    {
     "data": {
      "image/png": "[encoded data removed]",
      "text/plain": [
       "<Figure size 640x480 with 1 Axes>"
      ]
     },
     "metadata": {},
     "output_type": "display_data"
    }
   ],
   "source": [
    "plt.scatter(x = y_test, y = y_tree_test_pred)\n",
    "\n",
    "z = np.polyfit(y_train, y_tree_train_pred, 1)\n",
    "p = np.poly1d(z)\n",
    "\n",
    "plt.plot(y_train, p(y_train), \"#F87\")\n",
    "plt.ylabel('Predicted Monthly Listeners')\n",
    "plt.xlabel('Actual Monthly Listeners')"
   ]
  },
  {
   "cell_type": "code",
   "execution_count": 31,
   "id": "fb2c63fd",
   "metadata": {},
   "outputs": [
    {
     "data": {
      "text/html": [
       "<div>\n",
       "<style scoped>\n",
       "    .dataframe tbody tr th:only-of-type {\n",
       "        vertical-align: middle;\n",
       "    }\n",
       "\n",
       "    .dataframe tbody tr th {\n",
       "        vertical-align: top;\n",
       "    }\n",
       "\n",
       "    .dataframe thead th {\n",
       "        text-align: right;\n",
       "    }\n",
       "</style>\n",
       "<table border=\"1\" class=\"dataframe\">\n",
       "  <thead>\n",
       "    <tr style=\"text-align: right;\">\n",
       "      <th></th>\n",
       "      <th>Method</th>\n",
       "      <th>Training MSE</th>\n",
       "      <th>Training R2</th>\n",
       "      <th>Test MSE</th>\n",
       "      <th>Test R2</th>\n",
       "    </tr>\n",
       "  </thead>\n",
       "  <tbody>\n",
       "    <tr>\n",
       "      <th>0</th>\n",
       "      <td>Decision Tree Regression</td>\n",
       "      <td>89146306.470204</td>\n",
       "      <td>0.999999</td>\n",
       "      <td>3917900318077.576172</td>\n",
       "      <td>0.97249</td>\n",
       "    </tr>\n",
       "  </tbody>\n",
       "</table>\n",
       "</div>"
      ],
      "text/plain": [
       "                     Method     Training MSE Training R2  \\\n",
       "0  Decision Tree Regression  89146306.470204    0.999999   \n",
       "\n",
       "               Test MSE  Test R2  \n",
       "0  3917900318077.576172  0.97249  "
      ]
     },
     "execution_count": 31,
     "metadata": {},
     "output_type": "execute_result"
    }
   ],
   "source": [
    "tree_results = pd.DataFrame(['Decision Tree Regression', tree_train_mse, tree_train_r2, tree_test_mse, tree_test_r2]).transpose()\n",
    "tree_results.columns = ['Method', 'Training MSE', 'Training R2', 'Test MSE', 'Test R2']\n",
    "tree_results"
   ]
  },
  {
   "cell_type": "code",
   "execution_count": 32,
   "id": "5428118e",
   "metadata": {},
   "outputs": [
    {
     "data": {
      "text/html": [
       "<div>\n",
       "<style scoped>\n",
       "    .dataframe tbody tr th:only-of-type {\n",
       "        vertical-align: middle;\n",
       "    }\n",
       "\n",
       "    .dataframe tbody tr th {\n",
       "        vertical-align: top;\n",
       "    }\n",
       "\n",
       "    .dataframe thead th {\n",
       "        text-align: right;\n",
       "    }\n",
       "</style>\n",
       "<table border=\"1\" class=\"dataframe\">\n",
       "  <thead>\n",
       "    <tr style=\"text-align: right;\">\n",
       "      <th></th>\n",
       "      <th>Method</th>\n",
       "      <th>Training MSE</th>\n",
       "      <th>Training R2</th>\n",
       "      <th>Test MSE</th>\n",
       "      <th>Test R2</th>\n",
       "    </tr>\n",
       "  </thead>\n",
       "  <tbody>\n",
       "    <tr>\n",
       "      <th>0</th>\n",
       "      <td>Linear Regression</td>\n",
       "      <td>39030402025252.09375</td>\n",
       "      <td>0.743603</td>\n",
       "      <td>38411205574113.507812</td>\n",
       "      <td>0.730295</td>\n",
       "    </tr>\n",
       "    <tr>\n",
       "      <th>1</th>\n",
       "      <td>Ridge Regression</td>\n",
       "      <td>39030402025258.007812</td>\n",
       "      <td>0.743603</td>\n",
       "      <td>38411205724529.554688</td>\n",
       "      <td>0.730295</td>\n",
       "    </tr>\n",
       "    <tr>\n",
       "      <th>2</th>\n",
       "      <td>Decision Tree Regression</td>\n",
       "      <td>89146306.470204</td>\n",
       "      <td>0.999999</td>\n",
       "      <td>3917900318077.576172</td>\n",
       "      <td>0.97249</td>\n",
       "    </tr>\n",
       "  </tbody>\n",
       "</table>\n",
       "</div>"
      ],
      "text/plain": [
       "                     Method           Training MSE Training R2  \\\n",
       "0         Linear Regression   39030402025252.09375    0.743603   \n",
       "1          Ridge Regression  39030402025258.007812    0.743603   \n",
       "2  Decision Tree Regression        89146306.470204    0.999999   \n",
       "\n",
       "                Test MSE   Test R2  \n",
       "0  38411205574113.507812  0.730295  \n",
       "1  38411205724529.554688  0.730295  \n",
       "2   3917900318077.576172   0.97249  "
      ]
     },
     "execution_count": 32,
     "metadata": {},
     "output_type": "execute_result"
    }
   ],
   "source": [
    "model_comp = pd.concat([model_comp, tree_results], axis = 0).reset_index(drop = True)\n",
    "model_comp"
   ]
  },
  {
   "cell_type": "markdown",
   "id": "43ff0b59",
   "metadata": {},
   "source": [
    "### Random Forrest Regression"
   ]
  },
  {
   "cell_type": "code",
   "execution_count": 33,
   "id": "31339b93",
   "metadata": {},
   "outputs": [],
   "source": [
    "from sklearn.ensemble import RandomForestRegressor\n",
    "rfr = RandomForestRegressor().fit(X_train, y_train)"
   ]
  },
  {
   "cell_type": "code",
   "execution_count": 34,
   "id": "895df7af",
   "metadata": {},
   "outputs": [],
   "source": [
    "# recall\n",
    "y_rfr_train_pred = rfr.predict(X_train)\n",
    "\n",
    "# testing\n",
    "y_rfr_test_pred = rfr.predict(X_test)"
   ]
  },
  {
   "cell_type": "code",
   "execution_count": 35,
   "id": "f7c20aef",
   "metadata": {},
   "outputs": [
    {
     "data": {
      "image/png": "[encoded data removed]",
      "text/plain": [
       "<Figure size 640x480 with 1 Axes>"
      ]
     },
     "metadata": {},
     "output_type": "display_data"
    }
   ],
   "source": [
    "plt.scatter(x = y_test, y = y_rfr_test_pred)\n",
    "\n",
    "z = np.polyfit(y_train, y_rfr_train_pred, 1)\n",
    "p = np.poly1d(z)\n",
    "\n",
    "plt.plot(y_train, p(y_train), \"#F87\")\n",
    "plt.ylabel('Predicted Monthly Listeners')\n",
    "plt.xlabel('Actual Monthly Listeners')\n",
    "plt.show()"
   ]
  },
  {
   "cell_type": "code",
   "execution_count": 36,
   "id": "4ca92751",
   "metadata": {},
   "outputs": [],
   "source": [
    "rfr_train_mse = mean_squared_error(y_train, y_rfr_train_pred)\n",
    "rfr_train_r2 = r2_score(y_train, y_rfr_train_pred)\n",
    "\n",
    "rfr_test_mse = mean_squared_error(y_test, y_rfr_test_pred)\n",
    "rfr_test_r2 = r2_score(y_test, y_rfr_test_pred)"
   ]
  },
  {
   "cell_type": "code",
   "execution_count": 37,
   "id": "8cef4c13",
   "metadata": {},
   "outputs": [
    {
     "data": {
      "text/html": [
       "<div>\n",
       "<style scoped>\n",
       "    .dataframe tbody tr th:only-of-type {\n",
       "        vertical-align: middle;\n",
       "    }\n",
       "\n",
       "    .dataframe tbody tr th {\n",
       "        vertical-align: top;\n",
       "    }\n",
       "\n",
       "    .dataframe thead th {\n",
       "        text-align: right;\n",
       "    }\n",
       "</style>\n",
       "<table border=\"1\" class=\"dataframe\">\n",
       "  <thead>\n",
       "    <tr style=\"text-align: right;\">\n",
       "      <th></th>\n",
       "      <th>Method</th>\n",
       "      <th>Training MSE</th>\n",
       "      <th>Training R2</th>\n",
       "      <th>Test MSE</th>\n",
       "      <th>Test R2</th>\n",
       "    </tr>\n",
       "  </thead>\n",
       "  <tbody>\n",
       "    <tr>\n",
       "      <th>0</th>\n",
       "      <td>Random Forrest Regression</td>\n",
       "      <td>351002375611.541931</td>\n",
       "      <td>0.997694</td>\n",
       "      <td>2523982686803.61084</td>\n",
       "      <td>0.982278</td>\n",
       "    </tr>\n",
       "  </tbody>\n",
       "</table>\n",
       "</div>"
      ],
      "text/plain": [
       "                      Method         Training MSE Training R2  \\\n",
       "0  Random Forrest Regression  351002375611.541931    0.997694   \n",
       "\n",
       "              Test MSE   Test R2  \n",
       "0  2523982686803.61084  0.982278  "
      ]
     },
     "execution_count": 37,
     "metadata": {},
     "output_type": "execute_result"
    }
   ],
   "source": [
    "rfr_results = pd.DataFrame(['Random Forrest Regression', rfr_train_mse, rfr_train_r2, rfr_test_mse, rfr_test_r2]).transpose()\n",
    "rfr_results.columns = ['Method', 'Training MSE', 'Training R2', 'Test MSE', 'Test R2']\n",
    "rfr_results"
   ]
  },
  {
   "cell_type": "code",
   "execution_count": 38,
   "id": "856982d8",
   "metadata": {},
   "outputs": [
    {
     "data": {
      "text/html": [
       "<div>\n",
       "<style scoped>\n",
       "    .dataframe tbody tr th:only-of-type {\n",
       "        vertical-align: middle;\n",
       "    }\n",
       "\n",
       "    .dataframe tbody tr th {\n",
       "        vertical-align: top;\n",
       "    }\n",
       "\n",
       "    .dataframe thead th {\n",
       "        text-align: right;\n",
       "    }\n",
       "</style>\n",
       "<table border=\"1\" class=\"dataframe\">\n",
       "  <thead>\n",
       "    <tr style=\"text-align: right;\">\n",
       "      <th></th>\n",
       "      <th>Method</th>\n",
       "      <th>Training MSE</th>\n",
       "      <th>Training R2</th>\n",
       "      <th>Test MSE</th>\n",
       "      <th>Test R2</th>\n",
       "    </tr>\n",
       "  </thead>\n",
       "  <tbody>\n",
       "    <tr>\n",
       "      <th>0</th>\n",
       "      <td>Linear Regression</td>\n",
       "      <td>39030402025252.09375</td>\n",
       "      <td>0.743603</td>\n",
       "      <td>38411205574113.507812</td>\n",
       "      <td>0.730295</td>\n",
       "    </tr>\n",
       "    <tr>\n",
       "      <th>1</th>\n",
       "      <td>Ridge Regression</td>\n",
       "      <td>39030402025258.007812</td>\n",
       "      <td>0.743603</td>\n",
       "      <td>38411205724529.554688</td>\n",
       "      <td>0.730295</td>\n",
       "    </tr>\n",
       "    <tr>\n",
       "      <th>2</th>\n",
       "      <td>Decision Tree Regression</td>\n",
       "      <td>89146306.470204</td>\n",
       "      <td>0.999999</td>\n",
       "      <td>3917900318077.576172</td>\n",
       "      <td>0.97249</td>\n",
       "    </tr>\n",
       "    <tr>\n",
       "      <th>3</th>\n",
       "      <td>Random Forrest Regression</td>\n",
       "      <td>351002375611.541931</td>\n",
       "      <td>0.997694</td>\n",
       "      <td>2523982686803.61084</td>\n",
       "      <td>0.982278</td>\n",
       "    </tr>\n",
       "  </tbody>\n",
       "</table>\n",
       "</div>"
      ],
      "text/plain": [
       "                      Method           Training MSE Training R2  \\\n",
       "0          Linear Regression   39030402025252.09375    0.743603   \n",
       "1           Ridge Regression  39030402025258.007812    0.743603   \n",
       "2   Decision Tree Regression        89146306.470204    0.999999   \n",
       "3  Random Forrest Regression    351002375611.541931    0.997694   \n",
       "\n",
       "                Test MSE   Test R2  \n",
       "0  38411205574113.507812  0.730295  \n",
       "1  38411205724529.554688  0.730295  \n",
       "2   3917900318077.576172   0.97249  \n",
       "3    2523982686803.61084  0.982278  "
      ]
     },
     "execution_count": 38,
     "metadata": {},
     "output_type": "execute_result"
    }
   ],
   "source": [
    "model_comp = pd.concat([model_comp, rfr_results], axis = 0).reset_index(drop = True)\n",
    "model_comp"
   ]
  },
  {
   "cell_type": "markdown",
   "id": "da4fd2f1",
   "metadata": {},
   "source": [
    "### GridSearchCV on Random Forrest Model"
   ]
  },
  {
   "cell_type": "code",
   "execution_count": 39,
   "id": "d9e1bb88",
   "metadata": {},
   "outputs": [],
   "source": [
    "from sklearn.model_selection import GridSearchCV"
   ]
  },
  {
   "cell_type": "code",
   "execution_count": 40,
   "id": "44d8676c",
   "metadata": {},
   "outputs": [],
   "source": [
    "rfr_param_grid = {\n",
    "    'n_estimators': [100, 200],\n",
    "    'max_depth': [10, 20, None],\n",
    "    'max_features': ['sqrt', 'log2']\n",
    "}"
   ]
  },
  {
   "cell_type": "code",
   "execution_count": 41,
   "id": "e867e24d",
   "metadata": {},
   "outputs": [
    {
     "name": "stdout",
     "output_type": "stream",
     "text": [
      "Fitting 5 folds for each of 12 candidates, totalling 60 fits\n"
     ]
    },
    {
     "data": {
      "text/html": [
       "<style>#sk-container-id-1 {\n",
       "  /* Definition of color scheme common for light and dark mode */\n",
       "  --sklearn-color-text: black;\n",
       "  --sklearn-color-line: gray;\n",
       "  /* Definition of color scheme for unfitted estimators */\n",
       "  --sklearn-color-unfitted-level-0: #fff5e6;\n",
       "  --sklearn-color-unfitted-level-1: #f6e4d2;\n",
       "  --sklearn-color-unfitted-level-2: #ffe0b3;\n",
       "  --sklearn-color-unfitted-level-3: chocolate;\n",
       "  /* Definition of color scheme for fitted estimators */\n",
       "  --sklearn-color-fitted-level-0: #f0f8ff;\n",
       "  --sklearn-color-fitted-level-1: #d4ebff;\n",
       "  --sklearn-color-fitted-level-2: #b3dbfd;\n",
       "  --sklearn-color-fitted-level-3: cornflowerblue;\n",
       "\n",
       "  /* Specific color for light theme */\n",
       "  --sklearn-color-text-on-default-background: var(--sg-text-color, var(--theme-code-foreground, var(--jp-content-font-color1, black)));\n",
       "  --sklearn-color-background: var(--sg-background-color, var(--theme-background, var(--jp-layout-color0, white)));\n",
       "  --sklearn-color-border-box: var(--sg-text-color, var(--theme-code-foreground, var(--jp-content-font-color1, black)));\n",
       "  --sklearn-color-icon: #696969;\n",
       "\n",
       "  @media (prefers-color-scheme: dark) {\n",
       "    /* Redefinition of color scheme for dark theme */\n",
       "    --sklearn-color-text-on-default-background: var(--sg-text-color, var(--theme-code-foreground, var(--jp-content-font-color1, white)));\n",
       "    --sklearn-color-background: var(--sg-background-color, var(--theme-background, var(--jp-layout-color0, #111)));\n",
       "    --sklearn-color-border-box: var(--sg-text-color, var(--theme-code-foreground, var(--jp-content-font-color1, white)));\n",
       "    --sklearn-color-icon: #878787;\n",
       "  }\n",
       "}\n",
       "\n",
       "#sk-container-id-1 {\n",
       "  color: var(--sklearn-color-text);\n",
       "}\n",
       "\n",
       "#sk-container-id-1 pre {\n",
       "  padding: 0;\n",
       "}\n",
       "\n",
       "#sk-container-id-1 input.sk-hidden--visually {\n",
       "  border: 0;\n",
       "  clip: rect(1px 1px 1px 1px);\n",
       "  clip: rect(1px, 1px, 1px, 1px);\n",
       "  height: 1px;\n",
       "  margin: -1px;\n",
       "  overflow: hidden;\n",
       "  padding: 0;\n",
       "  position: absolute;\n",
       "  width: 1px;\n",
       "}\n",
       "\n",
       "#sk-container-id-1 div.sk-dashed-wrapped {\n",
       "  border: 1px dashed var(--sklearn-color-line);\n",
       "  margin: 0 0.4em 0.5em 0.4em;\n",
       "  box-sizing: border-box;\n",
       "  padding-bottom: 0.4em;\n",
       "  background-color: var(--sklearn-color-background);\n",
       "}\n",
       "\n",
       "#sk-container-id-1 div.sk-container {\n",
       "  /* jupyter's `normalize.less` sets `[hidden] { display: none; }`\n",
       "     but bootstrap.min.css set `[hidden] { display: none !important; }`\n",
       "     so we also need the `!important` here to be able to override the\n",
       "     default hidden behavior on the sphinx rendered scikit-learn.org.\n",
       "     See: https://github.com/scikit-learn/scikit-learn/issues/21755 */\n",
       "  display: inline-block !important;\n",
       "  position: relative;\n",
       "}\n",
       "\n",
       "#sk-container-id-1 div.sk-text-repr-fallback {\n",
       "  display: none;\n",
       "}\n",
       "\n",
       "div.sk-parallel-item,\n",
       "div.sk-serial,\n",
       "div.sk-item {\n",
       "  /* draw centered vertical line to link estimators */\n",
       "  background-image: linear-gradient(var(--sklearn-color-text-on-default-background), var(--sklearn-color-text-on-default-background));\n",
       "  background-size: 2px 100%;\n",
       "  background-repeat: no-repeat;\n",
       "  background-position: center center;\n",
       "}\n",
       "\n",
       "/* Parallel-specific style estimator block */\n",
       "\n",
       "#sk-container-id-1 div.sk-parallel-item::after {\n",
       "  content: \"\";\n",
       "  width: 100%;\n",
       "  border-bottom: 2px solid var(--sklearn-color-text-on-default-background);\n",
       "  flex-grow: 1;\n",
       "}\n",
       "\n",
       "#sk-container-id-1 div.sk-parallel {\n",
       "  display: flex;\n",
       "  align-items: stretch;\n",
       "  justify-content: center;\n",
       "  background-color: var(--sklearn-color-background);\n",
       "  position: relative;\n",
       "}\n",
       "\n",
       "#sk-container-id-1 div.sk-parallel-item {\n",
       "  display: flex;\n",
       "  flex-direction: column;\n",
       "}\n",
       "\n",
       "#sk-container-id-1 div.sk-parallel-item:first-child::after {\n",
       "  align-self: flex-end;\n",
       "  width: 50%;\n",
       "}\n",
       "\n",
       "#sk-container-id-1 div.sk-parallel-item:last-child::after {\n",
       "  align-self: flex-start;\n",
       "  width: 50%;\n",
       "}\n",
       "\n",
       "#sk-container-id-1 div.sk-parallel-item:only-child::after {\n",
       "  width: 0;\n",
       "}\n",
       "\n",
       "/* Serial-specific style estimator block */\n",
       "\n",
       "#sk-container-id-1 div.sk-serial {\n",
       "  display: flex;\n",
       "  flex-direction: column;\n",
       "  align-items: center;\n",
       "  background-color: var(--sklearn-color-background);\n",
       "  padding-right: 1em;\n",
       "  padding-left: 1em;\n",
       "}\n",
       "\n",
       "\n",
       "/* Toggleable style: style used for estimator/Pipeline/ColumnTransformer box that is\n",
       "clickable and can be expanded/collapsed.\n",
       "- Pipeline and ColumnTransformer use this feature and define the default style\n",
       "- Estimators will overwrite some part of the style using the `sk-estimator` class\n",
       "*/\n",
       "\n",
       "/* Pipeline and ColumnTransformer style (default) */\n",
       "\n",
       "#sk-container-id-1 div.sk-toggleable {\n",
       "  /* Default theme specific background. It is overwritten whether we have a\n",
       "  specific estimator or a Pipeline/ColumnTransformer */\n",
       "  background-color: var(--sklearn-color-background);\n",
       "}\n",
       "\n",
       "/* Toggleable label */\n",
       "#sk-container-id-1 label.sk-toggleable__label {\n",
       "  cursor: pointer;\n",
       "  display: block;\n",
       "  width: 100%;\n",
       "  margin-bottom: 0;\n",
       "  padding: 0.5em;\n",
       "  box-sizing: border-box;\n",
       "  text-align: center;\n",
       "}\n",
       "\n",
       "#sk-container-id-1 label.sk-toggleable__label-arrow:before {\n",
       "  /* Arrow on the left of the label */\n",
       "  content: \"▸\";\n",
       "  float: left;\n",
       "  margin-right: 0.25em;\n",
       "  color: var(--sklearn-color-icon);\n",
       "}\n",
       "\n",
       "#sk-container-id-1 label.sk-toggleable__label-arrow:hover:before {\n",
       "  color: var(--sklearn-color-text);\n",
       "}\n",
       "\n",
       "/* Toggleable content - dropdown */\n",
       "\n",
       "#sk-container-id-1 div.sk-toggleable__content {\n",
       "  max-height: 0;\n",
       "  max-width: 0;\n",
       "  overflow: hidden;\n",
       "  text-align: left;\n",
       "  /* unfitted */\n",
       "  background-color: var(--sklearn-color-unfitted-level-0);\n",
       "}\n",
       "\n",
       "#sk-container-id-1 div.sk-toggleable__content.fitted {\n",
       "  /* fitted */\n",
       "  background-color: var(--sklearn-color-fitted-level-0);\n",
       "}\n",
       "\n",
       "#sk-container-id-1 div.sk-toggleable__content pre {\n",
       "  margin: 0.2em;\n",
       "  border-radius: 0.25em;\n",
       "  color: var(--sklearn-color-text);\n",
       "  /* unfitted */\n",
       "  background-color: var(--sklearn-color-unfitted-level-0);\n",
       "}\n",
       "\n",
       "#sk-container-id-1 div.sk-toggleable__content.fitted pre {\n",
       "  /* unfitted */\n",
       "  background-color: var(--sklearn-color-fitted-level-0);\n",
       "}\n",
       "\n",
       "#sk-container-id-1 input.sk-toggleable__control:checked~div.sk-toggleable__content {\n",
       "  /* Expand drop-down */\n",
       "  max-height: 200px;\n",
       "  max-width: 100%;\n",
       "  overflow: auto;\n",
       "}\n",
       "\n",
       "#sk-container-id-1 input.sk-toggleable__control:checked~label.sk-toggleable__label-arrow:before {\n",
       "  content: \"▾\";\n",
       "}\n",
       "\n",
       "/* Pipeline/ColumnTransformer-specific style */\n",
       "\n",
       "#sk-container-id-1 div.sk-label input.sk-toggleable__control:checked~label.sk-toggleable__label {\n",
       "  color: var(--sklearn-color-text);\n",
       "  background-color: var(--sklearn-color-unfitted-level-2);\n",
       "}\n",
       "\n",
       "#sk-container-id-1 div.sk-label.fitted input.sk-toggleable__control:checked~label.sk-toggleable__label {\n",
       "  background-color: var(--sklearn-color-fitted-level-2);\n",
       "}\n",
       "\n",
       "/* Estimator-specific style */\n",
       "\n",
       "/* Colorize estimator box */\n",
       "#sk-container-id-1 div.sk-estimator input.sk-toggleable__control:checked~label.sk-toggleable__label {\n",
       "  /* unfitted */\n",
       "  background-color: var(--sklearn-color-unfitted-level-2);\n",
       "}\n",
       "\n",
       "#sk-container-id-1 div.sk-estimator.fitted input.sk-toggleable__control:checked~label.sk-toggleable__label {\n",
       "  /* fitted */\n",
       "  background-color: var(--sklearn-color-fitted-level-2);\n",
       "}\n",
       "\n",
       "#sk-container-id-1 div.sk-label label.sk-toggleable__label,\n",
       "#sk-container-id-1 div.sk-label label {\n",
       "  /* The background is the default theme color */\n",
       "  color: var(--sklearn-color-text-on-default-background);\n",
       "}\n",
       "\n",
       "/* On hover, darken the color of the background */\n",
       "#sk-container-id-1 div.sk-label:hover label.sk-toggleable__label {\n",
       "  color: var(--sklearn-color-text);\n",
       "  background-color: var(--sklearn-color-unfitted-level-2);\n",
       "}\n",
       "\n",
       "/* Label box, darken color on hover, fitted */\n",
       "#sk-container-id-1 div.sk-label.fitted:hover label.sk-toggleable__label.fitted {\n",
       "  color: var(--sklearn-color-text);\n",
       "  background-color: var(--sklearn-color-fitted-level-2);\n",
       "}\n",
       "\n",
       "/* Estimator label */\n",
       "\n",
       "#sk-container-id-1 div.sk-label label {\n",
       "  font-family: monospace;\n",
       "  font-weight: bold;\n",
       "  display: inline-block;\n",
       "  line-height: 1.2em;\n",
       "}\n",
       "\n",
       "#sk-container-id-1 div.sk-label-container {\n",
       "  text-align: center;\n",
       "}\n",
       "\n",
       "/* Estimator-specific */\n",
       "#sk-container-id-1 div.sk-estimator {\n",
       "  font-family: monospace;\n",
       "  border: 1px dotted var(--sklearn-color-border-box);\n",
       "  border-radius: 0.25em;\n",
       "  box-sizing: border-box;\n",
       "  margin-bottom: 0.5em;\n",
       "  /* unfitted */\n",
       "  background-color: var(--sklearn-color-unfitted-level-0);\n",
       "}\n",
       "\n",
       "#sk-container-id-1 div.sk-estimator.fitted {\n",
       "  /* fitted */\n",
       "  background-color: var(--sklearn-color-fitted-level-0);\n",
       "}\n",
       "\n",
       "/* on hover */\n",
       "#sk-container-id-1 div.sk-estimator:hover {\n",
       "  /* unfitted */\n",
       "  background-color: var(--sklearn-color-unfitted-level-2);\n",
       "}\n",
       "\n",
       "#sk-container-id-1 div.sk-estimator.fitted:hover {\n",
       "  /* fitted */\n",
       "  background-color: var(--sklearn-color-fitted-level-2);\n",
       "}\n",
       "\n",
       "/* Specification for estimator info (e.g. \"i\" and \"?\") */\n",
       "\n",
       "/* Common style for \"i\" and \"?\" */\n",
       "\n",
       ".sk-estimator-doc-link,\n",
       "a:link.sk-estimator-doc-link,\n",
       "a:visited.sk-estimator-doc-link {\n",
       "  float: right;\n",
       "  font-size: smaller;\n",
       "  line-height: 1em;\n",
       "  font-family: monospace;\n",
       "  background-color: var(--sklearn-color-background);\n",
       "  border-radius: 1em;\n",
       "  height: 1em;\n",
       "  width: 1em;\n",
       "  text-decoration: none !important;\n",
       "  margin-left: 1ex;\n",
       "  /* unfitted */\n",
       "  border: var(--sklearn-color-unfitted-level-1) 1pt solid;\n",
       "  color: var(--sklearn-color-unfitted-level-1);\n",
       "}\n",
       "\n",
       ".sk-estimator-doc-link.fitted,\n",
       "a:link.sk-estimator-doc-link.fitted,\n",
       "a:visited.sk-estimator-doc-link.fitted {\n",
       "  /* fitted */\n",
       "  border: var(--sklearn-color-fitted-level-1) 1pt solid;\n",
       "  color: var(--sklearn-color-fitted-level-1);\n",
       "}\n",
       "\n",
       "/* On hover */\n",
       "div.sk-estimator:hover .sk-estimator-doc-link:hover,\n",
       ".sk-estimator-doc-link:hover,\n",
       "div.sk-label-container:hover .sk-estimator-doc-link:hover,\n",
       ".sk-estimator-doc-link:hover {\n",
       "  /* unfitted */\n",
       "  background-color: var(--sklearn-color-unfitted-level-3);\n",
       "  color: var(--sklearn-color-background);\n",
       "  text-decoration: none;\n",
       "}\n",
       "\n",
       "div.sk-estimator.fitted:hover .sk-estimator-doc-link.fitted:hover,\n",
       ".sk-estimator-doc-link.fitted:hover,\n",
       "div.sk-label-container:hover .sk-estimator-doc-link.fitted:hover,\n",
       ".sk-estimator-doc-link.fitted:hover {\n",
       "  /* fitted */\n",
       "  background-color: var(--sklearn-color-fitted-level-3);\n",
       "  color: var(--sklearn-color-background);\n",
       "  text-decoration: none;\n",
       "}\n",
       "\n",
       "/* Span, style for the box shown on hovering the info icon */\n",
       ".sk-estimator-doc-link span {\n",
       "  display: none;\n",
       "  z-index: 9999;\n",
       "  position: relative;\n",
       "  font-weight: normal;\n",
       "  right: .2ex;\n",
       "  padding: .5ex;\n",
       "  margin: .5ex;\n",
       "  width: min-content;\n",
       "  min-width: 20ex;\n",
       "  max-width: 50ex;\n",
       "  color: var(--sklearn-color-text);\n",
       "  box-shadow: 2pt 2pt 4pt #999;\n",
       "  /* unfitted */\n",
       "  background: var(--sklearn-color-unfitted-level-0);\n",
       "  border: .5pt solid var(--sklearn-color-unfitted-level-3);\n",
       "}\n",
       "\n",
       ".sk-estimator-doc-link.fitted span {\n",
       "  /* fitted */\n",
       "  background: var(--sklearn-color-fitted-level-0);\n",
       "  border: var(--sklearn-color-fitted-level-3);\n",
       "}\n",
       "\n",
       ".sk-estimator-doc-link:hover span {\n",
       "  display: block;\n",
       "}\n",
       "\n",
       "/* \"?\"-specific style due to the `<a>` HTML tag */\n",
       "\n",
       "#sk-container-id-1 a.estimator_doc_link {\n",
       "  float: right;\n",
       "  font-size: 1rem;\n",
       "  line-height: 1em;\n",
       "  font-family: monospace;\n",
       "  background-color: var(--sklearn-color-background);\n",
       "  border-radius: 1rem;\n",
       "  height: 1rem;\n",
       "  width: 1rem;\n",
       "  text-decoration: none;\n",
       "  /* unfitted */\n",
       "  color: var(--sklearn-color-unfitted-level-1);\n",
       "  border: var(--sklearn-color-unfitted-level-1) 1pt solid;\n",
       "}\n",
       "\n",
       "#sk-container-id-1 a.estimator_doc_link.fitted {\n",
       "  /* fitted */\n",
       "  border: var(--sklearn-color-fitted-level-1) 1pt solid;\n",
       "  color: var(--sklearn-color-fitted-level-1);\n",
       "}\n",
       "\n",
       "/* On hover */\n",
       "#sk-container-id-1 a.estimator_doc_link:hover {\n",
       "  /* unfitted */\n",
       "  background-color: var(--sklearn-color-unfitted-level-3);\n",
       "  color: var(--sklearn-color-background);\n",
       "  text-decoration: none;\n",
       "}\n",
       "\n",
       "#sk-container-id-1 a.estimator_doc_link.fitted:hover {\n",
       "  /* fitted */\n",
       "  background-color: var(--sklearn-color-fitted-level-3);\n",
       "}\n",
       "</style><div id=\"sk-container-id-1\" class=\"sk-top-container\"><div class=\"sk-text-repr-fallback\"><pre>GridSearchCV(cv=5, estimator=RandomForestRegressor(), n_jobs=-1,\n",
       "             param_grid={&#x27;max_depth&#x27;: [10, 20, None],\n",
       "                         &#x27;max_features&#x27;: [&#x27;sqrt&#x27;, &#x27;log2&#x27;],\n",
       "                         &#x27;n_estimators&#x27;: [100, 200]},\n",
       "             scoring=&#x27;r2&#x27;, verbose=1)</pre><b>In a Jupyter environment, please rerun this cell to show the HTML representation or trust the notebook. <br />On GitHub, the HTML representation is unable to render, please try loading this page with nbviewer.org.</b></div><div class=\"sk-container\" hidden><div class=\"sk-item sk-dashed-wrapped\"><div class=\"sk-label-container\"><div class=\"sk-label fitted sk-toggleable\"><input class=\"sk-toggleable__control sk-hidden--visually\" id=\"sk-estimator-id-1\" type=\"checkbox\" ><label for=\"sk-estimator-id-1\" class=\"sk-toggleable__label fitted sk-toggleable__label-arrow fitted\">&nbsp;&nbsp;GridSearchCV<a class=\"sk-estimator-doc-link fitted\" rel=\"noreferrer\" target=\"_blank\" href=\"https://scikit-learn.org/1.5/modules/generated/sklearn.model_selection.GridSearchCV.html\">?<span>Documentation for GridSearchCV</span></a><span class=\"sk-estimator-doc-link fitted\">i<span>Fitted</span></span></label><div class=\"sk-toggleable__content fitted\"><pre>GridSearchCV(cv=5, estimator=RandomForestRegressor(), n_jobs=-1,\n",
       "             param_grid={&#x27;max_depth&#x27;: [10, 20, None],\n",
       "                         &#x27;max_features&#x27;: [&#x27;sqrt&#x27;, &#x27;log2&#x27;],\n",
       "                         &#x27;n_estimators&#x27;: [100, 200]},\n",
       "             scoring=&#x27;r2&#x27;, verbose=1)</pre></div> </div></div><div class=\"sk-parallel\"><div class=\"sk-parallel-item\"><div class=\"sk-item\"><div class=\"sk-label-container\"><div class=\"sk-label fitted sk-toggleable\"><input class=\"sk-toggleable__control sk-hidden--visually\" id=\"sk-estimator-id-2\" type=\"checkbox\" ><label for=\"sk-estimator-id-2\" class=\"sk-toggleable__label fitted sk-toggleable__label-arrow fitted\">best_estimator_: RandomForestRegressor</label><div class=\"sk-toggleable__content fitted\"><pre>RandomForestRegressor(max_features=&#x27;log2&#x27;, n_estimators=200)</pre></div> </div></div><div class=\"sk-serial\"><div class=\"sk-item\"><div class=\"sk-estimator fitted sk-toggleable\"><input class=\"sk-toggleable__control sk-hidden--visually\" id=\"sk-estimator-id-3\" type=\"checkbox\" ><label for=\"sk-estimator-id-3\" class=\"sk-toggleable__label fitted sk-toggleable__label-arrow fitted\">&nbsp;RandomForestRegressor<a class=\"sk-estimator-doc-link fitted\" rel=\"noreferrer\" target=\"_blank\" href=\"https://scikit-learn.org/1.5/modules/generated/sklearn.ensemble.RandomForestRegressor.html\">?<span>Documentation for RandomForestRegressor</span></a></label><div class=\"sk-toggleable__content fitted\"><pre>RandomForestRegressor(max_features=&#x27;log2&#x27;, n_estimators=200)</pre></div> </div></div></div></div></div></div></div></div></div>"
      ],
      "text/plain": [
       "GridSearchCV(cv=5, estimator=RandomForestRegressor(), n_jobs=-1,\n",
       "             param_grid={'max_depth': [10, 20, None],\n",
       "                         'max_features': ['sqrt', 'log2'],\n",
       "                         'n_estimators': [100, 200]},\n",
       "             scoring='r2', verbose=1)"
      ]
     },
     "execution_count": 41,
     "metadata": {},
     "output_type": "execute_result"
    }
   ],
   "source": [
    "rfr_grid = GridSearchCV(\n",
    "    estimator  = rfr,\n",
    "    param_grid = rfr_param_grid,\n",
    "    scoring    = 'r2',\n",
    "    cv         = 5,\n",
    "    verbose    = 1,\n",
    "    n_jobs     = -1\n",
    ")\n",
    "rfr_grid.fit(X_train, y_train)"
   ]
  },
  {
   "cell_type": "code",
   "execution_count": 42,
   "id": "b1376399",
   "metadata": {},
   "outputs": [],
   "source": [
    "best_rfr_model = rfr_grid.best_estimator_\n",
    "y_rfr_grid_train_pred = best_rfr_model.predict(X_train)\n",
    "y_rfr_grid_test_pred = best_rfr_model.predict(X_test)"
   ]
  },
  {
   "cell_type": "code",
   "execution_count": 43,
   "id": "e3ef2342",
   "metadata": {},
   "outputs": [],
   "source": [
    "rfr_grid_train_mse = mean_squared_error(y_train, y_rfr_grid_train_pred)\n",
    "rfr_grid_train_r2 = r2_score(y_train, y_rfr_grid_train_pred)\n",
    "\n",
    "rfr_grid_test_mse = mean_squared_error(y_test, y_rfr_grid_test_pred)\n",
    "rfr_grid_test_r2 = r2_score(y_test, y_rfr_grid_test_pred)"
   ]
  },
  {
   "cell_type": "code",
   "execution_count": 44,
   "id": "a0d77e82",
   "metadata": {},
   "outputs": [
    {
     "data": {
      "text/html": [
       "<div>\n",
       "<style scoped>\n",
       "    .dataframe tbody tr th:only-of-type {\n",
       "        vertical-align: middle;\n",
       "    }\n",
       "\n",
       "    .dataframe tbody tr th {\n",
       "        vertical-align: top;\n",
       "    }\n",
       "\n",
       "    .dataframe thead th {\n",
       "        text-align: right;\n",
       "    }\n",
       "</style>\n",
       "<table border=\"1\" class=\"dataframe\">\n",
       "  <thead>\n",
       "    <tr style=\"text-align: right;\">\n",
       "      <th></th>\n",
       "      <th>Method</th>\n",
       "      <th>Training MSE</th>\n",
       "      <th>Training R2</th>\n",
       "      <th>Test MSE</th>\n",
       "      <th>Test R2</th>\n",
       "    </tr>\n",
       "  </thead>\n",
       "  <tbody>\n",
       "    <tr>\n",
       "      <th>0</th>\n",
       "      <td>GridSearchCV on RFR</td>\n",
       "      <td>277641218764.673035</td>\n",
       "      <td>0.998176</td>\n",
       "      <td>1993056425296.252441</td>\n",
       "      <td>0.986006</td>\n",
       "    </tr>\n",
       "  </tbody>\n",
       "</table>\n",
       "</div>"
      ],
      "text/plain": [
       "                Method         Training MSE Training R2              Test MSE  \\\n",
       "0  GridSearchCV on RFR  277641218764.673035    0.998176  1993056425296.252441   \n",
       "\n",
       "    Test R2  \n",
       "0  0.986006  "
      ]
     },
     "execution_count": 44,
     "metadata": {},
     "output_type": "execute_result"
    }
   ],
   "source": [
    "rfr_grid_results = pd.DataFrame(['GridSearchCV on RFR', rfr_grid_train_mse, rfr_grid_train_r2, rfr_grid_test_mse, rfr_grid_test_r2]).transpose()\n",
    "rfr_grid_results.columns = ['Method', 'Training MSE', 'Training R2', 'Test MSE', 'Test R2']\n",
    "rfr_grid_results"
   ]
  },
  {
   "cell_type": "code",
   "execution_count": 45,
   "id": "6eba3c55",
   "metadata": {},
   "outputs": [
    {
     "data": {
      "text/html": [
       "<div>\n",
       "<style scoped>\n",
       "    .dataframe tbody tr th:only-of-type {\n",
       "        vertical-align: middle;\n",
       "    }\n",
       "\n",
       "    .dataframe tbody tr th {\n",
       "        vertical-align: top;\n",
       "    }\n",
       "\n",
       "    .dataframe thead th {\n",
       "        text-align: right;\n",
       "    }\n",
       "</style>\n",
       "<table border=\"1\" class=\"dataframe\">\n",
       "  <thead>\n",
       "    <tr style=\"text-align: right;\">\n",
       "      <th></th>\n",
       "      <th>Method</th>\n",
       "      <th>Training MSE</th>\n",
       "      <th>Training R2</th>\n",
       "      <th>Test MSE</th>\n",
       "      <th>Test R2</th>\n",
       "    </tr>\n",
       "  </thead>\n",
       "  <tbody>\n",
       "    <tr>\n",
       "      <th>0</th>\n",
       "      <td>Linear Regression</td>\n",
       "      <td>39030402025252.09375</td>\n",
       "      <td>0.743603</td>\n",
       "      <td>38411205574113.507812</td>\n",
       "      <td>0.730295</td>\n",
       "    </tr>\n",
       "    <tr>\n",
       "      <th>1</th>\n",
       "      <td>Ridge Regression</td>\n",
       "      <td>39030402025258.007812</td>\n",
       "      <td>0.743603</td>\n",
       "      <td>38411205724529.554688</td>\n",
       "      <td>0.730295</td>\n",
       "    </tr>\n",
       "    <tr>\n",
       "      <th>2</th>\n",
       "      <td>Decision Tree Regression</td>\n",
       "      <td>89146306.470204</td>\n",
       "      <td>0.999999</td>\n",
       "      <td>3917900318077.576172</td>\n",
       "      <td>0.97249</td>\n",
       "    </tr>\n",
       "    <tr>\n",
       "      <th>3</th>\n",
       "      <td>Random Forrest Regression</td>\n",
       "      <td>351002375611.541931</td>\n",
       "      <td>0.997694</td>\n",
       "      <td>2523982686803.61084</td>\n",
       "      <td>0.982278</td>\n",
       "    </tr>\n",
       "    <tr>\n",
       "      <th>4</th>\n",
       "      <td>GridSearchCV on RFR</td>\n",
       "      <td>277641218764.673035</td>\n",
       "      <td>0.998176</td>\n",
       "      <td>1993056425296.252441</td>\n",
       "      <td>0.986006</td>\n",
       "    </tr>\n",
       "  </tbody>\n",
       "</table>\n",
       "</div>"
      ],
      "text/plain": [
       "                      Method           Training MSE Training R2  \\\n",
       "0          Linear Regression   39030402025252.09375    0.743603   \n",
       "1           Ridge Regression  39030402025258.007812    0.743603   \n",
       "2   Decision Tree Regression        89146306.470204    0.999999   \n",
       "3  Random Forrest Regression    351002375611.541931    0.997694   \n",
       "4        GridSearchCV on RFR    277641218764.673035    0.998176   \n",
       "\n",
       "                Test MSE   Test R2  \n",
       "0  38411205574113.507812  0.730295  \n",
       "1  38411205724529.554688  0.730295  \n",
       "2   3917900318077.576172   0.97249  \n",
       "3    2523982686803.61084  0.982278  \n",
       "4   1993056425296.252441  0.986006  "
      ]
     },
     "execution_count": 45,
     "metadata": {},
     "output_type": "execute_result"
    }
   ],
   "source": [
    "model_comp = pd.concat([model_comp, rfr_grid_results], axis = 0).reset_index(drop = True)\n",
    "model_comp"
   ]
  },
  {
   "cell_type": "markdown",
   "id": "149be5d3",
   "metadata": {},
   "source": [
    "### XGBoost Implementation"
   ]
  },
  {
   "cell_type": "code",
   "execution_count": 46,
   "id": "90b20aed",
   "metadata": {},
   "outputs": [],
   "source": [
    "#%pip install xgboost"
   ]
  },
  {
   "cell_type": "code",
   "execution_count": 47,
   "id": "ef5a6d7d",
   "metadata": {},
   "outputs": [
    {
     "name": "stderr",
     "output_type": "stream",
     "text": [
      "c:\\Users\\Jason Gu\\anaconda3\\Lib\\site-packages\\xgboost\\training.py:183: UserWarning: [21:01:08] WARNING: C:\\actions-runner\\_work\\xgboost\\xgboost\\src\\learner.cc:738: \n",
      "Parameters: { \"mx_depth\" } are not used.\n",
      "\n",
      "  bst.update(dtrain, iteration=i, fobj=obj)\n"
     ]
    }
   ],
   "source": [
    "from xgboost import XGBRegressor\n",
    "from sklearn.metrics import make_scorer\n",
    "from sklearn.model_selection import GridSearchCV\n",
    "xgbr = XGBRegressor(objective = 'reg:squarederror', \n",
    "                    tree_method = 'hist',\n",
    "                    n_estimators = 8000, \n",
    "                    learning_rate = 0.015, \n",
    "                    mx_depth = 4).fit(X_train, y_train)"
   ]
  },
  {
   "cell_type": "code",
   "execution_count": 48,
   "id": "c5c4a0e0",
   "metadata": {},
   "outputs": [],
   "source": [
    "# recall\n",
    "y_xgbr_train_pred = xgbr.predict(X_train)\n",
    "\n",
    "# testing\n",
    "y_xgbr_test_pred = xgbr.predict(X_test)"
   ]
  },
  {
   "cell_type": "code",
   "execution_count": 49,
   "id": "ab2313ac",
   "metadata": {},
   "outputs": [
    {
     "data": {
      "image/png": "[encoded data removed]",
      "text/plain": [
       "<Figure size 640x480 with 1 Axes>"
      ]
     },
     "metadata": {},
     "output_type": "display_data"
    }
   ],
   "source": [
    "plt.scatter(x = y_test, y = y_xgbr_test_pred)\n",
    "\n",
    "z = np.polyfit(y_train, y_xgbr_train_pred, 1)\n",
    "p = np.poly1d(z)\n",
    "\n",
    "plt.plot(y_train, p(y_train), color = \"#F78\")\n",
    "\n",
    "plt.title('XGBoost Regression Test Results')\n",
    "plt.xlabel('Actual Monthly Listeners')\n",
    "plt.ylabel('Predicted Monthly Listeners')\n",
    "plt.show()"
   ]
  },
  {
   "cell_type": "code",
   "execution_count": 50,
   "id": "0e07a676",
   "metadata": {},
   "outputs": [
    {
     "data": {
      "image/png": "[encoded data removed]",
      "text/plain": [
       "<Figure size 640x480 with 1 Axes>"
      ]
     },
     "metadata": {},
     "output_type": "display_data"
    }
   ],
   "source": [
    "z = np.polyfit(y_train, y_xgbr_train_pred, 1)\n",
    "p = np.poly1d(z)\n",
    "\n",
    "sns.lineplot(x = y_test, y = p(y_test), color = \"#F87\")\n",
    "sns.scatterplot(x = y_test,\n",
    "                y = y_xgbr_test_pred,\n",
    "                markers=True)\n",
    "plt.show()"
   ]
  },
  {
   "cell_type": "code",
   "execution_count": 51,
   "id": "fe766bac",
   "metadata": {},
   "outputs": [],
   "source": [
    "xgbr_train_mse = mean_squared_error(y_train, y_xgbr_train_pred)\n",
    "xgbr_train_r2 = r2_score(y_train, y_xgbr_train_pred)\n",
    "\n",
    "xgbr_test_mse = mean_squared_error(y_test, y_xgbr_test_pred)\n",
    "xgbr_test_r2 = r2_score(y_test, y_xgbr_test_pred)"
   ]
  },
  {
   "cell_type": "code",
   "execution_count": 52,
   "id": "ca4a6b9e",
   "metadata": {},
   "outputs": [
    {
     "data": {
      "text/html": [
       "<div>\n",
       "<style scoped>\n",
       "    .dataframe tbody tr th:only-of-type {\n",
       "        vertical-align: middle;\n",
       "    }\n",
       "\n",
       "    .dataframe tbody tr th {\n",
       "        vertical-align: top;\n",
       "    }\n",
       "\n",
       "    .dataframe thead th {\n",
       "        text-align: right;\n",
       "    }\n",
       "</style>\n",
       "<table border=\"1\" class=\"dataframe\">\n",
       "  <thead>\n",
       "    <tr style=\"text-align: right;\">\n",
       "      <th></th>\n",
       "      <th>Method</th>\n",
       "      <th>Training MSE</th>\n",
       "      <th>Training R2</th>\n",
       "      <th>Test MSE</th>\n",
       "      <th>Test R2</th>\n",
       "    </tr>\n",
       "  </thead>\n",
       "  <tbody>\n",
       "    <tr>\n",
       "      <th>0</th>\n",
       "      <td>XGBoost Regression</td>\n",
       "      <td>566224055422.700195</td>\n",
       "      <td>0.99628</td>\n",
       "      <td>2549885785970.439453</td>\n",
       "      <td>0.982096</td>\n",
       "    </tr>\n",
       "  </tbody>\n",
       "</table>\n",
       "</div>"
      ],
      "text/plain": [
       "               Method         Training MSE Training R2              Test MSE  \\\n",
       "0  XGBoost Regression  566224055422.700195     0.99628  2549885785970.439453   \n",
       "\n",
       "    Test R2  \n",
       "0  0.982096  "
      ]
     },
     "execution_count": 52,
     "metadata": {},
     "output_type": "execute_result"
    }
   ],
   "source": [
    "xgbr_results = pd.DataFrame(['XGBoost Regression', xgbr_train_mse, xgbr_train_r2, xgbr_test_mse, xgbr_test_r2]).transpose()\n",
    "xgbr_results.columns = ['Method', 'Training MSE',\t'Training R2', 'Test MSE', 'Test R2']\n",
    "xgbr_results"
   ]
  },
  {
   "cell_type": "code",
   "execution_count": 53,
   "id": "fbbf0266",
   "metadata": {},
   "outputs": [
    {
     "data": {
      "text/html": [
       "<div>\n",
       "<style scoped>\n",
       "    .dataframe tbody tr th:only-of-type {\n",
       "        vertical-align: middle;\n",
       "    }\n",
       "\n",
       "    .dataframe tbody tr th {\n",
       "        vertical-align: top;\n",
       "    }\n",
       "\n",
       "    .dataframe thead th {\n",
       "        text-align: right;\n",
       "    }\n",
       "</style>\n",
       "<table border=\"1\" class=\"dataframe\">\n",
       "  <thead>\n",
       "    <tr style=\"text-align: right;\">\n",
       "      <th></th>\n",
       "      <th>Method</th>\n",
       "      <th>Training MSE</th>\n",
       "      <th>Training R2</th>\n",
       "      <th>Test MSE</th>\n",
       "      <th>Test R2</th>\n",
       "    </tr>\n",
       "  </thead>\n",
       "  <tbody>\n",
       "    <tr>\n",
       "      <th>0</th>\n",
       "      <td>Linear Regression</td>\n",
       "      <td>39030402025252.09375</td>\n",
       "      <td>0.743603</td>\n",
       "      <td>38411205574113.507812</td>\n",
       "      <td>0.730295</td>\n",
       "    </tr>\n",
       "    <tr>\n",
       "      <th>1</th>\n",
       "      <td>Ridge Regression</td>\n",
       "      <td>39030402025258.007812</td>\n",
       "      <td>0.743603</td>\n",
       "      <td>38411205724529.554688</td>\n",
       "      <td>0.730295</td>\n",
       "    </tr>\n",
       "    <tr>\n",
       "      <th>2</th>\n",
       "      <td>Decision Tree Regression</td>\n",
       "      <td>89146306.470204</td>\n",
       "      <td>0.999999</td>\n",
       "      <td>3917900318077.576172</td>\n",
       "      <td>0.97249</td>\n",
       "    </tr>\n",
       "    <tr>\n",
       "      <th>3</th>\n",
       "      <td>Random Forrest Regression</td>\n",
       "      <td>351002375611.541931</td>\n",
       "      <td>0.997694</td>\n",
       "      <td>2523982686803.61084</td>\n",
       "      <td>0.982278</td>\n",
       "    </tr>\n",
       "    <tr>\n",
       "      <th>4</th>\n",
       "      <td>GridSearchCV on RFR</td>\n",
       "      <td>277641218764.673035</td>\n",
       "      <td>0.998176</td>\n",
       "      <td>1993056425296.252441</td>\n",
       "      <td>0.986006</td>\n",
       "    </tr>\n",
       "    <tr>\n",
       "      <th>5</th>\n",
       "      <td>XGBoost Regression</td>\n",
       "      <td>566224055422.700195</td>\n",
       "      <td>0.99628</td>\n",
       "      <td>2549885785970.439453</td>\n",
       "      <td>0.982096</td>\n",
       "    </tr>\n",
       "  </tbody>\n",
       "</table>\n",
       "</div>"
      ],
      "text/plain": [
       "                      Method           Training MSE Training R2  \\\n",
       "0          Linear Regression   39030402025252.09375    0.743603   \n",
       "1           Ridge Regression  39030402025258.007812    0.743603   \n",
       "2   Decision Tree Regression        89146306.470204    0.999999   \n",
       "3  Random Forrest Regression    351002375611.541931    0.997694   \n",
       "4        GridSearchCV on RFR    277641218764.673035    0.998176   \n",
       "5         XGBoost Regression    566224055422.700195     0.99628   \n",
       "\n",
       "                Test MSE   Test R2  \n",
       "0  38411205574113.507812  0.730295  \n",
       "1  38411205724529.554688  0.730295  \n",
       "2   3917900318077.576172   0.97249  \n",
       "3    2523982686803.61084  0.982278  \n",
       "4   1993056425296.252441  0.986006  \n",
       "5   2549885785970.439453  0.982096  "
      ]
     },
     "execution_count": 53,
     "metadata": {},
     "output_type": "execute_result"
    }
   ],
   "source": [
    "model_comp = pd.concat([model_comp, xgbr_results], axis = 0).reset_index(drop = True)\n",
    "model_comp"
   ]
  },
  {
   "cell_type": "markdown",
   "id": "c0c69a29",
   "metadata": {},
   "source": [
    "### GridSearchCV on XGBoost"
   ]
  },
  {
   "cell_type": "code",
   "execution_count": 54,
   "id": "f1c7f4a7",
   "metadata": {},
   "outputs": [],
   "source": [
    "xgbr_params_grid = {\n",
    "    'n_estimators'     : [100, 300, 500],\n",
    "    'learning_rate'    : [0.01, 0.05, 0.1],\n",
    "    'max_depth'        : [3, 4, 5],\n",
    "    'subsample'        : [0.8, 1.0],\n",
    "    'colsample_bytree' : [0.8, 1.0]\n",
    "}"
   ]
  },
  {
   "cell_type": "code",
   "execution_count": 55,
   "id": "a7deda32",
   "metadata": {},
   "outputs": [],
   "source": [
    "rmse_scorer = make_scorer(mean_squared_error, greater_is_better=False)"
   ]
  },
  {
   "cell_type": "code",
   "execution_count": 56,
   "id": "36a2729c",
   "metadata": {},
   "outputs": [
    {
     "name": "stdout",
     "output_type": "stream",
     "text": [
      "Fitting 5 folds for each of 108 candidates, totalling 540 fits\n"
     ]
    },
    {
     "name": "stderr",
     "output_type": "stream",
     "text": [
      "c:\\Users\\Jason Gu\\anaconda3\\Lib\\site-packages\\xgboost\\training.py:183: UserWarning: [21:01:43] WARNING: C:\\actions-runner\\_work\\xgboost\\xgboost\\src\\learner.cc:738: \n",
      "Parameters: { \"mx_depth\" } are not used.\n",
      "\n",
      "  bst.update(dtrain, iteration=i, fobj=obj)\n"
     ]
    }
   ],
   "source": [
    "xgbr_grid = GridSearchCV(\n",
    "    estimator  = xgbr,\n",
    "    param_grid = xgbr_params_grid,\n",
    "    scoring    = rmse_scorer,\n",
    "    cv         = 5,\n",
    "    verbose    = 1,\n",
    "    n_jobs     = -1\n",
    ").fit(X_train, y_train)"
   ]
  },
  {
   "cell_type": "code",
   "execution_count": 57,
   "id": "378bf05e",
   "metadata": {},
   "outputs": [],
   "source": [
    "# recall\n",
    "y_xgbr_grid_train_pred = xgbr_grid.predict(X_train)\n",
    "\n",
    "\n",
    "y_xgbr_grid_test_pred = xgbr_grid.predict(X_test)"
   ]
  },
  {
   "cell_type": "code",
   "execution_count": 58,
   "id": "89124911",
   "metadata": {},
   "outputs": [
    {
     "data": {
      "image/png": "[encoded data removed]",
      "text/plain": [
       "<Figure size 640x480 with 1 Axes>"
      ]
     },
     "metadata": {},
     "output_type": "display_data"
    }
   ],
   "source": [
    "z = np.polyfit(y_train, y_xgbr_grid_train_pred, 1)\n",
    "p = np.poly1d(z)\n",
    "\n",
    "sns.lineplot(x = y_test, y = p(y_test), color = \"#F87\")\n",
    "sns.scatterplot(x = y_test,\n",
    "                y = y_xgbr_grid_test_pred,\n",
    "                markers=True)\n",
    "plt.show()"
   ]
  },
  {
   "cell_type": "code",
   "execution_count": 59,
   "id": "115fefe8",
   "metadata": {},
   "outputs": [],
   "source": [
    "xgbr_gird_train_mse = mean_squared_error(y_train, y_xgbr_grid_train_pred)\n",
    "xgbr_grid_train_r2 = r2_score(y_train, y_xgbr_grid_train_pred)\n",
    "\n",
    "xgbr_grid_test_mse = mean_squared_error(y_test, y_xgbr_grid_test_pred)\n",
    "xgbr_grid_test_r2 = r2_score(y_test, y_xgbr_grid_test_pred)"
   ]
  },
  {
   "cell_type": "code",
   "execution_count": 60,
   "id": "e1ba3037",
   "metadata": {},
   "outputs": [
    {
     "data": {
      "text/html": [
       "<div>\n",
       "<style scoped>\n",
       "    .dataframe tbody tr th:only-of-type {\n",
       "        vertical-align: middle;\n",
       "    }\n",
       "\n",
       "    .dataframe tbody tr th {\n",
       "        vertical-align: top;\n",
       "    }\n",
       "\n",
       "    .dataframe thead th {\n",
       "        text-align: right;\n",
       "    }\n",
       "</style>\n",
       "<table border=\"1\" class=\"dataframe\">\n",
       "  <thead>\n",
       "    <tr style=\"text-align: right;\">\n",
       "      <th></th>\n",
       "      <th>Method</th>\n",
       "      <th>Training MSE</th>\n",
       "      <th>Training R2</th>\n",
       "      <th>Test MSE</th>\n",
       "      <th>Test R2</th>\n",
       "    </tr>\n",
       "  </thead>\n",
       "  <tbody>\n",
       "    <tr>\n",
       "      <th>0</th>\n",
       "      <td>GridSearchCV on XGBoost Regression</td>\n",
       "      <td>566224055422.700195</td>\n",
       "      <td>0.99628</td>\n",
       "      <td>2549885785970.439453</td>\n",
       "      <td>0.982096</td>\n",
       "    </tr>\n",
       "  </tbody>\n",
       "</table>\n",
       "</div>"
      ],
      "text/plain": [
       "                               Method         Training MSE Training R2  \\\n",
       "0  GridSearchCV on XGBoost Regression  566224055422.700195     0.99628   \n",
       "\n",
       "               Test MSE   Test R2  \n",
       "0  2549885785970.439453  0.982096  "
      ]
     },
     "execution_count": 60,
     "metadata": {},
     "output_type": "execute_result"
    }
   ],
   "source": [
    "xgbr_grid_results = pd.DataFrame(['GridSearchCV on XGBoost Regression', xgbr_train_mse, xgbr_train_r2, xgbr_test_mse, xgbr_test_r2]).transpose()\n",
    "xgbr_grid_results.columns = ['Method', 'Training MSE',\t'Training R2', 'Test MSE', 'Test R2']\n",
    "xgbr_grid_results"
   ]
  },
  {
   "cell_type": "code",
   "execution_count": 61,
   "id": "060841ac",
   "metadata": {},
   "outputs": [
    {
     "data": {
      "text/html": [
       "<div>\n",
       "<style scoped>\n",
       "    .dataframe tbody tr th:only-of-type {\n",
       "        vertical-align: middle;\n",
       "    }\n",
       "\n",
       "    .dataframe tbody tr th {\n",
       "        vertical-align: top;\n",
       "    }\n",
       "\n",
       "    .dataframe thead th {\n",
       "        text-align: right;\n",
       "    }\n",
       "</style>\n",
       "<table border=\"1\" class=\"dataframe\">\n",
       "  <thead>\n",
       "    <tr style=\"text-align: right;\">\n",
       "      <th></th>\n",
       "      <th>Method</th>\n",
       "      <th>Training MSE</th>\n",
       "      <th>Training R2</th>\n",
       "      <th>Test MSE</th>\n",
       "      <th>Test R2</th>\n",
       "    </tr>\n",
       "  </thead>\n",
       "  <tbody>\n",
       "    <tr>\n",
       "      <th>0</th>\n",
       "      <td>Linear Regression</td>\n",
       "      <td>39030402025252.09375</td>\n",
       "      <td>0.743603</td>\n",
       "      <td>38411205574113.507812</td>\n",
       "      <td>0.730295</td>\n",
       "    </tr>\n",
       "    <tr>\n",
       "      <th>1</th>\n",
       "      <td>Ridge Regression</td>\n",
       "      <td>39030402025258.007812</td>\n",
       "      <td>0.743603</td>\n",
       "      <td>38411205724529.554688</td>\n",
       "      <td>0.730295</td>\n",
       "    </tr>\n",
       "    <tr>\n",
       "      <th>2</th>\n",
       "      <td>Decision Tree Regression</td>\n",
       "      <td>89146306.470204</td>\n",
       "      <td>0.999999</td>\n",
       "      <td>3917900318077.576172</td>\n",
       "      <td>0.97249</td>\n",
       "    </tr>\n",
       "    <tr>\n",
       "      <th>3</th>\n",
       "      <td>Random Forrest Regression</td>\n",
       "      <td>351002375611.541931</td>\n",
       "      <td>0.997694</td>\n",
       "      <td>2523982686803.61084</td>\n",
       "      <td>0.982278</td>\n",
       "    </tr>\n",
       "    <tr>\n",
       "      <th>4</th>\n",
       "      <td>GridSearchCV on RFR</td>\n",
       "      <td>277641218764.673035</td>\n",
       "      <td>0.998176</td>\n",
       "      <td>1993056425296.252441</td>\n",
       "      <td>0.986006</td>\n",
       "    </tr>\n",
       "    <tr>\n",
       "      <th>5</th>\n",
       "      <td>XGBoost Regression</td>\n",
       "      <td>566224055422.700195</td>\n",
       "      <td>0.99628</td>\n",
       "      <td>2549885785970.439453</td>\n",
       "      <td>0.982096</td>\n",
       "    </tr>\n",
       "    <tr>\n",
       "      <th>6</th>\n",
       "      <td>XGBoost Regression</td>\n",
       "      <td>566224055422.700195</td>\n",
       "      <td>0.99628</td>\n",
       "      <td>2549885785970.439453</td>\n",
       "      <td>0.982096</td>\n",
       "    </tr>\n",
       "  </tbody>\n",
       "</table>\n",
       "</div>"
      ],
      "text/plain": [
       "                      Method           Training MSE Training R2  \\\n",
       "0          Linear Regression   39030402025252.09375    0.743603   \n",
       "1           Ridge Regression  39030402025258.007812    0.743603   \n",
       "2   Decision Tree Regression        89146306.470204    0.999999   \n",
       "3  Random Forrest Regression    351002375611.541931    0.997694   \n",
       "4        GridSearchCV on RFR    277641218764.673035    0.998176   \n",
       "5         XGBoost Regression    566224055422.700195     0.99628   \n",
       "6         XGBoost Regression    566224055422.700195     0.99628   \n",
       "\n",
       "                Test MSE   Test R2  \n",
       "0  38411205574113.507812  0.730295  \n",
       "1  38411205724529.554688  0.730295  \n",
       "2   3917900318077.576172   0.97249  \n",
       "3    2523982686803.61084  0.982278  \n",
       "4   1993056425296.252441  0.986006  \n",
       "5   2549885785970.439453  0.982096  \n",
       "6   2549885785970.439453  0.982096  "
      ]
     },
     "execution_count": 61,
     "metadata": {},
     "output_type": "execute_result"
    }
   ],
   "source": [
    "model_comp = pd.concat([model_comp, xgbr_results], axis = 0).reset_index(drop = True)\n",
    "model_comp"
   ]
  },
  {
   "cell_type": "markdown",
   "id": "161981d2",
   "metadata": {},
   "source": [
    "### LightGBM Implementation"
   ]
  },
  {
   "cell_type": "code",
   "execution_count": 62,
   "id": "ad525cb1",
   "metadata": {},
   "outputs": [],
   "source": [
    "import lightgbm as lgb"
   ]
  },
  {
   "cell_type": "code",
   "execution_count": 63,
   "id": "dc23b923",
   "metadata": {},
   "outputs": [
    {
     "name": "stdout",
     "output_type": "stream",
     "text": [
      "[LightGBM] [Info] Auto-choosing col-wise multi-threading, the overhead of testing was 0.000355 seconds.\n",
      "You can set `force_col_wise=true` to remove the overhead.\n",
      "[LightGBM] [Info] Total Bins 706\n",
      "[LightGBM] [Info] Number of data points in the train set: 21937, number of used features: 5\n",
      "[LightGBM] [Info] Start training from score 5423616.713452\n"
     ]
    }
   ],
   "source": [
    "lgbr = lgb.LGBMRegressor().fit(X_train, y_train)"
   ]
  },
  {
   "cell_type": "code",
   "execution_count": 64,
   "id": "13526c6b",
   "metadata": {},
   "outputs": [],
   "source": [
    "# recall measures\n",
    "y_lgbr_train_pred = lgbr.predict(X_train)\n",
    "\n",
    "\n",
    "y_lgbr_test_pred = lgbr.predict(X_test)"
   ]
  },
  {
   "cell_type": "code",
   "execution_count": 65,
   "id": "73846c41",
   "metadata": {},
   "outputs": [
    {
     "data": {
      "image/png": "[encoded data removed]",
      "text/plain": [
       "<Figure size 640x480 with 1 Axes>"
      ]
     },
     "metadata": {},
     "output_type": "display_data"
    }
   ],
   "source": [
    "plt.plot(y_train, p(y_train), \"#F78\")\n",
    "\n",
    "sns.scatterplot(x = y_test, y = y_lgbr_test_pred)\n",
    "plt.show()"
   ]
  },
  {
   "cell_type": "code",
   "execution_count": 66,
   "id": "cc1e2e21",
   "metadata": {},
   "outputs": [],
   "source": [
    "lgbr_train_mse = mean_squared_error(y_train, y_lgbr_train_pred)\n",
    "lgbr_train_r2 = r2_score(y_train, y_lgbr_train_pred)\n",
    "\n",
    "lgbr_test_mse = mean_squared_error(y_test, y_lgbr_test_pred)\n",
    "lgbr_test_r2 = r2_score(y_test, y_lgbr_test_pred)"
   ]
  },
  {
   "cell_type": "code",
   "execution_count": 67,
   "id": "93ea4687",
   "metadata": {},
   "outputs": [],
   "source": [
    "lgbr_results = pd.DataFrame(['LightGBM Regressor', lgbr_train_mse, lgbr_train_r2, lgbr_test_mse, lgbr_test_r2]).transpose()\n",
    "lgbr_results.columns = ['Method', 'Training MSE',\t'Training R2', 'Test MSE', 'Test R2']"
   ]
  },
  {
   "cell_type": "code",
   "execution_count": 68,
   "id": "33e28349",
   "metadata": {},
   "outputs": [
    {
     "data": {
      "text/html": [
       "<div>\n",
       "<style scoped>\n",
       "    .dataframe tbody tr th:only-of-type {\n",
       "        vertical-align: middle;\n",
       "    }\n",
       "\n",
       "    .dataframe tbody tr th {\n",
       "        vertical-align: top;\n",
       "    }\n",
       "\n",
       "    .dataframe thead th {\n",
       "        text-align: right;\n",
       "    }\n",
       "</style>\n",
       "<table border=\"1\" class=\"dataframe\">\n",
       "  <thead>\n",
       "    <tr style=\"text-align: right;\">\n",
       "      <th></th>\n",
       "      <th>Method</th>\n",
       "      <th>Training MSE</th>\n",
       "      <th>Training R2</th>\n",
       "      <th>Test MSE</th>\n",
       "      <th>Test R2</th>\n",
       "    </tr>\n",
       "  </thead>\n",
       "  <tbody>\n",
       "    <tr>\n",
       "      <th>0</th>\n",
       "      <td>Linear Regression</td>\n",
       "      <td>39030402025252.09375</td>\n",
       "      <td>0.743603</td>\n",
       "      <td>38411205574113.507812</td>\n",
       "      <td>0.730295</td>\n",
       "    </tr>\n",
       "    <tr>\n",
       "      <th>1</th>\n",
       "      <td>Ridge Regression</td>\n",
       "      <td>39030402025258.007812</td>\n",
       "      <td>0.743603</td>\n",
       "      <td>38411205724529.554688</td>\n",
       "      <td>0.730295</td>\n",
       "    </tr>\n",
       "    <tr>\n",
       "      <th>2</th>\n",
       "      <td>Decision Tree Regression</td>\n",
       "      <td>89146306.470204</td>\n",
       "      <td>0.999999</td>\n",
       "      <td>3917900318077.576172</td>\n",
       "      <td>0.97249</td>\n",
       "    </tr>\n",
       "    <tr>\n",
       "      <th>3</th>\n",
       "      <td>Random Forrest Regression</td>\n",
       "      <td>351002375611.541931</td>\n",
       "      <td>0.997694</td>\n",
       "      <td>2523982686803.61084</td>\n",
       "      <td>0.982278</td>\n",
       "    </tr>\n",
       "    <tr>\n",
       "      <th>4</th>\n",
       "      <td>GridSearchCV on RFR</td>\n",
       "      <td>277641218764.673035</td>\n",
       "      <td>0.998176</td>\n",
       "      <td>1993056425296.252441</td>\n",
       "      <td>0.986006</td>\n",
       "    </tr>\n",
       "    <tr>\n",
       "      <th>5</th>\n",
       "      <td>XGBoost Regression</td>\n",
       "      <td>566224055422.700195</td>\n",
       "      <td>0.99628</td>\n",
       "      <td>2549885785970.439453</td>\n",
       "      <td>0.982096</td>\n",
       "    </tr>\n",
       "    <tr>\n",
       "      <th>6</th>\n",
       "      <td>XGBoost Regression</td>\n",
       "      <td>566224055422.700195</td>\n",
       "      <td>0.99628</td>\n",
       "      <td>2549885785970.439453</td>\n",
       "      <td>0.982096</td>\n",
       "    </tr>\n",
       "    <tr>\n",
       "      <th>7</th>\n",
       "      <td>LightGBM Regressor</td>\n",
       "      <td>4144978912889.751465</td>\n",
       "      <td>0.972771</td>\n",
       "      <td>4843319226573.392578</td>\n",
       "      <td>0.965993</td>\n",
       "    </tr>\n",
       "  </tbody>\n",
       "</table>\n",
       "</div>"
      ],
      "text/plain": [
       "                      Method           Training MSE Training R2  \\\n",
       "0          Linear Regression   39030402025252.09375    0.743603   \n",
       "1           Ridge Regression  39030402025258.007812    0.743603   \n",
       "2   Decision Tree Regression        89146306.470204    0.999999   \n",
       "3  Random Forrest Regression    351002375611.541931    0.997694   \n",
       "4        GridSearchCV on RFR    277641218764.673035    0.998176   \n",
       "5         XGBoost Regression    566224055422.700195     0.99628   \n",
       "6         XGBoost Regression    566224055422.700195     0.99628   \n",
       "7         LightGBM Regressor   4144978912889.751465    0.972771   \n",
       "\n",
       "                Test MSE   Test R2  \n",
       "0  38411205574113.507812  0.730295  \n",
       "1  38411205724529.554688  0.730295  \n",
       "2   3917900318077.576172   0.97249  \n",
       "3    2523982686803.61084  0.982278  \n",
       "4   1993056425296.252441  0.986006  \n",
       "5   2549885785970.439453  0.982096  \n",
       "6   2549885785970.439453  0.982096  \n",
       "7   4843319226573.392578  0.965993  "
      ]
     },
     "execution_count": 68,
     "metadata": {},
     "output_type": "execute_result"
    }
   ],
   "source": [
    "model_comp = pd.concat([model_comp, lgbr_results], axis = 0).reset_index(drop = True)\n",
    "model_comp"
   ]
  },
  {
   "cell_type": "markdown",
   "id": "1eeaeb6f",
   "metadata": {},
   "source": [
    "### Unseen Data Testing"
   ]
  },
  {
   "cell_type": "code",
   "execution_count": 114,
   "id": "6e3d99a2",
   "metadata": {},
   "outputs": [],
   "source": [
    "artist_stats = []\n",
    "artist_name = 'Knock2'\n",
    "popularity = 62\n",
    "followers = 143558\n",
    "first_release_year = 2018\n",
    "last_release_year = 2025\n",
    "active_years = last_release_year - first_release_year\n",
    "log_followers = np.log1p(followers)"
   ]
  },
  {
   "cell_type": "code",
   "execution_count": 115,
   "id": "e7ee1a67",
   "metadata": {},
   "outputs": [
    {
     "data": {
      "text/html": [
       "<div>\n",
       "<style scoped>\n",
       "    .dataframe tbody tr th:only-of-type {\n",
       "        vertical-align: middle;\n",
       "    }\n",
       "\n",
       "    .dataframe tbody tr th {\n",
       "        vertical-align: top;\n",
       "    }\n",
       "\n",
       "    .dataframe thead th {\n",
       "        text-align: right;\n",
       "    }\n",
       "</style>\n",
       "<table border=\"1\" class=\"dataframe\">\n",
       "  <thead>\n",
       "    <tr style=\"text-align: right;\">\n",
       "      <th></th>\n",
       "      <th>popularity</th>\n",
       "      <th>followers</th>\n",
       "      <th>first_release_year</th>\n",
       "      <th>last_release_year</th>\n",
       "      <th>log_followers</th>\n",
       "    </tr>\n",
       "  </thead>\n",
       "  <tbody>\n",
       "    <tr>\n",
       "      <th>0</th>\n",
       "      <td>62.0</td>\n",
       "      <td>143558.0</td>\n",
       "      <td>2018.0</td>\n",
       "      <td>2025.0</td>\n",
       "      <td>11.874501</td>\n",
       "    </tr>\n",
       "  </tbody>\n",
       "</table>\n",
       "</div>"
      ],
      "text/plain": [
       "   popularity  followers  first_release_year  last_release_year  log_followers\n",
       "0        62.0   143558.0              2018.0             2025.0      11.874501"
      ]
     },
     "execution_count": 115,
     "metadata": {},
     "output_type": "execute_result"
    }
   ],
   "source": [
    "artist_stats = pd.DataFrame([popularity, followers, first_release_year, last_release_year, log_followers]).transpose()\n",
    "artist_stats.columns = ['popularity', 'followers', 'first_release_year', 'last_release_year', 'log_followers']\n",
    "artist_stats.head()"
   ]
  },
  {
   "cell_type": "code",
   "execution_count": 125,
   "id": "1b4c1e12",
   "metadata": {},
   "outputs": [],
   "source": [
    "artist_monthly_listens = rfr_grid.predict(artist_stats)"
   ]
  },
  {
   "cell_type": "code",
   "execution_count": 126,
   "id": "5b30f487",
   "metadata": {},
   "outputs": [],
   "source": [
    "artist_monthly_listens = int(artist_monthly_listens[0])"
   ]
  },
  {
   "cell_type": "code",
   "execution_count": 127,
   "id": "2ead0f57",
   "metadata": {},
   "outputs": [
    {
     "name": "stdout",
     "output_type": "stream",
     "text": [
      "Knock2's predicted monthly listeners is around 2712918!\n"
     ]
    }
   ],
   "source": [
    "print(f\"{artist_name}'s predicted monthly listeners is around {artist_monthly_listens}!\")"
   ]
  },
  {
   "cell_type": "code",
   "execution_count": null,
   "id": "2d79e798",
   "metadata": {},
   "outputs": [],
   "source": []
  }
 ],
 "metadata": {
  "kernelspec": {
   "display_name": "base",
   "language": "python",
   "name": "python3"
  },
  "language_info": {
   "codemirror_mode": {
    "name": "ipython",
    "version": 3
   },
   "file_extension": ".py",
   "mimetype": "text/x-python",
   "name": "python",
   "nbconvert_exporter": "python",
   "pygments_lexer": "ipython3",
   "version": "3.12.7"
  }
 },
 "nbformat": 4,
 "nbformat_minor": 5
}
